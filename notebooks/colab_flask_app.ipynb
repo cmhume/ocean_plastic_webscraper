{
 "cells": [
  {
   "cell_type": "code",
   "execution_count": 1,
   "metadata": {
    "colab": {
     "base_uri": "https://localhost:8080/"
    },
    "executionInfo": {
     "elapsed": 14444,
     "status": "ok",
     "timestamp": 1635101022631,
     "user": {
      "displayName": "Corinne Hume",
      "photoUrl": "https://lh3.googleusercontent.com/a/default-user=s64",
      "userId": "11456311795283441105"
     },
     "user_tz": 420
    },
    "id": "ivS4gGjhItlG",
    "outputId": "665cc39b-3460-48eb-c211-970e0b80aa32"
   },
   "outputs": [
    {
     "name": "stdout",
     "output_type": "stream",
     "text": [
      "Requirement already satisfied: newspaper3k in c:\\users\\corinne\\anaconda3\\envs\\pythondata\\lib\\site-packages (0.2.8)\n",
      "Requirement already satisfied: cssselect>=0.9.2 in c:\\users\\corinne\\anaconda3\\envs\\pythondata\\lib\\site-packages (from newspaper3k) (1.1.0)\n",
      "Requirement already satisfied: nltk>=3.2.1 in c:\\users\\corinne\\anaconda3\\envs\\pythondata\\lib\\site-packages (from newspaper3k) (3.5)\n",
      "Requirement already satisfied: Pillow>=3.3.0 in c:\\users\\corinne\\anaconda3\\envs\\pythondata\\lib\\site-packages (from newspaper3k) (8.0.1)\n",
      "Requirement already satisfied: jieba3k>=0.35.1 in c:\\users\\corinne\\anaconda3\\envs\\pythondata\\lib\\site-packages (from newspaper3k) (0.35.1)\n",
      "Requirement already satisfied: feedfinder2>=0.0.4 in c:\\users\\corinne\\anaconda3\\envs\\pythondata\\lib\\site-packages (from newspaper3k) (0.0.4)\n",
      "Requirement already satisfied: tinysegmenter==0.3 in c:\\users\\corinne\\anaconda3\\envs\\pythondata\\lib\\site-packages (from newspaper3k) (0.3)\n",
      "Requirement already satisfied: python-dateutil>=2.5.3 in c:\\users\\corinne\\anaconda3\\envs\\pythondata\\lib\\site-packages (from newspaper3k) (2.8.1)\n",
      "Requirement already satisfied: tldextract>=2.0.1 in c:\\users\\corinne\\anaconda3\\envs\\pythondata\\lib\\site-packages (from newspaper3k) (3.1.2)\n",
      "Requirement already satisfied: lxml>=3.6.0 in c:\\users\\corinne\\anaconda3\\envs\\pythondata\\lib\\site-packages (from newspaper3k) (4.6.1)\n",
      "Requirement already satisfied: requests>=2.10.0 in c:\\users\\corinne\\anaconda3\\envs\\pythondata\\lib\\site-packages (from newspaper3k) (2.24.0)\n",
      "Requirement already satisfied: beautifulsoup4>=4.4.1 in c:\\users\\corinne\\anaconda3\\envs\\pythondata\\lib\\site-packages (from newspaper3k) (4.9.3)\n",
      "Requirement already satisfied: feedparser>=5.2.1 in c:\\users\\corinne\\anaconda3\\envs\\pythondata\\lib\\site-packages (from newspaper3k) (6.0.8)\n",
      "Requirement already satisfied: PyYAML>=3.11 in c:\\users\\corinne\\anaconda3\\envs\\pythondata\\lib\\site-packages (from newspaper3k) (5.3.1)\n",
      "Requirement already satisfied: tqdm in c:\\users\\corinne\\anaconda3\\envs\\pythondata\\lib\\site-packages (from nltk>=3.2.1->newspaper3k) (4.50.2)\n",
      "Requirement already satisfied: click in c:\\users\\corinne\\anaconda3\\envs\\pythondata\\lib\\site-packages (from nltk>=3.2.1->newspaper3k) (7.1.2)\n",
      "Requirement already satisfied: regex in c:\\users\\corinne\\anaconda3\\envs\\pythondata\\lib\\site-packages (from nltk>=3.2.1->newspaper3k) (2020.10.15)\n",
      "Requirement already satisfied: joblib in c:\\users\\corinne\\anaconda3\\envs\\pythondata\\lib\\site-packages (from nltk>=3.2.1->newspaper3k) (0.17.0)\n",
      "Requirement already satisfied: six in c:\\users\\corinne\\anaconda3\\envs\\pythondata\\lib\\site-packages (from feedfinder2>=0.0.4->newspaper3k) (1.15.0)\n",
      "Requirement already satisfied: filelock>=3.0.8 in c:\\users\\corinne\\anaconda3\\envs\\pythondata\\lib\\site-packages (from tldextract>=2.0.1->newspaper3k) (3.0.12)\n",
      "Requirement already satisfied: idna in c:\\users\\corinne\\anaconda3\\envs\\pythondata\\lib\\site-packages (from tldextract>=2.0.1->newspaper3k) (2.10)\n",
      "Requirement already satisfied: requests-file>=1.4 in c:\\users\\corinne\\anaconda3\\envs\\pythondata\\lib\\site-packages (from tldextract>=2.0.1->newspaper3k) (1.5.1)\n",
      "Requirement already satisfied: chardet<4,>=3.0.2 in c:\\users\\corinne\\anaconda3\\envs\\pythondata\\lib\\site-packages (from requests>=2.10.0->newspaper3k) (3.0.4)\n",
      "Requirement already satisfied: urllib3!=1.25.0,!=1.25.1,<1.26,>=1.21.1 in c:\\users\\corinne\\anaconda3\\envs\\pythondata\\lib\\site-packages (from requests>=2.10.0->newspaper3k) (1.25.11)\n",
      "Requirement already satisfied: certifi>=2017.4.17 in c:\\users\\corinne\\anaconda3\\envs\\pythondata\\lib\\site-packages (from requests>=2.10.0->newspaper3k) (2020.6.20)\n",
      "Requirement already satisfied: soupsieve>1.2; python_version >= \"3.0\" in c:\\users\\corinne\\anaconda3\\envs\\pythondata\\lib\\site-packages (from beautifulsoup4>=4.4.1->newspaper3k) (2.0.1)\n",
      "Requirement already satisfied: sgmllib3k in c:\\users\\corinne\\anaconda3\\envs\\pythondata\\lib\\site-packages (from feedparser>=5.2.1->newspaper3k) (1.0.0)\n"
     ]
    }
   ],
   "source": [
    "# Install Newspaper3k Library\n",
    "!pip install newspaper3k"
   ]
  },
  {
   "cell_type": "code",
   "execution_count": 2,
   "metadata": {
    "colab": {
     "base_uri": "https://localhost:8080/"
    },
    "executionInfo": {
     "elapsed": 2214,
     "status": "ok",
     "timestamp": 1635101024817,
     "user": {
      "displayName": "Corinne Hume",
      "photoUrl": "https://lh3.googleusercontent.com/a/default-user=s64",
      "userId": "11456311795283441105"
     },
     "user_tz": 420
    },
    "id": "YAHdTnzSIyuj",
    "outputId": "d5d23046-c68f-4785-ba6b-876c58ace3e7"
   },
   "outputs": [
    {
     "name": "stderr",
     "output_type": "stream",
     "text": [
      "[nltk_data] Downloading package punkt to\n",
      "[nltk_data]     C:\\Users\\Corinne\\AppData\\Roaming\\nltk_data...\n",
      "[nltk_data]   Package punkt is already up-to-date!\n"
     ]
    },
    {
     "data": {
      "text/plain": [
       "True"
      ]
     },
     "execution_count": 2,
     "metadata": {},
     "output_type": "execute_result"
    }
   ],
   "source": [
    "# Imports for Newspaper3k Library\n",
    "import pandas as pd\n",
    "import newspaper\n",
    "from newspaper import Article\n",
    "import nltk\n",
    "nltk.download('punkt')"
   ]
  },
  {
   "cell_type": "markdown",
   "metadata": {
    "id": "kmK78EpoJPCd"
   },
   "source": [
    "## Scraping multiple urls"
   ]
  },
  {
   "cell_type": "code",
   "execution_count": 3,
   "metadata": {
    "executionInfo": {
     "elapsed": 19122,
     "status": "ok",
     "timestamp": 1635101053449,
     "user": {
      "displayName": "Corinne Hume",
      "photoUrl": "https://lh3.googleusercontent.com/a/default-user=s64",
      "userId": "11456311795283441105"
     },
     "user_tz": 420
    },
    "id": "jGu1XGz2I6t3"
   },
   "outputs": [],
   "source": [
    "# Define list of urls\n",
    "list_of_urls = ['https://ellenmacarthurfoundation.org/topics/plastics/latest-content',\n",
    "                'https://www.nytimes.com/search?dropmab=false&query=ocean%20plastic&sort=newest',\n",
    "                'https://www.worldwildlife.org/search?cx=003443374396369277624%3Av3nraqhmeyk&ie=UTF-8&x=ocean+plastic&cat=stories#gsc.tab=0&gsc.q=[…]ic&gsc.sort=date',\n",
    "                'https://news.un.org/en/search/ocean%20plastic', 'https://oceanconservancy.org/newsroom/press-releases/?_search=ocean%20plastic', \n",
    "                'https://www.linkedin.com/search/results/content/?keywords=ocean%20plastic&origin=SWITCH_SEARCH_VERTICAL&sid=FrD']\n",
    "  \n",
    "# Parse through each url and display its content\n",
    "top_articles = []\n",
    "\n",
    "for url in list_of_urls:\n",
    "    url_site = newspaper.build(url=\"%s\" % (url), language='en', memoize_articles=False)\n",
    "    \n",
    "    # Loop through top 5 articles on each websites\n",
    "    for i in range(0,5):\n",
    "\n",
    "    # Create dictionary to hold title, summary, and url from for loop \n",
    "      news = {}\n",
    "      article = url_site.articles[i]\n",
    "      article.download()\n",
    "      article.parse()\n",
    "      article.nlp()\n",
    "      top_articles.append(article)\n",
    "      news['title'] = article.title\n",
    "      news['summary']= article.summary\n",
    "      news['url'] = article.url\n",
    "      news['pic'] = article.top_image\n",
    "      news['source'] = article.authors\n",
    "      news['date'] = article.publish_date\n",
    "      top_articles.append(news)"
   ]
  },
  {
   "cell_type": "code",
   "execution_count": null,
   "metadata": {
    "id": "Wp2KILkYu1L4"
   },
   "outputs": [],
   "source": [
    "# Define list of urls\n",
    "list_of_urls = ['https://ellenmacarthurfoundation.org/topics/plastics/latest-content',\n",
    "                'https://www.nytimes.com/search?dropmab=false&query=ocean%20plastic&sort=newest',\n",
    "                'https://www.worldwildlife.org/search?cx=003443374396369277624%3Av3nraqhmeyk&ie=UTF-8&x=ocean+plastic&cat=stories#gsc.tab=0&gsc.q=[…]ic&gsc.sort=date',\n",
    "                'https://news.un.org/en/search/ocean%20plastic', 'https://oceanconservancy.org/newsroom/press-releases/?_search=ocean%20plastic', \n",
    "                'https://www.linkedin.com/search/results/content/?keywords=ocean%20plastic&origin=SWITCH_SEARCH_VERTICAL&sid=FrD']\n",
    "\n",
    "# Parse through each url and display its content\n",
    "top_articles = []\n",
    "\n",
    "for url in list_of_urls:\n",
    "    url_site = newspaper.build(url=\"%s\" % (url), language='en', memoize_articles=False)\n",
    "    \n",
    "    # Loop through top 5 articles on each websites\n",
    "    for i in range(0,5):\n",
    "\n",
    "    # Create dictionary to hold title, summary, and url from for loop \n",
    "      news = {}\n",
    "      article = url_site.articles[i]\n",
    "      article.download()\n",
    "      article.parse()\n",
    "      article.nlp()\n",
    "      top_articles.append(article)\n",
    "      news['title'] = article.title\n",
    "      news['summary']= article.summary\n",
    "      news['url'] = article.url\n",
    "      news['pic'] = article.top_image\n",
    "      news['source'] = article.authors\n",
    "      news['date'] = article.publish_date\n",
    "      top_articles.append(news)"
   ]
  },
  {
   "cell_type": "code",
   "execution_count": 25,
   "metadata": {
    "colab": {
     "base_uri": "https://localhost:8080/"
    },
    "executionInfo": {
     "elapsed": 256,
     "status": "ok",
     "timestamp": 1635102087798,
     "user": {
      "displayName": "Corinne Hume",
      "photoUrl": "https://lh3.googleusercontent.com/a/default-user=s64",
      "userId": "11456311795283441105"
     },
     "user_tz": 420
    },
    "id": "XmxeMbphrcBG",
    "outputId": "57ee30c2-9e43-4d7c-d349-1fe95f256958"
   },
   "outputs": [
    {
     "data": {
      "text/plain": [
       "[<newspaper.article.Article at 0x7f490c0e33d0>,\n",
       " {'date': None,\n",
       "  'pic': 'https://images.ctfassets.net/isq5xwjfoz2m/49bjLLS5PcxK4thbilFOXH/bc8c1ed0e610c37fcb8bd6a877ffe7be/MP_-_Plastics_-_Plastics_Pact.png',\n",
       "  'source': [],\n",
       "  'summary': 'Launched today in Nairobi, the Kenya Plastics Pact (KPP) is led by the Sustainable Inclusive Business (SIB) with the support of WRAP and MAVA, and becomes the second Pact in Africa.\\nAt the time of launch, the Kenya Plastics Pact membership already covered the entire plastics value chain with leading organizations from across the country.\\nKPP will work towards the common vision, shared by over 1000 organisations around the world as part of the New Plastics Economy Global Commitment and Plastics Pact Network.\\n“ \"I am delighted to welcome the Kenya Plastics Pact to the Ellen MacArthur Foundation’s global Plastics Pact Network.\\nThis combined energy will change the story for plastics.”\\ufeff - Karin Boomsma, Director, Sustainable Inclusive BusinessThe second African Plastics Pact is welcoming additional members from across the value chain.',\n",
       "  'title': 'Kenya joins the global Plastics Pact Network',\n",
       "  'url': 'https://ellenmacarthurfoundation.org/news/kenya-joins-the-global-plastics-pact-network'},\n",
       " <newspaper.article.Article at 0x7f490c0e32d0>,\n",
       " {'date': None,\n",
       "  'pic': 'https://images.ctfassets.net/isq5xwjfoz2m/diR82IZVNzC7hqfwm3nmL/8a2410c33728cfdadefaad2947e84424/MP_-_News_-_UN_Treaty_white_paper.jpg',\n",
       "  'source': [],\n",
       "  'summary': 'Businesses and governments have committed to change how we produce, use, and reuse plastic, with concrete 2025 targets and year-on-year reporting.\\nHowever, voluntary agreements alone are not enough.\\nA global treaty for a circular economy for plastics is the next necessary step, if we are to scale the successful voluntary agreements already in place.\\nBy setting out global goals and legally binding targets, together with national action plans and consistent measurement, a UN Treaty will:harmonise policy effortsenhance investment planningstimulate innovationand coordinate infrastructure development.\\nWe call on all governments, industry, and civil society to urgently work together towards a common understanding of the main building blocks for a new UN Treaty on plastic pollution, and to agree on establishing an international negotiating committee at UNEA 5.2 in February 2022.',\n",
       "  'title': 'New white paper on a UN treaty to address plastic pollution',\n",
       "  'url': 'https://ellenmacarthurfoundation.org/news/new-white-paper-on-a-un-treaty-to-address-plastic-pollution'},\n",
       " <newspaper.article.Article at 0x7f490c0e34d0>,\n",
       " {'date': None,\n",
       "  'pic': 'https://images.ctfassets.net/isq5xwjfoz2m/NZNMzCw4B0lLQW8qmH7PR/a76f8dd3dda9077091251ea1726c9e63/MP_-_News_-_Empowering_investors_to_engage_with_companies_on_plastic_waste_and_pollution.jpg',\n",
       "  'source': [],\n",
       "  'summary': 'The PRI (UN Principles for Responsible Investment) have published new guidance for investors on how to engage with companies on plastic waste and pollution.\\nWith expert contribution from the Foundation, the Investor Engagement Guides set out how investors can address the challenge of plastic waste and pollution by engaging with companies along the plastics value chain, and assessing their circular economy performance.\\nThe guidance is the first comprehensive and practical framework for investors to mitigate risks related to investments in plastic packaging, and focuses on four key sectors across the plastics value chain:petrochemicalscontainers and packaging producersfast-moving consumer goods (FMCGs)waste managementInnovation, customer preferences, and stricter legislation are rapidly transforming the plastics sector and creating opportunities and risks for investors.\\nBy engaging with large users, producers, and recyclers of plastic packaging and asking them to take action on their portfolio, investors have an opportunity to address plastic waste and pollution.\\nUsing the New Plastics Economy Global Commitment as a framework, the guides will increase pressure on businesses to adopt circular economy principles, set ambitious time-bound targets, and report transparently on progress towards a circular economy for plastic.',\n",
       "  'title': 'Empowering investors to engage with companies on plastic waste and pollution',\n",
       "  'url': 'https://ellenmacarthurfoundation.org/news/empowering-investors-to-engage-with-companies-on-plastic-waste-and-pollution'},\n",
       " <newspaper.article.Article at 0x7f490c0e3590>,\n",
       " {'date': None,\n",
       "  'pic': 'https://images.ctfassets.net/isq5xwjfoz2m/60QV760J6Cfxi2Vp15gkQ8/fbfc641d0ce8b704e9f07fe63a7cf4e9/MP_-_News_-_EPR.png',\n",
       "  'source': [],\n",
       "  'summary': 'For a circular economy, packaging that can’t be eliminated or reused must be collected, sorted and recycled or composted after use.\\nBut currently the economics do not stack up: collection, sorting and recycling or processing packaging costs more than the revenues made from selling the recycled materials.\\nWe need dedicated, ongoing and sufficient funding to make the economics of recycling work.\\nThis statement and the supporting position paper set out why mandatory, fee-based EPR is the only proven and likely way to provide this funding.\\nThe live launch was moderated by Louise Boyle, Senior Climate Correspondent at The Independent with guests:Guillermo González, Head of Circular Economy Office, Ministry of the Environment, ChileMaarten Dubois, Project Lead Circular Economy, OECDMatt Demorais, Corporate Affairs Director, UnileverSara Wingstrand, Programme Manager at the Ellen MacArthur Foundation.',\n",
       "  'title': '+100 leading businesses call for EPR for packaging',\n",
       "  'url': 'https://ellenmacarthurfoundation.org/news/100-leading-businesses-call-for-epr-for-packaging'},\n",
       " <newspaper.article.Article at 0x7f490c0e3650>,\n",
       " {'date': None,\n",
       "  'pic': 'https://images.ctfassets.net/isq5xwjfoz2m/3JXTqDDWU6y4WegdqnzKH/a02145ef3e38f813a334f8e8abdc59e0/MP_-_News_-_Build_a_better_future_with_LEGO_group.jpg',\n",
       "  'source': [],\n",
       "  'summary': 'The one-hour event — Building a better future: exploring the circular economy with LEGO® bricks — will be live-streamed on our YouTube channel on Tuesday, 18th May, 14.00 GMT+1.\\nHosted by the Foundation’s circular economy experts and members of the LEGO Group team, the session will focus on the importance of harnessing creativity in the transition to a circular economy — a new way to design, make, and use things that’s better for people and the planet.\\nAs we work towards creating a circular economy, creativity, innovation, and problem-solving are becoming essential skills.\\nThe event will encourage participants to use those skills, using LEGO bricks to bring their vision of a better future to life.',\n",
       "  'title': 'Build a better future with the Foundation and the LEGO Group',\n",
       "  'url': 'https://ellenmacarthurfoundation.org/news/build-a-better-future-with-the-foundation-and-the-lego-group'},\n",
       " <newspaper.article.Article at 0x7f4917815f90>,\n",
       " {'date': datetime.datetime(2021, 10, 20, 0, 0),\n",
       "  'pic': 'https://static01.nyt.com/images/2021/10/24/magazine/24mag-Sharks-22/24mag-Sharks-22-facebookJumbo.jpg',\n",
       "  'source': ['C. J. Chivers', 'C.J. Chivers', 'Photographs Tyler Hicks'],\n",
       "  'summary': 'Over the past decade the waters around Cape Cod have become host to one of the densest seasonal concentrations of adult white sharks in the world.\\nThis year OCEARCH worked in federal waters within sight of Cape Cod before moving to New Hampshire and Canada.\\nOn Sept. 30, one of those fish, an immature female almost 10 feet long, pinged in Cape Cod Bay.\\nThe attack jolted coastal Maine and reminded the Cape Cod Ocean Community of how much it still wanted done.\\nLike the Cape Cod Ocean Community, Sexton chafes at bureaucracy and dismisses sections of the Woods Hole Group Report.',\n",
       "  'title': 'Fear on Cape Cod as Sharks Hunt Again',\n",
       "  'url': 'https://www.nytimes.com/interactive/2021/10/20/magazine/sharks-cape-cod.html?searchResultPosition=1'},\n",
       " <newspaper.article.Article at 0x7f4917815ed0>,\n",
       " {'date': datetime.datetime(2021, 10, 14, 0, 0),\n",
       "  'pic': 'https://static01.nyt.com/images/2021/10/14/climate/14cli-biodiversity1/14cli-biodiversity1-facebookJumbo.jpg',\n",
       "  'source': ['Catrin Einhorn'],\n",
       "  'summary': 'Climate change is only one driver of biodiversity loss.\\nFor now, the major culprit on land is humans destroying habitat through activities like farming, mining and logging.\\n“This is the equivalent of having a flat tire and a dead battery in your car at the same time.\\nWhile this virtual portion was largely about drumming up political will, nations will meet again in China in the spring to ratify a series of targets aimed at tackling biodiversity loss.\\nLast year, officials reported that the world’s nations largely failed to achieve the targets of the previous global agreement on biodiversity, made in 2010.',\n",
       "  'title': 'The Most Important Global Meeting You’ve Probably Never Heard Of Is Now',\n",
       "  'url': 'https://www.nytimes.com/2021/10/14/climate/un-biodiversity-conference-climate-change.html?searchResultPosition=2'},\n",
       " <newspaper.article.Article at 0x7f4916150b50>,\n",
       " {'date': datetime.datetime(2021, 10, 8, 0, 0),\n",
       "  'pic': 'https://static01.nyt.com/images/2021/10/09/multimedia/09sp-sailing-speed-inyt1/09sp-sailing-speed-inyt1-facebookJumbo.jpg',\n",
       "  'source': ['Kimball Livingston'],\n",
       "  'summary': 'A generation ago, sailing would not, could not have made the short list of team sports played at highway speeds.\\nThe boats that most people race are considered fast at nine knots; screaming at 15.\\nIn SailGP lingo, the controller can fly the boat higher or lower.\\nHigher is faster, but riskier because it also gets the boat closer to a nosedive.\\nThe boats also require a new breed of helmsmen — they call themselves drivers — who direct the rapid-fire team choreography in which decisions must be made in fractions of a second.',\n",
       "  'title': 'The Blistering Speed of SailGP',\n",
       "  'url': 'https://www.nytimes.com/2021/10/08/sports/sailing/sailgp-catamarans-speed.html?searchResultPosition=3'},\n",
       " <newspaper.article.Article at 0x7f491781b090>,\n",
       " {'date': datetime.datetime(2021, 10, 4, 0, 0),\n",
       "  'pic': 'https://static01.nyt.com/images/2021/10/07/fashion/RHYS2/RHYS2-facebookJumbo.jpg',\n",
       "  'source': ['Gabrielle Bluestone'],\n",
       "  'summary': 'Matthew Rhys never planned on buying an old wooden boat that would take four years, tens of thousands of dollars and quite a bit of his own manual labor to restore.\\nBecause anyone who knows boats won’t go near a wooden boat,” he said.\\nYou idiot.’”But Mr. Rhys and his partner, the actress Keri Russell, happen to enjoy chartering wooden boats.\\nMr. Rhys is also a big fan of the 1930s — he’s currently playing the era’s most famous attorney, Perry Mason, on HBO — as well as of Mr. Hemingway.\\n(Mr. Rhys also loves Hemingway puns: He named his charter company Moveable Feast, and its website asks, “For whom the boat tours?”)',\n",
       "  'title': 'Matthew Rhys Hits the Seas',\n",
       "  'url': 'https://www.nytimes.com/2021/10/04/style/matthew-rhys-boat.html?searchResultPosition=4'},\n",
       " <newspaper.article.Article at 0x7f491781b310>,\n",
       " {'date': datetime.datetime(2021, 10, 4, 0, 0),\n",
       "  'pic': 'https://static01.nyt.com/images/2021/10/10/magazine/10mag-talk/10mag-talk-facebookJumbo.jpg',\n",
       "  'source': ['David Marchese'],\n",
       "  'summary': '“You know, I’m glad I’m not a C.E.O.\\nThere are reasons a company like Pepsi has been a positive force in the world — chiefly economic ones but also ones having to do with personal pleasure.\\nI’m also for consumer choice, but I wanted to make the better choice an easier choice.\\nSo rather than put regular Pepsi at eye level in the retail store, how about putting Diet Pepsi, Pepsi Max, Pepsi Zero Sugar at eye level?\\nSo let’s say you were running a company in Texas, and that company believed in the importance of supporting young families.',\n",
       "  'title': 'Indra Nooyi, Ex-C.E.O. of Pepsi, Thinks Big Business Can Do Better',\n",
       "  'url': 'https://www.nytimes.com/interactive/2021/10/04/magazine/indra-nooyi-interview.html?searchResultPosition=5'},\n",
       " <newspaper.article.Article at 0x7f49165f4990>,\n",
       " {'date': None,\n",
       "  'pic': 'https://files.worldwildlife.org/wwfcmsprod/images/WWF_speaks_out_on_racial_injustice/story_full_width/xb7ny3uh8_image__16_.png',\n",
       "  'source': [],\n",
       "  'summary': 'We are compelled to speak out to condemn the trauma and injustice that the Black community has borne for so long.\\nWWF works across 100 countries to build a future in which people and nature both flourish.\\nWe are devoted to the diversity of our staff and our partners, and to the diversity of life on Earth.\\nWe know that an environmental organization like WWF cannot by itself reverse America’s painful history of racial injustice.\\nThat needs to change, as do the deeply rooted economic, political, and social systems that perpetuate these patterns of racial injustice.',\n",
       "  'title': 'WWF speaks out on racial injustice',\n",
       "  'url': 'https://www.worldwildlife.org/pages/wwf-speaks-out-on-racial-injustice'},\n",
       " <newspaper.article.Article at 0x7f49165f4f10>,\n",
       " {'date': None,\n",
       "  'pic': 'https://files.worldwildlife.org/wwfcmsprod/images/Fisherman_in_their_boats_/story_full_width/7vrzmmqw6x_Medium_WW146750.jpg',\n",
       "  'source': [],\n",
       "  'summary': 'Safeguards play a vital role in achieving WWF’s vision.\\nThey guide how we engage local communities to plan and manage our work to improve and protect their lives, rights, and livelihoods while conserving nature and wildlife.\\nSafeguards are designed to manage risks, uphold human rights, and ensure conservation projects deliver better outcomes for communities and nature.\\nWWF uses safeguards to identify, avoid, and mitigate any negative social and environmental impacts within our work.\\nWe apply safeguards in the design, implementation, and monitoring of all of our activities.',\n",
       "  'title': \"WWF's Environmental and Social Safeguards Framework\",\n",
       "  'url': 'https://www.worldwildlife.org/pages/wwf-s-environmental-and-social-safeguards-framework'},\n",
       " <newspaper.article.Article at 0x7f49165f4490>,\n",
       " {'date': None,\n",
       "  'pic': 'https://files.worldwildlife.org/wwfcmsprod/images/community_meeting_/story_full_width/112qjkqyyp_Medium_WW223572.jpg',\n",
       "  'source': [],\n",
       "  'summary': 'Community development and respect for human rights are central to our work.\\nThe most important inhabitants of any forest, river basin, or seascape are its people.\\nOur mission—to create a future where nature and people thrive—rests on partnerships between WWF and the local and indigenous communities in the places where we work.\\nWe know that communities depend on nature for many aspects of their lives—as a foundation for their culture, their food, their water, their efforts to create new forms of sustainable economic development, and more.\\nAnd we know that conservation is only sustainable if it benefits local communities, and if they play an active role in the design, execution, and evaluation of programs, along with accountability when problems arise.',\n",
       "  'title': \"WWF's commitment to local and indigenous communities\",\n",
       "  'url': 'https://www.worldwildlife.org/pages/wwf-s-commitment-to-local-and-indigenous-communities'},\n",
       " <newspaper.article.Article at 0x7f4916646c50>,\n",
       " {'date': None,\n",
       "  'pic': 'https://secure.ethicspoint.com/domain/en/images/transparent.ico',\n",
       "  'source': [],\n",
       "  'summary': 'OUR COMMITMENTWWF deeply values the trust that has been placed in us – trust in our work towards a world in which people and nature thrive; trust in our science and ability to create solutions that serve nature and people; and trust that we will carry out our work ethically and with concern for others.\\nTo safeguard this critical trust, WWF is committed to best practices in governance and accountability.\\nThis commitment exists at all levels of the organization.\\nThank you for helping WWF maintain the trust we have earned over six decades of conservation work around the world.\\nCarter RobertsPresident and CEO',\n",
       "  'title': 'World Wildlife Fund, Inc',\n",
       "  'url': 'https://secure.ethicspoint.com/domain/media/en/gui/59041/index.html'},\n",
       " <newspaper.article.Article at 0x7f4916610e10>,\n",
       " {'date': None,\n",
       "  'pic': 'https://files.worldwildlife.org/wwfcmsprod/images/Bison_Release_Oct_2021/story_full_width/5sifucruaa_cbolt__WWF_DSC_0162_LowREs.jpg',\n",
       "  'source': [],\n",
       "  'summary': 'In the Wolakota creation story, beings emerged from the Wind Cave in South Dakota’s Black Hills—some in human form and some in buffalo form.\\nIt’s fitting, then, that the latest group of bison donated to the Wolakota Buffalo Range were donated by Wind Cave National Park.\\nSixty bison barreled onto the nearly 28,000 acres of land managed by the Rosebud Economic Development Corporation (REDCO), the economic arm of the Rosebud Sioux Tribe.\\nOne hundred and thirty-five plains bison found a home on this range last October.\\n“The progress being made at Wolakota Buffalo Range has exceeded all expectations,” said Dennis Jorgensen, bison program manager for WWF.',\n",
       "  'title': 'Wind Cave National Park donates 60 bison to Wolakota Buffalo Range',\n",
       "  'url': 'https://www.worldwildlife.org/stories/wind-cave-national-park-donates-60-bison-to-wolakota-buffalo-range'},\n",
       " <newspaper.article.Article at 0x7f4916761990>,\n",
       " {'date': None,\n",
       "  'pic': 'https://news.un.org/en/sites/all/themes/bootstrap_un_news/favicon.ico',\n",
       "  'source': [],\n",
       "  'summary': 'More than one million people in southern Madagascar are struggling to get enough to eat, due to what could become the first famine caused by climate change, according to the World Food Programme (WFP).',\n",
       "  'title': 'Africa',\n",
       "  'url': 'https://news.un.org/en/news/region/africa'},\n",
       " <newspaper.article.Article at 0x7f49167619d0>,\n",
       " {'date': None,\n",
       "  'pic': 'https://news.un.org/en/sites/all/themes/bootstrap_un_news/favicon.ico',\n",
       "  'source': [],\n",
       "  'summary': 'The UN Secretary-General on Sunday said he was committed to ensuring that the Organisation is a place where “youth voices are heard, and their ideas lead”, as he spent the day in Barbados which tomorrow hosts a major UN conference on trade and development, focused on the need to build a global green economy and recover equitably from the COVID-19 pandemic.',\n",
       "  'title': 'Americas',\n",
       "  'url': 'https://news.un.org/en/news/region/americas'},\n",
       " <newspaper.article.Article at 0x7f49166cff50>,\n",
       " {'date': None,\n",
       "  'pic': 'https://news.un.org/en/sites/all/themes/bootstrap_un_news/favicon.ico',\n",
       "  'source': [],\n",
       "  'summary': 'The UN refugee agency, UNHCR, on Friday urged countries to step up reunification for Afghans whose families remain in the country or who are displaced across the region, as the humanitarian crisis in their homeland worsens.',\n",
       "  'title': 'Asia Pacific',\n",
       "  'url': 'https://news.un.org/en/news/region/asia-pacific'},\n",
       " <newspaper.article.Article at 0x7f4916596ed0>,\n",
       " {'date': None,\n",
       "  'pic': 'https://news.un.org/en/sites/all/themes/bootstrap_un_news/favicon.ico',\n",
       "  'source': [],\n",
       "  'summary': 'Israel has been urged to either release or charge five Palestinian prisoners currently on hunger strike in Israeli prisons.\\nGrave concerns have been expressed for the lives of the prisoners by UN independent rights experts, who on Thursday, called on the Israeli Government to completely end the “unlawful practice “ of administrative detention.',\n",
       "  'title': 'Middle East',\n",
       "  'url': 'https://news.un.org/en/news/region/middle-east'},\n",
       " <newspaper.article.Article at 0x7f4916596650>,\n",
       " {'date': None,\n",
       "  'pic': 'https://news.un.org/en/sites/all/themes/bootstrap_un_news/favicon.ico',\n",
       "  'source': [],\n",
       "  'summary': 'In episode nine of the UN climate action podcast No Denying It, award-winning documentary director Erin McGoff introduces Lefteris Arapakis, the self-proclaimed “worst fisherman in Greece”.\\nLefteris hauls in a bountiful catch every day - of plastic pollution.\\nHe is the co-founder of Enaleia, Greece’s first fishing school, with a program to train and incentivise fishermen to collect plastic from the sea.',\n",
       "  'title': 'Europe',\n",
       "  'url': 'https://news.un.org/en/news/region/europe'},\n",
       " <newspaper.article.Article at 0x7f491661ffd0>,\n",
       " {'date': None,\n",
       "  'pic': 'http://oceanconservancy.org/wp-content/uploads/2017/02/fb-share.png',\n",
       "  'source': ['Jon Paul',\n",
       "   'J.P.',\n",
       "   'Alexis Baldera',\n",
       "   'Jeff Watters',\n",
       "   'Eric Desroberts',\n",
       "   'Guest Blogger'],\n",
       "  'summary': 'This was a result of Ocean Conservancy’s partnership with the Miami Super Bowl Host Committee, the Everglades Foundation and NFL Green, becoming the first national ocean partner for a Super Bowl.\\nHere is a snapshot of our work and of all of the partners and supporters from across the country who helped make Super Bowl LIV the most environmentally focused Super Bowl in history.\\nOcean Conservancy Booth at Super Bowl LIVE January 25 – February 1, 2020Grammy winner, Lil Nas X was one of an estimated 100k visitors that spent time at our booth in Super Bowl LIVE during Super Bowl Week.\\nFOX Sports U, University of Florida Super Bowl LIV Campaign Contest, Gainesville Florida, March 2019Ocean Conservancy joined FOX Sports U and the Miami Super Bowl Host Committee to hear pitches from University of Florida Journalism students on environmental initiatives for Super Bowl LIV.\\n\\ufeff\\ufeff\\ufeff\\ufeff2020 Super Bowl Media RecapCoverage from February 2019 through February 2020Media Placements: 600+Impressions: 1.4 billion+For the full list of media mentions, please view our 2020 Super Bowl Media Recap.',\n",
       "  'title': 'Protecting Florida: Super Bowl 2020',\n",
       "  'url': 'https://oceanconservancy.org/protecting-florida/2020-miami-super-bowl/'},\n",
       " <newspaper.article.Article at 0x7f491661c8d0>,\n",
       " {'date': datetime.datetime(2021, 10, 22, 0, 0),\n",
       "  'pic': 'https://oceanconservancy.org/wp-content/uploads/2021/10/OceanImageBank_TobyMatthews_65.jpg',\n",
       "  'source': ['Ryan Ono',\n",
       "   'Guest Blogger',\n",
       "   'Michelle Frey',\n",
       "   'Erin Spencer',\n",
       "   'Anja Brandon'],\n",
       "  'summary': 'It may seem like a good thing all around that the ocean is protecting us in this way, but the ocean actually pays a hefty price.\\nWe know our ocean is at risk, and now is the time to help the ocean help usIn addition to cutting greenhouse gas emissions, we must shore up our natural coastlines.\\nCoastal habitats offer massive climate benefits as wellThey are living ecosystems that protect coastal communities from erosion, keep us safe from storm surges and offer food security.\\nBy protecting and enlarging these ecosystems, we can help communities better prepare for increasingly destructive climate disasters like storms or floods.\\nFunding for these coastal projects in the Build Back Better Act can protect the ocean and the communities that rely on it from climate change.',\n",
       "  'title': 'Coastal Restoration Helps the Ocean Help Us',\n",
       "  'url': 'https://oceanconservancy.org/blog/2021/10/22/coastal-restoration-helps-ocean-help-us/'},\n",
       " <newspaper.article.Article at 0x7f491661f150>,\n",
       " {'date': datetime.datetime(2021, 10, 5, 0, 0),\n",
       "  'pic': 'https://oceanconservancy.org/wp-content/uploads/2021/10/oil-spill_COHB-copy.jpg',\n",
       "  'source': ['George Leonard',\n",
       "   'Erin Spencer',\n",
       "   'Reginald Paros',\n",
       "   'Andrew Hartsig',\n",
       "   'Elizabeth Cerny-Chipman',\n",
       "   'Megan J. Williams'],\n",
       "  'summary': 'By Sunday, October 3, a full-blown crisis was underway in Huntington Beach, California, as over 125,000 gallons of crude began to wash up on shore.\\nOil spill impacts now.\\nCalifornia beaches are world-renowned, and the kelp forests and associated marine wildlife—from fish to birds to marine mammals—are iconic.\\nThis oil spill is developing rapidly, and what we know so far is far less than what we don’t yet know.\\nThis raises a red flag about the structural integrity of both this pipeline and other offshore oil infrastructure off America’s coasts.',\n",
       "  'title': 'What You Need to Know About the Oil Spill in Huntington Beach, California',\n",
       "  'url': 'https://oceanconservancy.org/blog/2021/10/05/oil-spill/'},\n",
       " <newspaper.article.Article at 0x7f491664d090>,\n",
       " {'date': datetime.datetime(2021, 9, 28, 0, 0),\n",
       "  'pic': 'https://oceanconservancy.org/wp-content/uploads/2021/09/9330712400_ee9897f493_k.jpg',\n",
       "  'source': ['Reginald Paros',\n",
       "   'Andrew Hartsig',\n",
       "   'Elizabeth Cerny-Chipman',\n",
       "   'Megan J. Williams',\n",
       "   'Aarthi Ananthanarayanan',\n",
       "   'Delaine Mccullough'],\n",
       "  'summary': 'Please try again or contact 1.888.780.6763 Enter Your Email ...loading Thanks for signing up for Ocean Conservancy emails.\\nCongress must pass a full year of funding bills or a continuing resolution to keep our government working for us.\\nCongress must pass the bipartisan Infrastructure Investment and Jobs Act.\\nTell them that they must pass the bipartisan Infrastructure Investment and Jobs Act.\\nTell them to support the Build Back Better Act to protect what you love now and for the future.',\n",
       "  'title': 'How to Prevent a Government Shutdown, Create Jobs and Protect Our Ocean',\n",
       "  'url': 'https://oceanconservancy.org/blog/2021/09/28/prevent-government-shutdown/'},\n",
       " <newspaper.article.Article at 0x7f4916649b90>,\n",
       " {'date': None,\n",
       "  'pic': 'http://oceanconservancy.org/wp-content/uploads/2017/02/fb-share.png',\n",
       "  'source': [],\n",
       "  'summary': 'We bring people, science and policy together to champion innovative solutions and fight for a sustainable ocean.\\nOcean Conservancy is working with you to protect the ocean from today’s greatest global challenges.\\nGet ocean alerts on your cell phone: Mobile Phone Number *Mobile alerts from Ocean Conservancy.\\nTerms and Conditions© 2021 Ocean ConservancyOcean Conservancy, International Coastal Cleanup, Ocean Action Network, Trash Free Seas, Trash Free Seas Alliance and Rippl are registered trademarks of Ocean Conservancy.\\nOcean Conservancy is a 501(c)3 – Tax ID #23-7245152 – Donations are 100% tax-deductible as allowed by law.',\n",
       "  'title': 'Ocean Conservancy',\n",
       "  'url': 'https://oceanconservancy.org/newsroom/media/'},\n",
       " <newspaper.article.Article at 0x7f491780e250>,\n",
       " {'date': None,\n",
       "  'pic': '',\n",
       "  'source': [],\n",
       "  'summary': '',\n",
       "  'title': '\\n        \\n      \\n          Program and Project Management\\n        \\n    \\n      ',\n",
       "  'url': 'https://www.linkedin.com/jobs/program-and-project-management-jobs-washington-dc?trk=homepage-basic_suggested-search'},\n",
       " <newspaper.article.Article at 0x7f4916610ad0>,\n",
       " {'date': None,\n",
       "  'pic': '',\n",
       "  'source': [],\n",
       "  'summary': '',\n",
       "  'title': '\\n        \\n      \\n          Arts and Design\\n        \\n    \\n      ',\n",
       "  'url': 'https://www.linkedin.com/jobs/arts-and-design-jobs-washington-dc?trk=homepage-basic_suggested-search'},\n",
       " <newspaper.article.Article at 0x7f49167f1ad0>,\n",
       " {'date': None,\n",
       "  'pic': '',\n",
       "  'source': [],\n",
       "  'summary': '',\n",
       "  'title': '\\n        \\n      \\n          Community and Social Services\\n        \\n    \\n      ',\n",
       "  'url': 'https://www.linkedin.com/jobs/community-and-social-services-jobs-washington-dc?trk=homepage-basic_suggested-search'},\n",
       " <newspaper.article.Article at 0x7f491661f710>,\n",
       " {'date': None,\n",
       "  'pic': '',\n",
       "  'source': [],\n",
       "  'summary': '',\n",
       "  'title': '\\n        \\n      \\n          Media and Communications\\n        \\n    \\n      ',\n",
       "  'url': 'https://www.linkedin.com/jobs/media-and-communications-jobs-washington-dc?trk=homepage-basic_suggested-search'},\n",
       " <newspaper.article.Article at 0x7f491663e2d0>,\n",
       " {'date': None,\n",
       "  'pic': '',\n",
       "  'source': [],\n",
       "  'summary': '',\n",
       "  'title': '\\n        \\n      \\n          Military and Protective Services\\n        \\n    \\n      ',\n",
       "  'url': 'https://www.linkedin.com/jobs/military-and-protective-services-jobs-washington-dc?trk=homepage-basic_suggested-search'}]"
      ]
     },
     "execution_count": 25,
     "metadata": {},
     "output_type": "execute_result"
    }
   ],
   "source": [
    "top_articles"
   ]
  },
  {
   "cell_type": "markdown",
   "metadata": {
    "id": "Hr0P0PaXJU3_"
   },
   "source": [
    "## Scraping individual urls"
   ]
  },
  {
   "cell_type": "markdown",
   "metadata": {
    "id": "C-lMFdBzJoXu"
   },
   "source": [
    "### WWF"
   ]
  },
  {
   "cell_type": "code",
   "execution_count": 47,
   "metadata": {
    "colab": {
     "base_uri": "https://localhost:8080/"
    },
    "executionInfo": {
     "elapsed": 2510,
     "status": "ok",
     "timestamp": 1635104024023,
     "user": {
      "displayName": "Corinne Hume",
      "photoUrl": "https://lh3.googleusercontent.com/a/default-user=s64",
      "userId": "11456311795283441105"
     },
     "user_tz": 420
    },
    "id": "vhjEggThJXxF",
    "outputId": "96ea3270-09e6-46d1-8c06-f5c609a20845"
   },
   "outputs": [
    {
     "name": "stdout",
     "output_type": "stream",
     "text": [
      "[nltk_data] Downloading package punkt to /root/nltk_data...\n",
      "[nltk_data]   Package punkt is already up-to-date!\n"
     ]
    }
   ],
   "source": [
    "# WWF\n",
    "#Imports\n",
    "import newspaper\n",
    "from newspaper import Article\n",
    "from newspaper import Source\n",
    "import pandas as pd\n",
    "import nltk\n",
    "nltk.download('punkt')\n",
    "# WWF\n",
    "# Define site\n",
    "site = newspaper.build(\"https://www.worldwildlife.org/search?cx=003443374396369277624%3Av3nraqhmeyk&ie=UTF-8&x=ocean+plastic&cat=stories#gsc.tab=0&gsc.q=[…]ic&gsc.sort=date\", memoize_articles=False)  \n",
    "# Create list to hold top article info.\n",
    "top_wwf_articles = []\n",
    "\n",
    "for i in range(0,5):\n",
    "    # Create dictionary to hold title, summary, and url from for loop \n",
    "    news = {}\n",
    "    article = site.articles[i]\n",
    "    article.download()\n",
    "    article.parse()\n",
    "    article.nlp()\n",
    "    top_wwf_articles.append(article)\n",
    "    news['title'] = article.title\n",
    "    news['summary']= article.summary\n",
    "    news['url'] = article.url\n",
    "    news['pic'] = article.top_image\n",
    "    news['source'] = article.authors\n",
    "    news['date'] = article.publish_date  \n",
    "    top_wwf_articles.append(news)\n",
    "\n"
   ]
  },
  {
   "cell_type": "code",
   "execution_count": 27,
   "metadata": {
    "colab": {
     "base_uri": "https://localhost:8080/"
    },
    "executionInfo": {
     "elapsed": 213,
     "status": "ok",
     "timestamp": 1635102114805,
     "user": {
      "displayName": "Corinne Hume",
      "photoUrl": "https://lh3.googleusercontent.com/a/default-user=s64",
      "userId": "11456311795283441105"
     },
     "user_tz": 420
    },
    "id": "iXC7i2m9L6AZ",
    "outputId": "f5f760d6-7e20-4263-92d0-2c2037a37a70"
   },
   "outputs": [
    {
     "name": "stdout",
     "output_type": "stream",
     "text": [
      "[<newspaper.article.Article object at 0x7f4916845110>, {'title': 'WWF speaks out on racial injustice', 'summary': 'We are compelled to speak out to condemn the trauma and injustice that the Black community has borne for so long.\\nWWF works across 100 countries to build a future in which people and nature both flourish.\\nWe are devoted to the diversity of our staff and our partners, and to the diversity of life on Earth.\\nWe know that an environmental organization like WWF cannot by itself reverse America’s painful history of racial injustice.\\nThat needs to change, as do the deeply rooted economic, political, and social systems that perpetuate these patterns of racial injustice.', 'url': 'https://www.worldwildlife.org/pages/wwf-speaks-out-on-racial-injustice', 'pic': 'https://files.worldwildlife.org/wwfcmsprod/images/WWF_speaks_out_on_racial_injustice/story_full_width/xb7ny3uh8_image__16_.png', 'source': [], 'date': None}, <newspaper.article.Article object at 0x7f49168545d0>, {'title': \"WWF's Environmental and Social Safeguards Framework\", 'summary': 'Safeguards play a vital role in achieving WWF’s vision.\\nThey guide how we engage local communities to plan and manage our work to improve and protect their lives, rights, and livelihoods while conserving nature and wildlife.\\nSafeguards are designed to manage risks, uphold human rights, and ensure conservation projects deliver better outcomes for communities and nature.\\nWWF uses safeguards to identify, avoid, and mitigate any negative social and environmental impacts within our work.\\nWe apply safeguards in the design, implementation, and monitoring of all of our activities.', 'url': 'https://www.worldwildlife.org/pages/wwf-s-environmental-and-social-safeguards-framework', 'pic': 'https://files.worldwildlife.org/wwfcmsprod/images/Fisherman_in_their_boats_/story_full_width/7vrzmmqw6x_Medium_WW146750.jpg', 'source': [], 'date': None}, <newspaper.article.Article object at 0x7f4916845b10>, {'title': \"WWF's commitment to local and indigenous communities\", 'summary': 'Community development and respect for human rights are central to our work.\\nThe most important inhabitants of any forest, river basin, or seascape are its people.\\nOur mission—to create a future where nature and people thrive—rests on partnerships between WWF and the local and indigenous communities in the places where we work.\\nWe know that communities depend on nature for many aspects of their lives—as a foundation for their culture, their food, their water, their efforts to create new forms of sustainable economic development, and more.\\nAnd we know that conservation is only sustainable if it benefits local communities, and if they play an active role in the design, execution, and evaluation of programs, along with accountability when problems arise.', 'url': 'https://www.worldwildlife.org/pages/wwf-s-commitment-to-local-and-indigenous-communities', 'pic': 'https://files.worldwildlife.org/wwfcmsprod/images/community_meeting_/story_full_width/112qjkqyyp_Medium_WW223572.jpg', 'source': [], 'date': None}, <newspaper.article.Article object at 0x7f4916895950>, {'title': 'World Wildlife Fund, Inc', 'summary': 'OUR COMMITMENTWWF deeply values the trust that has been placed in us – trust in our work towards a world in which people and nature thrive; trust in our science and ability to create solutions that serve nature and people; and trust that we will carry out our work ethically and with concern for others.\\nTo safeguard this critical trust, WWF is committed to best practices in governance and accountability.\\nThis commitment exists at all levels of the organization.\\nThank you for helping WWF maintain the trust we have earned over six decades of conservation work around the world.\\nCarter RobertsPresident and CEO', 'url': 'https://secure.ethicspoint.com/domain/media/en/gui/59041/index.html', 'pic': 'https://secure.ethicspoint.com/domain/en/images/transparent.ico', 'source': [], 'date': None}, <newspaper.article.Article object at 0x7f4916854850>, {'title': 'Wind Cave National Park donates 60 bison to Wolakota Buffalo Range', 'summary': 'In the Wolakota creation story, beings emerged from the Wind Cave in South Dakota’s Black Hills—some in human form and some in buffalo form.\\nIt’s fitting, then, that the latest group of bison donated to the Wolakota Buffalo Range were donated by Wind Cave National Park.\\nSixty bison barreled onto the nearly 28,000 acres of land managed by the Rosebud Economic Development Corporation (REDCO), the economic arm of the Rosebud Sioux Tribe.\\nOne hundred and thirty-five plains bison found a home on this range last October.\\n“The progress being made at Wolakota Buffalo Range has exceeded all expectations,” said Dennis Jorgensen, bison program manager for WWF.', 'url': 'https://www.worldwildlife.org/stories/wind-cave-national-park-donates-60-bison-to-wolakota-buffalo-range', 'pic': 'https://files.worldwildlife.org/wwfcmsprod/images/Bison_Release_Oct_2021/story_full_width/5sifucruaa_cbolt__WWF_DSC_0162_LowREs.jpg', 'source': [], 'date': None}]\n"
     ]
    }
   ],
   "source": [
    "# Print articles\n",
    "print(top_wwf_articles)"
   ]
  },
  {
   "cell_type": "markdown",
   "metadata": {
    "id": "qXrcpH2rJqsp"
   },
   "source": [
    "### NYT"
   ]
  },
  {
   "cell_type": "code",
   "execution_count": null,
   "metadata": {
    "id": "x44xur4dJnmQ"
   },
   "outputs": [],
   "source": [
    "# NYT \n",
    "\n",
    "# Get links to Articles on NYT\n",
    "nyt_site = newspaper.build('https://www.nytimes.com/search?dropmab=false&query=ocean%20plastic&sort=newest', memoize_articles=False)  \n",
    " \n",
    "# Create list of top 5 articles from NYT \n",
    "  \n",
    "top_nyt_articles = []\n",
    "\n",
    "for i in range(0,5):\n",
    "    # Create dictionary to hold title, summary, and url from for loop \n",
    "    news = {}\n",
    "    article = nyt_site.articles[i]\n",
    "    article.download()\n",
    "    article.parse()\n",
    "    article.nlp()\n",
    "    top_nyt_articles.append(article)\n",
    "    news['title'] = article.title\n",
    "    news['summary']= article.summary\n",
    "    news['url'] = article.url\n",
    "    news['pic'] = article.top_image\n",
    "    news['source'] = article.authors\n",
    "    news['date'] = article.publish_date\n",
    "    top_nyt_articles.append(news)\n"
   ]
  },
  {
   "cell_type": "code",
   "execution_count": null,
   "metadata": {
    "id": "gq-hYkqoL-wn"
   },
   "outputs": [],
   "source": [
    "# Print articles\n",
    "print(top_nyt_articles)"
   ]
  },
  {
   "cell_type": "markdown",
   "metadata": {
    "id": "yoRkY9rtJzfm"
   },
   "source": [
    "### EMF"
   ]
  },
  {
   "cell_type": "code",
   "execution_count": null,
   "metadata": {
    "id": "5enZxN_zJzzQ"
   },
   "outputs": [],
   "source": [
    "# Ellen Macarthur Foundation\n",
    "# Define site\n",
    "site = newspaper.build(\"https://ellenmacarthurfoundation.org/topics/plastics/latest-content\", memoize_articles=False)  \n",
    "# Create list to hold top article info.\n",
    "top_emf_articles = []\n",
    "\n",
    "for i in range(0,5):\n",
    "    # Create dictionary to hold title, summary, and url from for loop \n",
    "    news = {}\n",
    "    article = site.articles[i]\n",
    "    article.download()\n",
    "    article.parse()\n",
    "    article.nlp()\n",
    "    top_emf_articles.append(article)\n",
    "    news['title'] = article.title\n",
    "    news['summary']= article.summary\n",
    "    news['url'] = article.url\n",
    "    news['pic'] = article.top_image\n",
    "    news['source'] = article.authors\n",
    "    news['date'] = article.publish_date  \n",
    "    top_emf_articles.append(news)"
   ]
  },
  {
   "cell_type": "code",
   "execution_count": null,
   "metadata": {
    "id": "x5oePHnhMIRi"
   },
   "outputs": [],
   "source": [
    "# Print articles\n",
    "print(top_emf_articles)"
   ]
  },
  {
   "cell_type": "markdown",
   "metadata": {
    "id": "_ikiTzMGKqGV"
   },
   "source": [
    "### UN"
   ]
  },
  {
   "cell_type": "code",
   "execution_count": null,
   "metadata": {
    "id": "FPhss26XKgM5"
   },
   "outputs": [],
   "source": [
    "# UN\n",
    "# Define site\n",
    "site = newspaper.build('https://news.un.org/en/search/ocean%20plastic', memoize_articles=False)  \n",
    "# Create list to hold top article info.\n",
    "top_un_articles = []\n",
    "\n",
    "for i in range(0,5):\n",
    "    # Create dictionary to hold title, summary, and url from for loop \n",
    "    news = {}\n",
    "    article = site.articles[i]\n",
    "    article.download()\n",
    "    article.parse()\n",
    "    article.nlp()\n",
    "    top_un_articles.append(article)\n",
    "    news['title'] = article.title\n",
    "    news['summary']= article.summary\n",
    "    news['url'] = article.url\n",
    "    news['pic'] = article.top_image\n",
    "    news['source'] = article.authors\n",
    "    news['date'] = article.publish_date  \n",
    "    top_un_articles.append(news)"
   ]
  },
  {
   "cell_type": "code",
   "execution_count": null,
   "metadata": {
    "id": "NA-263ZHML-v"
   },
   "outputs": [],
   "source": [
    "# Print articles\n",
    "print(top_un_articles)"
   ]
  },
  {
   "cell_type": "markdown",
   "metadata": {
    "id": "iYBFAblzLKtO"
   },
   "source": [
    "### Ocean Conservancy"
   ]
  },
  {
   "cell_type": "code",
   "execution_count": null,
   "metadata": {
    "id": "BuuxXKVwKxIQ"
   },
   "outputs": [],
   "source": [
    "\n",
    "# Ocean Conservancy\n",
    "# Define site\n",
    "site = newspaper.build('https://oceanconservancy.org/newsroom/press-releases/?_search=ocean%20plastic', memoize_articles=False)  \n",
    "# Create list to hold top article info.\n",
    "top_oc_articles = []\n",
    "\n",
    "for i in range(0,5):\n",
    "    # Create dictionary to hold title, summary, and url from for loop \n",
    "    news = {}\n",
    "    article = site.articles[i]\n",
    "    article.download()\n",
    "    article.parse()\n",
    "    article.nlp()\n",
    "    top_oc_articles.append(article)\n",
    "    news['title'] = article.title\n",
    "    news['summary']= article.summary\n",
    "    news['url'] = article.url\n",
    "    news['pic'] = article.top_image\n",
    "    news['source'] = article.authors\n",
    "    news['date'] = article.publish_date  \n",
    "    top_oc_articles.append(news)"
   ]
  },
  {
   "cell_type": "code",
   "execution_count": null,
   "metadata": {
    "id": "Ezwz2dz8MQDh"
   },
   "outputs": [],
   "source": [
    "# Print articles\n",
    "print(top_oc_articles)"
   ]
  },
  {
   "cell_type": "markdown",
   "metadata": {
    "id": "RrP3WBSgLI19"
   },
   "source": [
    "### LinkedIn"
   ]
  },
  {
   "cell_type": "code",
   "execution_count": null,
   "metadata": {
    "id": "KNoyUmNIK8OH"
   },
   "outputs": [],
   "source": [
    "# LinkedIn\n",
    "# Define site\n",
    "site = newspaper.build('https://www.linkedin.com/search/results/content/?keywords=ocean%20plastic&origin=SWITCH_SEARCH_VERTICAL&sid=FrD', memoize_articles=False)  \n",
    "# Create list to hold top article info.\n",
    "top_li_articles = []\n",
    "\n",
    "for i in range(0,5):\n",
    "    # Create dictionary to hold title, summary, and url from for loop \n",
    "    news = {}\n",
    "    article = site.articles[i]\n",
    "    article.download()\n",
    "    article.parse()\n",
    "    article.nlp()\n",
    "    top_li_articles.append(article)\n",
    "    news['title'] = article.title\n",
    "    news['summary']= article.summary\n",
    "    news['url'] = article.url\n",
    "    news['pic'] = article.top_image\n",
    "    news['source'] = article.authors\n",
    "    news['date'] = article.publish_date  \n",
    "    top_li_articles.append(news)"
   ]
  },
  {
   "cell_type": "code",
   "execution_count": null,
   "metadata": {
    "id": "zWYapPkTMS3b"
   },
   "outputs": [],
   "source": [
    "# Print articles\n",
    "print(top_li_articles)"
   ]
  },
  {
   "cell_type": "markdown",
   "metadata": {
    "id": "AGnEv32bMejX"
   },
   "source": [
    "## Dataframes"
   ]
  },
  {
   "cell_type": "code",
   "execution_count": 6,
   "metadata": {
    "colab": {
     "base_uri": "https://localhost:8080/"
    },
    "executionInfo": {
     "elapsed": 81544,
     "status": "ok",
     "timestamp": 1635182530483,
     "user": {
      "displayName": "Corinne Hume",
      "photoUrl": "https://lh3.googleusercontent.com/a/default-user=s64",
      "userId": "11456311795283441105"
     },
     "user_tz": 420
    },
    "id": "N-8dbm7GMnWa",
    "outputId": "f47d15fa-b78d-4c4e-d781-1580fed27261"
   },
   "outputs": [
    {
     "name": "stdout",
     "output_type": "stream",
     "text": [
      "Requirement already satisfied: Newspaper3k in /usr/local/lib/python3.7/dist-packages (0.2.8)\n",
      "Requirement already satisfied: feedparser>=5.2.1 in /usr/local/lib/python3.7/dist-packages (from Newspaper3k) (6.0.8)\n",
      "Requirement already satisfied: tldextract>=2.0.1 in /usr/local/lib/python3.7/dist-packages (from Newspaper3k) (3.1.2)\n",
      "Requirement already satisfied: nltk>=3.2.1 in /usr/local/lib/python3.7/dist-packages (from Newspaper3k) (3.2.5)\n",
      "Requirement already satisfied: lxml>=3.6.0 in /usr/local/lib/python3.7/dist-packages (from Newspaper3k) (4.2.6)\n",
      "Requirement already satisfied: beautifulsoup4>=4.4.1 in /usr/local/lib/python3.7/dist-packages (from Newspaper3k) (4.6.3)\n",
      "Requirement already satisfied: Pillow>=3.3.0 in /usr/local/lib/python3.7/dist-packages (from Newspaper3k) (7.1.2)\n",
      "Requirement already satisfied: requests>=2.10.0 in /usr/local/lib/python3.7/dist-packages (from Newspaper3k) (2.23.0)\n",
      "Requirement already satisfied: tinysegmenter==0.3 in /usr/local/lib/python3.7/dist-packages (from Newspaper3k) (0.3)\n",
      "Requirement already satisfied: cssselect>=0.9.2 in /usr/local/lib/python3.7/dist-packages (from Newspaper3k) (1.1.0)\n",
      "Requirement already satisfied: feedfinder2>=0.0.4 in /usr/local/lib/python3.7/dist-packages (from Newspaper3k) (0.0.4)\n",
      "Requirement already satisfied: python-dateutil>=2.5.3 in /usr/local/lib/python3.7/dist-packages (from Newspaper3k) (2.8.2)\n",
      "Requirement already satisfied: jieba3k>=0.35.1 in /usr/local/lib/python3.7/dist-packages (from Newspaper3k) (0.35.1)\n",
      "Requirement already satisfied: PyYAML>=3.11 in /usr/local/lib/python3.7/dist-packages (from Newspaper3k) (3.13)\n",
      "Requirement already satisfied: six in /usr/local/lib/python3.7/dist-packages (from feedfinder2>=0.0.4->Newspaper3k) (1.15.0)\n",
      "Requirement already satisfied: sgmllib3k in /usr/local/lib/python3.7/dist-packages (from feedparser>=5.2.1->Newspaper3k) (1.0.0)\n",
      "Requirement already satisfied: idna<3,>=2.5 in /usr/local/lib/python3.7/dist-packages (from requests>=2.10.0->Newspaper3k) (2.10)\n",
      "Requirement already satisfied: certifi>=2017.4.17 in /usr/local/lib/python3.7/dist-packages (from requests>=2.10.0->Newspaper3k) (2021.5.30)\n",
      "Requirement already satisfied: chardet<4,>=3.0.2 in /usr/local/lib/python3.7/dist-packages (from requests>=2.10.0->Newspaper3k) (3.0.4)\n",
      "Requirement already satisfied: urllib3!=1.25.0,!=1.25.1,<1.26,>=1.21.1 in /usr/local/lib/python3.7/dist-packages (from requests>=2.10.0->Newspaper3k) (1.24.3)\n",
      "Requirement already satisfied: requests-file>=1.4 in /usr/local/lib/python3.7/dist-packages (from tldextract>=2.0.1->Newspaper3k) (1.5.1)\n",
      "Requirement already satisfied: filelock>=3.0.8 in /usr/local/lib/python3.7/dist-packages (from tldextract>=2.0.1->Newspaper3k) (3.3.0)\n",
      "[nltk_data] Downloading package punkt to /root/nltk_data...\n",
      "[nltk_data]   Unzipping tokenizers/punkt.zip.\n"
     ]
    }
   ],
   "source": [
    "# Example from https://andrewhnberry.github.io/articles/2020-04/The-Easy-Way-to-Web-Scrape-Articles-Online\n",
    "!pip install Newspaper3k\n",
    "import newspaper\n",
    "from newspaper import Article\n",
    "from newspaper import Source\n",
    "from newspaper import news_pool\n",
    "import pandas as pd\n",
    "import nltk\n",
    "nltk.download('punkt')\n",
    "\n",
    "un = newspaper.build('https://news.un.org/en/search/ocean%20plastic', memoize_articles=False)\n",
    "oc = newspaper.build('https://oceanconservancy.org/newsroom/press-releases/?_search=ocean%20plastic', memoize_articles=False)\n",
    "nyt = newspaper.build('https://www.nytimes.com/search?dropmab=false&query=ocean%20plastic&sort=newest', memoize_articles=False) \n",
    "emf = newspaper.build(\"https://ellenmacarthurfoundation.org/topics/plastics/latest-content\", memoize_articles=False) \n",
    "li = newspaper.build('https://www.linkedin.com/search/results/content/?keywords=ocean%20plastic', memoize_articles=False)\n",
    "wwf = newspaper.build(\"https://www.worldwildlife.org/search?cx=003443374396369277624%3Av3nraqhmeyk&ie=UTF-8&x=ocean+plastic&cat=stories#gsc.tab=0&gsc.q=ocean%20plastic&gsc.sort=date\", memoize_articles=False)  \n",
    "papers = [un, oc, emf, li, wwf]\n",
    "news_pool.set(papers, threads_per_source=5)\n",
    "news_pool.join()\n",
    "\n",
    "#Create our final dataframe\n",
    "final_df = pd.DataFrame()\n",
    "\n",
    "#Create a download limit per sources\n",
    "limit = 5\n",
    "\n",
    "for source in papers:\n",
    "#tempoary lists to store each element we want to extract\n",
    "  list_title = []\n",
    "  list_source = []\n",
    "  list_url = []\n",
    "  list_summary = []\n",
    "  list_img = []\n",
    "  list_date = []\n",
    "\n",
    "  count = 0\n",
    "  for article_extract in source.articles:\n",
    "    article_extract.parse()\n",
    "\n",
    "    if count > limit: #Lets have a limit, so it doesnt take too long when you're\n",
    "      break         #running the code.\n",
    "      #appending the elements we want to extract\n",
    "    list_title.append(article_extract.title)\n",
    "    list_summary.append(article_extract.summary)\n",
    "    list_source.append(article_extract.authors)\n",
    "    list_url.append(article_extract.url)\n",
    "    list_img.append(article_extract.top_image)\n",
    "    list_date.append(article_extract.publish_date)\n",
    "      #Update count\n",
    "    count +=1\n",
    "\n",
    "  temp_df = pd.DataFrame({'Title': list_title, 'Summary': list_summary, 'Source': list_source, 'URL': list_url, 'Image': list_img})\n",
    "  #Append to the final DataFrame\n",
    "  final_df = final_df.append(temp_df, ignore_index = True)"
   ]
  },
  {
   "cell_type": "code",
   "execution_count": 7,
   "metadata": {
    "colab": {
     "base_uri": "https://localhost:8080/",
     "height": 968
    },
    "executionInfo": {
     "elapsed": 229,
     "status": "ok",
     "timestamp": 1635182700871,
     "user": {
      "displayName": "Corinne Hume",
      "photoUrl": "https://lh3.googleusercontent.com/a/default-user=s64",
      "userId": "11456311795283441105"
     },
     "user_tz": 420
    },
    "id": "MhqnMDXEMn1X",
    "outputId": "5449896a-7c44-46bf-c017-1bd747a44b4b"
   },
   "outputs": [
    {
     "data": {
      "text/html": [
       "<div>\n",
       "<style scoped>\n",
       "    .dataframe tbody tr th:only-of-type {\n",
       "        vertical-align: middle;\n",
       "    }\n",
       "\n",
       "    .dataframe tbody tr th {\n",
       "        vertical-align: top;\n",
       "    }\n",
       "\n",
       "    .dataframe thead th {\n",
       "        text-align: right;\n",
       "    }\n",
       "</style>\n",
       "<table border=\"1\" class=\"dataframe\">\n",
       "  <thead>\n",
       "    <tr style=\"text-align: right;\">\n",
       "      <th></th>\n",
       "      <th>Title</th>\n",
       "      <th>Summary</th>\n",
       "      <th>Source</th>\n",
       "      <th>URL</th>\n",
       "      <th>Image</th>\n",
       "    </tr>\n",
       "  </thead>\n",
       "  <tbody>\n",
       "    <tr>\n",
       "      <th>0</th>\n",
       "      <td>Afrika</td>\n",
       "      <td></td>\n",
       "      <td>[]</td>\n",
       "      <td>https://news.un.org/sw/news/region/africa</td>\n",
       "      <td>https://news.un.org/sw/sites/all/themes/bootst...</td>\n",
       "    </tr>\n",
       "    <tr>\n",
       "      <th>1</th>\n",
       "      <td>Amerika</td>\n",
       "      <td></td>\n",
       "      <td>[]</td>\n",
       "      <td>https://news.un.org/sw/news/region/americas</td>\n",
       "      <td>https://news.un.org/sw/sites/all/themes/bootst...</td>\n",
       "    </tr>\n",
       "    <tr>\n",
       "      <th>2</th>\n",
       "      <td>Asia Pasifiki</td>\n",
       "      <td></td>\n",
       "      <td>[]</td>\n",
       "      <td>https://news.un.org/sw/news/region/asia-pacific</td>\n",
       "      <td>https://news.un.org/sw/sites/all/themes/bootst...</td>\n",
       "    </tr>\n",
       "    <tr>\n",
       "      <th>3</th>\n",
       "      <td>Mashariki ya Kati</td>\n",
       "      <td></td>\n",
       "      <td>[]</td>\n",
       "      <td>https://news.un.org/sw/news/region/middle-east</td>\n",
       "      <td>https://news.un.org/sw/sites/all/themes/bootst...</td>\n",
       "    </tr>\n",
       "    <tr>\n",
       "      <th>4</th>\n",
       "      <td>Ulaya</td>\n",
       "      <td></td>\n",
       "      <td>[]</td>\n",
       "      <td>https://news.un.org/sw/news/region/europe</td>\n",
       "      <td>https://news.un.org/sw/sites/all/themes/bootst...</td>\n",
       "    </tr>\n",
       "    <tr>\n",
       "      <th>5</th>\n",
       "      <td>Amani na Usalama</td>\n",
       "      <td></td>\n",
       "      <td>[]</td>\n",
       "      <td>https://news.un.org/sw/news/topic/peace-and-se...</td>\n",
       "      <td>https://news.un.org/sw/sites/all/themes/bootst...</td>\n",
       "    </tr>\n",
       "    <tr>\n",
       "      <th>6</th>\n",
       "      <td>Protecting Florida: Super Bowl 2020</td>\n",
       "      <td></td>\n",
       "      <td>[Jon Paul, J.P., Alexis Baldera, Jeff Watters,...</td>\n",
       "      <td>https://oceanconservancy.org/protecting-florid...</td>\n",
       "      <td>http://oceanconservancy.org/wp-content/uploads...</td>\n",
       "    </tr>\n",
       "    <tr>\n",
       "      <th>7</th>\n",
       "      <td>Coastal Restoration Helps the Ocean Help Us</td>\n",
       "      <td></td>\n",
       "      <td>[Ryan Ono, Guest Blogger, Michelle Frey, Erin ...</td>\n",
       "      <td>https://oceanconservancy.org/blog/2021/10/22/c...</td>\n",
       "      <td>https://oceanconservancy.org/wp-content/upload...</td>\n",
       "    </tr>\n",
       "    <tr>\n",
       "      <th>8</th>\n",
       "      <td>What You Need to Know About the Oil Spill in H...</td>\n",
       "      <td></td>\n",
       "      <td>[George Leonard, Ryan Ono, Guest Blogger, Mich...</td>\n",
       "      <td>https://oceanconservancy.org/blog/2021/10/05/o...</td>\n",
       "      <td>https://oceanconservancy.org/wp-content/upload...</td>\n",
       "    </tr>\n",
       "    <tr>\n",
       "      <th>9</th>\n",
       "      <td>How to Prevent a Government Shutdown, Create J...</td>\n",
       "      <td></td>\n",
       "      <td>[Reginald Paros, Ryan Ono, Guest Blogger, Mich...</td>\n",
       "      <td>https://oceanconservancy.org/blog/2021/09/28/p...</td>\n",
       "      <td>https://oceanconservancy.org/wp-content/upload...</td>\n",
       "    </tr>\n",
       "    <tr>\n",
       "      <th>10</th>\n",
       "      <td>Ocean Conservancy</td>\n",
       "      <td></td>\n",
       "      <td>[]</td>\n",
       "      <td>https://oceanconservancy.org/newsroom/media/</td>\n",
       "      <td>http://oceanconservancy.org/wp-content/uploads...</td>\n",
       "    </tr>\n",
       "    <tr>\n",
       "      <th>11</th>\n",
       "      <td>Ocean Conservancy’s Guide to a Halloween You a...</td>\n",
       "      <td></td>\n",
       "      <td>[]</td>\n",
       "      <td>https://oceanconservancy.org/news/ocean-conser...</td>\n",
       "      <td>https://oceanconservancy.org/wp-content/upload...</td>\n",
       "    </tr>\n",
       "    <tr>\n",
       "      <th>12</th>\n",
       "      <td>Kenya joins the global Plastics Pact Network</td>\n",
       "      <td></td>\n",
       "      <td>[]</td>\n",
       "      <td>https://ellenmacarthurfoundation.org/news/keny...</td>\n",
       "      <td>https://images.ctfassets.net/isq5xwjfoz2m/49bj...</td>\n",
       "    </tr>\n",
       "    <tr>\n",
       "      <th>13</th>\n",
       "      <td>New white paper on a UN treaty to address plas...</td>\n",
       "      <td></td>\n",
       "      <td>[]</td>\n",
       "      <td>https://ellenmacarthurfoundation.org/news/new-...</td>\n",
       "      <td>https://images.ctfassets.net/isq5xwjfoz2m/diR8...</td>\n",
       "    </tr>\n",
       "    <tr>\n",
       "      <th>14</th>\n",
       "      <td>Empowering investors to engage with companies ...</td>\n",
       "      <td></td>\n",
       "      <td>[]</td>\n",
       "      <td>https://ellenmacarthurfoundation.org/news/empo...</td>\n",
       "      <td>https://images.ctfassets.net/isq5xwjfoz2m/NZNM...</td>\n",
       "    </tr>\n",
       "    <tr>\n",
       "      <th>15</th>\n",
       "      <td>+100 leading businesses call for EPR for packa...</td>\n",
       "      <td></td>\n",
       "      <td>[]</td>\n",
       "      <td>https://ellenmacarthurfoundation.org/news/100-...</td>\n",
       "      <td>https://images.ctfassets.net/isq5xwjfoz2m/60QV...</td>\n",
       "    </tr>\n",
       "    <tr>\n",
       "      <th>16</th>\n",
       "      <td>Build a better future with the Foundation and ...</td>\n",
       "      <td></td>\n",
       "      <td>[]</td>\n",
       "      <td>https://ellenmacarthurfoundation.org/news/buil...</td>\n",
       "      <td>https://images.ctfassets.net/isq5xwjfoz2m/3JXT...</td>\n",
       "    </tr>\n",
       "    <tr>\n",
       "      <th>17</th>\n",
       "      <td>This article is not about plastic pollution</td>\n",
       "      <td></td>\n",
       "      <td>[]</td>\n",
       "      <td>https://ellenmacarthurfoundation.org/articles/...</td>\n",
       "      <td>https://images.ctfassets.net/isq5xwjfoz2m/4V3t...</td>\n",
       "    </tr>\n",
       "    <tr>\n",
       "      <th>18</th>\n",
       "      <td>\\n        \\n      \\n          Business Develop...</td>\n",
       "      <td></td>\n",
       "      <td>[]</td>\n",
       "      <td>https://www.linkedin.com/jobs/business-develop...</td>\n",
       "      <td></td>\n",
       "    </tr>\n",
       "    <tr>\n",
       "      <th>19</th>\n",
       "      <td>\\n        \\n      \\n          Administrative A...</td>\n",
       "      <td></td>\n",
       "      <td>[]</td>\n",
       "      <td>https://www.linkedin.com/jobs/administrative-a...</td>\n",
       "      <td></td>\n",
       "    </tr>\n",
       "    <tr>\n",
       "      <th>20</th>\n",
       "      <td>\\n        \\n      \\n          Retail Associate...</td>\n",
       "      <td></td>\n",
       "      <td>[]</td>\n",
       "      <td>https://www.linkedin.com/jobs/retail-associate...</td>\n",
       "      <td></td>\n",
       "    </tr>\n",
       "    <tr>\n",
       "      <th>21</th>\n",
       "      <td>\\n        \\n      \\n          Customer Service...</td>\n",
       "      <td></td>\n",
       "      <td>[]</td>\n",
       "      <td>https://www.linkedin.com/jobs/customer-service...</td>\n",
       "      <td></td>\n",
       "    </tr>\n",
       "    <tr>\n",
       "      <th>22</th>\n",
       "      <td>\\n        \\n      \\n          Information Tech...</td>\n",
       "      <td></td>\n",
       "      <td>[]</td>\n",
       "      <td>https://www.linkedin.com/jobs/information-tech...</td>\n",
       "      <td></td>\n",
       "    </tr>\n",
       "    <tr>\n",
       "      <th>23</th>\n",
       "      <td>\\n        \\n      \\n          Human Resources\\...</td>\n",
       "      <td></td>\n",
       "      <td>[]</td>\n",
       "      <td>https://www.linkedin.com/jobs/human-resources-...</td>\n",
       "      <td></td>\n",
       "    </tr>\n",
       "    <tr>\n",
       "      <th>24</th>\n",
       "      <td>WWF speaks out on racial injustice</td>\n",
       "      <td></td>\n",
       "      <td>[]</td>\n",
       "      <td>https://www.worldwildlife.org/pages/wwf-speaks...</td>\n",
       "      <td>https://files.worldwildlife.org/wwfcmsprod/ima...</td>\n",
       "    </tr>\n",
       "    <tr>\n",
       "      <th>25</th>\n",
       "      <td>WWF's Environmental and Social Safeguards Fram...</td>\n",
       "      <td></td>\n",
       "      <td>[]</td>\n",
       "      <td>https://www.worldwildlife.org/pages/wwf-s-envi...</td>\n",
       "      <td>https://files.worldwildlife.org/wwfcmsprod/ima...</td>\n",
       "    </tr>\n",
       "    <tr>\n",
       "      <th>26</th>\n",
       "      <td>WWF's commitment to local and indigenous commu...</td>\n",
       "      <td></td>\n",
       "      <td>[]</td>\n",
       "      <td>https://www.worldwildlife.org/pages/wwf-s-comm...</td>\n",
       "      <td>https://files.worldwildlife.org/wwfcmsprod/ima...</td>\n",
       "    </tr>\n",
       "    <tr>\n",
       "      <th>27</th>\n",
       "      <td>World Wildlife Fund, Inc</td>\n",
       "      <td></td>\n",
       "      <td>[]</td>\n",
       "      <td>https://secure.ethicspoint.com/domain/media/en...</td>\n",
       "      <td>https://secure.ethicspoint.com/domain/en/image...</td>\n",
       "    </tr>\n",
       "    <tr>\n",
       "      <th>28</th>\n",
       "      <td>Wind Cave National Park donates 60 bison to Wo...</td>\n",
       "      <td></td>\n",
       "      <td>[]</td>\n",
       "      <td>https://www.worldwildlife.org/stories/wind-cav...</td>\n",
       "      <td>https://files.worldwildlife.org/wwfcmsprod/ima...</td>\n",
       "    </tr>\n",
       "    <tr>\n",
       "      <th>29</th>\n",
       "      <td>How a mobile app facilitated a technological r...</td>\n",
       "      <td></td>\n",
       "      <td>[]</td>\n",
       "      <td>https://www.worldwildlife.org/stories/how-a-mo...</td>\n",
       "      <td>https://files.worldwildlife.org/wwfcmsprod/ima...</td>\n",
       "    </tr>\n",
       "  </tbody>\n",
       "</table>\n",
       "</div>"
      ],
      "text/plain": [
       "                                                Title  ...                                              Image\n",
       "0                                              Afrika  ...  https://news.un.org/sw/sites/all/themes/bootst...\n",
       "1                                             Amerika  ...  https://news.un.org/sw/sites/all/themes/bootst...\n",
       "2                                       Asia Pasifiki  ...  https://news.un.org/sw/sites/all/themes/bootst...\n",
       "3                                   Mashariki ya Kati  ...  https://news.un.org/sw/sites/all/themes/bootst...\n",
       "4                                               Ulaya  ...  https://news.un.org/sw/sites/all/themes/bootst...\n",
       "5                                    Amani na Usalama  ...  https://news.un.org/sw/sites/all/themes/bootst...\n",
       "6                 Protecting Florida: Super Bowl 2020  ...  http://oceanconservancy.org/wp-content/uploads...\n",
       "7         Coastal Restoration Helps the Ocean Help Us  ...  https://oceanconservancy.org/wp-content/upload...\n",
       "8   What You Need to Know About the Oil Spill in H...  ...  https://oceanconservancy.org/wp-content/upload...\n",
       "9   How to Prevent a Government Shutdown, Create J...  ...  https://oceanconservancy.org/wp-content/upload...\n",
       "10                                  Ocean Conservancy  ...  http://oceanconservancy.org/wp-content/uploads...\n",
       "11  Ocean Conservancy’s Guide to a Halloween You a...  ...  https://oceanconservancy.org/wp-content/upload...\n",
       "12       Kenya joins the global Plastics Pact Network  ...  https://images.ctfassets.net/isq5xwjfoz2m/49bj...\n",
       "13  New white paper on a UN treaty to address plas...  ...  https://images.ctfassets.net/isq5xwjfoz2m/diR8...\n",
       "14  Empowering investors to engage with companies ...  ...  https://images.ctfassets.net/isq5xwjfoz2m/NZNM...\n",
       "15  +100 leading businesses call for EPR for packa...  ...  https://images.ctfassets.net/isq5xwjfoz2m/60QV...\n",
       "16  Build a better future with the Foundation and ...  ...  https://images.ctfassets.net/isq5xwjfoz2m/3JXT...\n",
       "17        This article is not about plastic pollution  ...  https://images.ctfassets.net/isq5xwjfoz2m/4V3t...\n",
       "18  \\n        \\n      \\n          Business Develop...  ...                                                   \n",
       "19  \\n        \\n      \\n          Administrative A...  ...                                                   \n",
       "20  \\n        \\n      \\n          Retail Associate...  ...                                                   \n",
       "21  \\n        \\n      \\n          Customer Service...  ...                                                   \n",
       "22  \\n        \\n      \\n          Information Tech...  ...                                                   \n",
       "23  \\n        \\n      \\n          Human Resources\\...  ...                                                   \n",
       "24                 WWF speaks out on racial injustice  ...  https://files.worldwildlife.org/wwfcmsprod/ima...\n",
       "25  WWF's Environmental and Social Safeguards Fram...  ...  https://files.worldwildlife.org/wwfcmsprod/ima...\n",
       "26  WWF's commitment to local and indigenous commu...  ...  https://files.worldwildlife.org/wwfcmsprod/ima...\n",
       "27                           World Wildlife Fund, Inc  ...  https://secure.ethicspoint.com/domain/en/image...\n",
       "28  Wind Cave National Park donates 60 bison to Wo...  ...  https://files.worldwildlife.org/wwfcmsprod/ima...\n",
       "29  How a mobile app facilitated a technological r...  ...  https://files.worldwildlife.org/wwfcmsprod/ima...\n",
       "\n",
       "[30 rows x 5 columns]"
      ]
     },
     "execution_count": 7,
     "metadata": {},
     "output_type": "execute_result"
    }
   ],
   "source": [
    "final_df"
   ]
  }
 ],
 "metadata": {
  "colab": {
   "authorship_tag": "ABX9TyPKW0nb9eJQPexnTgWhUn2P",
   "collapsed_sections": [],
   "name": "colab_final_1.ipynb",
   "provenance": [],
   "toc_visible": true
  },
  "kernelspec": {
   "display_name": "PythonData",
   "language": "python",
   "name": "pythondata"
  },
  "language_info": {
   "codemirror_mode": {
    "name": "ipython",
    "version": 3
   },
   "file_extension": ".py",
   "mimetype": "text/x-python",
   "name": "python",
   "nbconvert_exporter": "python",
   "pygments_lexer": "ipython3",
   "version": "3.7.9"
  }
 },
 "nbformat": 4,
 "nbformat_minor": 1
}
