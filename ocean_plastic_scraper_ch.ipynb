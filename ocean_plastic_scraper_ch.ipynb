{
 "cells": [
  {
   "cell_type": "markdown",
   "metadata": {},
   "source": [
    "# Ocean Plastic News Web Scraper"
   ]
  },
  {
   "cell_type": "code",
   "execution_count": 13,
   "metadata": {},
   "outputs": [],
   "source": [
    "# Import Splinter and BeautifulSoup\n",
    "import pandas as pd\n",
    "from splinter import Browser\n",
    "from bs4 import BeautifulSoup as soup\n",
    "from webdriver_manager.chrome import ChromeDriverManager"
   ]
  },
  {
   "cell_type": "code",
   "execution_count": 14,
   "metadata": {},
   "outputs": [
    {
     "name": "stderr",
     "output_type": "stream",
     "text": [
      "\n",
      "\n",
      "====== WebDriver manager ======\n",
      "Current google-chrome version is 94.0.4606\n",
      "Get LATEST driver version for 94.0.4606\n",
      "Driver [C:\\Users\\Corinne\\.wdm\\drivers\\chromedriver\\win32\\94.0.4606.61\\chromedriver.exe] found in cache\n"
     ]
    }
   ],
   "source": [
    "executable_path = {'executable_path': ChromeDriverManager().install()}\n",
    "browser = Browser('chrome', **executable_path, headless=False)"
   ]
  },
  {
   "cell_type": "markdown",
   "metadata": {},
   "source": [
    "## Ellen McArthur Foundation Webscraping Practice"
   ]
  },
  {
   "cell_type": "code",
   "execution_count": 3,
   "metadata": {},
   "outputs": [],
   "source": [
    "# visit the Ellen Mcarthur Foundation website\n",
    "url = \"https://ellenmacarthurfoundation.org/topics/plastics/latest-content\"\n",
    "browser.visit(url)"
   ]
  },
  {
   "cell_type": "code",
   "execution_count": 8,
   "metadata": {},
   "outputs": [],
   "source": [
    "# Parse the html for title\n",
    "html = browser.html\n",
    "html_soup = soup(html, 'html.parser')"
   ]
  },
  {
   "cell_type": "code",
   "execution_count": 35,
   "metadata": {},
   "outputs": [
    {
     "name": "stdout",
     "output_type": "stream",
     "text": [
      "There are 70 links in this page\n"
     ]
    }
   ],
   "source": [
    "# Print number of links on Webpage\n",
    "num_links = len(html_soup.find_all('a'))\n",
    "print(f\"There are {num_links} links in this page\")"
   ]
  },
  {
   "cell_type": "code",
   "execution_count": 44,
   "metadata": {},
   "outputs": [
    {
     "name": "stdout",
     "output_type": "stream",
     "text": [
      "<a href=\"/cookies\">Cookie Policy</a>\n"
     ]
    }
   ],
   "source": [
    "# Print first link\n",
    "web_link = html_soup.a\n",
    "print(web_link)"
   ]
  },
  {
   "cell_type": "code",
   "execution_count": 46,
   "metadata": {},
   "outputs": [
    {
     "name": "stdout",
     "output_type": "stream",
     "text": [
      "[('/cookies', 3), ('/', 2), ('/topics/circular-economy-introduction/overview', 2)]\n"
     ]
    }
   ],
   "source": [
    "from collections import Counter\n",
    "all_hrefs = [a.get('href') for a in html_soup.find_all('a')]\n",
    "top_3_links = Counter(all_hrefs).most_common(3)\n",
    "print(top_3_links)"
   ]
  },
  {
   "cell_type": "code",
   "execution_count": 36,
   "metadata": {},
   "outputs": [
    {
     "name": "stdout",
     "output_type": "stream",
     "text": [
      "Plastics - Latest contentWe use cookies to give you the best experience online. Please let us know if you agree to these cookies. You can learn more about the individual cookies we use - and why, in our Cookie Policy.YesNoCircular economyIntroductionTopicsPlastics, fashion and moreResourcesGuidance and toolsExploreAll contentSearchOur language sitesEspañol, Français, Português, 简体中文Circular economyIntroductionTopicsPlastics, fashion and moreResourcesGuidance and toolsExploreAll contentCircular Economy ShowCircular examplesPublicationsMeasure: CirculyticsAbout usOur networkJobsContact usRegionsOur calendarMedia centre© Ellen MacArthur FoundationCharity Registration No.: 1130306OSCR Registration No.: SC043120Company No.: 6897785Ellen MacArthur Foundation ANBI RSIN nummer: 8257 45 925PoliciesCookiesBetaThis is our new site – we're still working on it.Help us improve it.ES, FR, PT, 简体中文PlasticsOverviewWho we work withLatest contentExamplesProjects & publicationsLatest contentLatest readsArticlePlasticsThe solution to plastic pollutionOne of the most analytically robust studies produced on ocean plastics.ArticlePlasticsThis article is not about plastic pollution.The problem of plastic pollution is well documented. If you type it into Google, you get about 180...NewsClimatePlasticsEducationCalling all 15 to 18-year-olds — join our circular economy summer school!Published on 23rd February 2021NewsDesignEducationBuild a better future with the Foundation and the LEGO GroupPublished on 30th March 2021External linkPlasticsLearning pathway: plastics and the circular economyA series of learning modules to expand your understanding of the circular economy for plastic.VideosVideoPlasticsWhy Do We Need A Circular Economy for Plastics? VideoPlasticsWhat is the Role of Bio-based Materials in a Circular Economy? | Summit 2020VideoPlasticsErik Solheim, Head of UN Environment, on a Circular Economy for Plastics Innovation PrizeVideoPlasticsCan A Reuse and Refill Model Help Us Save the Planet?VideoPlasticsKarmenu Vella, European Commisioner, on a Circular Economy for Plastics Innovation PrizeVideoPlasticsCircular Economy for Plastics Innovation PrizeJohn Kerry, Former US Secretary of State, on a Circular Economy for Plastics Innovation PrizeVideoPlasticsUpstream what? Solutions to plastic pollutionCircular Economy Show episode exploring upstream innovation examples to tackle plastic pollution.Explore each point of our visionVideoPlasticsElimination of problematic or unnecessary plastic packagingVideoPlasticsReuse models are applied where relevant, reducing the need for single-use packagingVideoPlasticsAll plastic packaging is 100% reusable, recyclable, or compostableVideoPlasticsAll plastic packaging is reused, recycled, or composted in practiceVideoPlasticsThe use of plastic is fully decoupled from the consumption of finite resourcesVideoPlasticsPlastic packaging is free of hazardous chemicals, and the health, safety, and rights of people involved are respectedPlasticsNews and updates fromThe Ellen MacArthur FoundationClick to subscribeThe Ellen MacArthur Foundation works in Education & Training, Business & Government, Insight & Analysis, Systemic Initiatives and Communications to accelerate the transition to a circular economy.Charity Registration No.: 1130306OSCR Registration No.: SC043120Company No.: 6897785Ellen MacArthur Foundation ANBI RSIN nummer: 8257 45 925About usOur networkJobsContact usRegionsfollow usOur calendarMedia centrefollow us© Ellen MacArthur FoundationPoliciesCookies\n"
     ]
    }
   ],
   "source": [
    "# Print text on Webpage\n",
    "print(html_soup.get_text())"
   ]
  },
  {
   "cell_type": "code",
   "execution_count": 37,
   "metadata": {},
   "outputs": [
    {
     "name": "stdout",
     "output_type": "stream",
     "text": [
      "<title>Plastics - Latest content</title>\n"
     ]
    }
   ],
   "source": [
    "# Print Title of Webpage\n",
    "print(html_soup.title)"
   ]
  },
  {
   "cell_type": "code",
   "execution_count": 40,
   "metadata": {},
   "outputs": [
    {
     "name": "stdout",
     "output_type": "stream",
     "text": [
      "<h4 class=\"tile-title css-rmwpnv e15dqdia11\">The solution to plastic pollution</h4>\n"
     ]
    }
   ],
   "source": [
    "# Print First Title on Webpage\n",
    "first_title = html_soup.h4\n",
    "print(first_title)\n"
   ]
  },
  {
   "cell_type": "code",
   "execution_count": 9,
   "metadata": {},
   "outputs": [
    {
     "data": {
      "text/plain": [
       "'The solution to plastic pollution'"
      ]
     },
     "execution_count": 9,
     "metadata": {},
     "output_type": "execute_result"
    }
   ],
   "source": [
    "# Scrape the First News Title\n",
    "title = html_soup.find('h4').text\n",
    "title"
   ]
  },
  {
   "cell_type": "code",
   "execution_count": 10,
   "metadata": {},
   "outputs": [
    {
     "name": "stdout",
     "output_type": "stream",
     "text": [
      "ArticlePlasticsThe solution to plastic pollutionOne of the most analytically robust studies produced on ocean plastics.\n",
      "ArticlePlasticsThis article is not about plastic pollution.The problem of plastic pollution is well documented. If you type it into Google, you get about 180...\n",
      "NewsClimatePlasticsEducationCalling all 15 to 18-year-olds — join our circular economy summer school!Published on 23rd February 2021\n",
      "NewsDesignEducationBuild a better future with the Foundation and the LEGO GroupPublished on 30th March 2021\n"
     ]
    }
   ],
   "source": [
    "# Scrape all of the Titles\n",
    "tag_box = html_soup.find('div', class_='tiles-container')\n",
    "#html:  <a class=\"e1he184d0 listing css-ls6ubs eempp8w5\" data-testid=\"internal-tile\" data-gtm-id=\"tile\" href=\"/articles/the-solution-to-plastic-pollution\"><div class=\"image-wrapper\"><div class=\"event-details\"></div><svg width=\"32\" height=\"32\" class=\"css-g26fo1 e1e03nkd0\" alt=\"Article content icon\" viewBox=\"0 0 32 32\" xmlns=\"http://www.w3.org/2000/svg\"><title>Article</title><rect width=\"32\" height=\"32\" rx=\"2\" fill-opacity=\"0.9\"></rect><path fill-rule=\"evenodd\" clip-rule=\"evenodd\" d=\"M7.57163 13.5975C7.60645 13.0791 8.02924 12.689 8.51597 12.7261C10.3719 12.8675 12.2036 13.2588 13.9672 13.8905C14.4297 14.0562 14.6786 14.5898 14.523 15.0824C14.3674 15.575 13.8664 15.84 13.4039 15.6743C11.7817 15.0932 10.097 14.7333 8.38986 14.6032C7.90314 14.5661 7.5368 14.1159 7.57163 13.5975Z\"></path><path fill-rule=\"evenodd\" clip-rule=\"evenodd\" d=\"M7.57163 17.5975C7.60645 17.0791 8.02924 16.689 8.51597 16.7261C10.3719 16.8675 12.2036 17.2588 13.9672 17.8905C14.4297 18.0562 14.6786 18.5898 14.523 19.0824C14.3674 19.575 13.8664 19.84 13.4039 19.6743C11.7817 19.0932 10.097 18.7333 8.38986 18.6032C7.90314 18.5661 7.5368 18.1159 7.57163 17.5975Z\"></path><path fill-rule=\"evenodd\" clip-rule=\"evenodd\" d=\"M24.4284 13.5975C24.3936 13.0791 23.9708 12.689 23.484 12.7261C21.6281 12.8675 19.7964 13.2588 18.0328 13.8905C17.5703 14.0562 17.3214 14.5898 17.477 15.0824C17.6326 15.575 18.1336 15.84 18.5961 15.6743C20.2183 15.0932 21.903 14.7333 23.6101 14.6032C24.0969 14.5661 24.4632 14.1159 24.4284 13.5975Z\"></path><path fill-rule=\"evenodd\" clip-rule=\"evenodd\" d=\"M24.4284 17.5975C24.3936 17.0791 23.9708 16.689 23.484 16.7261C21.6281 16.8675 19.7964 17.2588 18.0328 17.8905C17.5703 18.0562 17.3214 18.5898 17.477 19.0824C17.6326 19.575 18.1336 19.84 18.5961 19.6743C20.2183 19.0932 21.903 18.7333 23.6101 18.6032C24.0969 18.5661 24.4632 18.1159 24.4284 17.5975Z\"></path><path fill-rule=\"evenodd\" clip-rule=\"evenodd\" d=\"M16 8.93823C14.8933 8.19989 12.02 6.79948 6.07584 6.72367C5.94159 6.72205 5.81242 6.77285 5.71798 6.86441C5.6226 6.95637 5.56915 7.08089 5.56935 7.21063V22.5748C5.56711 22.8377 5.78435 23.0541 6.05824 23.0618C10.7781 23.1229 13.5646 24.0148 15.0693 24.7495C15.4637 24.9421 15.77 25.1238 16 25.277V8.93823ZM7.06935 8.25066V21.5872C10.7357 21.7284 13.2502 22.3679 14.9166 23.0414C14.9683 23.0623 15.0192 23.0832 15.0693 23.1042V10.1222C14.7967 9.94941 14.382 9.72154 13.7946 9.48367C12.5084 8.96291 10.3756 8.38723 7.06935 8.25066Z\"></path><path fill-rule=\"evenodd\" clip-rule=\"evenodd\" d=\"M16 8.93823C17.1067 8.19989 19.98 6.79948 25.9242 6.72367C26.0584 6.72205 26.1876 6.77285 26.282 6.86441C26.3774 6.95637 26.4308 7.08089 26.4306 7.21063V22.5748C26.4329 22.8377 26.2156 23.0541 25.9418 23.0618C21.2219 23.1229 18.4354 24.0148 16.9307 24.7495C16.5363 24.9421 16.23 25.1238 16 25.277V8.93823ZM24.9306 8.25066V21.5872C21.2643 21.7284 18.7498 22.3679 17.0834 23.0414C17.0317 23.0623 16.9808 23.0832 16.9307 23.1042V10.1222C17.2033 9.94941 17.618 9.72154 18.2054 9.48367C19.4916 8.96291 21.6244 8.38723 24.9306 8.25066Z\"></path></svg><img src=\"//images.ctfassets.net/isq5xwjfoz2m/4niVxAt0jSOwf3SCcdlJTk/7826d4b7dcc632fdb68e3f8fa2f37c12/Listing_-_Article_-_The_solution_to_plastic_pollution.png\" alt=\"\"></div><div class=\"content-wrapper\"><div class=\"tile-tags-container\"><ul class=\"css-u4z6zh e14ahen60\"><li color=\"#0081c7\" class=\"css-1nt39sq e15dqdia2\"><p data-testid=\"Plastics-tag-atom\">Plastics</p></li></ul></div><div class=\"text-content\"><h4 class=\"tile-title css-rmwpnv e15dqdia11\">The solution to plastic pollution</h4><p class=\"css-1o3qgj6 e15dqdia8\">One of the most analytically robust studies produced on ocean plastics.</p></div></div></a>\n",
    "tags = tag_box.find_all('a', class_='e1he184d0 listing css-ls6ubs eempp8w5')\n",
    "\n",
    "for tag in tags:\n",
    "    word = tag.text\n",
    "    print(word)"
   ]
  },
  {
   "cell_type": "markdown",
   "metadata": {},
   "source": [
    "## NYT Webscraping Practice"
   ]
  },
  {
   "cell_type": "code",
   "execution_count": 15,
   "metadata": {},
   "outputs": [
    {
     "data": {
      "text/plain": [
       "True"
      ]
     },
     "execution_count": 15,
     "metadata": {},
     "output_type": "execute_result"
    }
   ],
   "source": [
    "# Visit the NYT website\n",
    "url = 'https://www.nytimes.com/search?dropmab=false&query=ocean%20plastic&sort=newest'\n",
    "browser.visit(url)\n",
    "# Optional delay for loading the page\n",
    "# html: <div class=\"css-46b038\"><ol data-testid=\"search-results\" aria-live=\"polite\"><li class=\"css-1l4w6pd\" data-testid=\"search-bodega-result\"><div class=\"css-1kl114x\"><span data-testid=\"todays-date\" aria-label=\"October 8\" class=\"css-17ubb9w\">Oct. 8</span><div class=\"css-1i8vfl5\"><div class=\"css-e1lvw9\"><p class=\"css-myxawk\">Sailing</p><a href=\"/2021/10/08/sports/sailing/sailgp-catamarans-speed.html?searchResultPosition=1\"><h4 class=\"css-2fgx4k\">The Blistering Speed of SailGP</h4><p class=\"css-16nhkrn\">The catamarans use wings, not sails, and hydrofoils help the boat fly over the water. It’s like a fast video game, with consequences.</p><p class=\"css-15w69y9\">By Kimball Livingston</p><span class=\"css-bc0f0m\"><div class=\"css-1rq7uyl\"></div><span class=\"css-h4mf4\">PRINT EDITION</span>The blistering speed of SailGP<span class=\"css-1t2tqhf\">|</span>October 9, 2021, Page A13</span></a></div><figure class=\"css-tap2ym\" aria-label=\"media\" role=\"group\"><div><img alt=\"Aboard the Australian team’s boat in August. The helmsman is called the driver.\" class=\"css-rq4mmj\" src=\"https://static01.nyt.com/images/2021/10/09/multimedia/09sp-sailing-speed-inyt1/09sp-sailing-speed-inyt1-threeByTwoSmallAt2X.jpg?quality=75&amp;auto=webp&amp;disable=upscale\" srcset=\"https://static01.nyt.com/images/2021/10/09/multimedia/09sp-sailing-speed-inyt1/09sp-sailing-speed-inyt1-thumbWide.jpg 190w,https://static01.nyt.com/images/2021/10/09/multimedia/09sp-sailing-speed-inyt1/09sp-sailing-speed-inyt1-videoThumb.jpg 75w,https://static01.nyt.com/images/2021/10/09/multimedia/09sp-sailing-speed-inyt1/09sp-sailing-speed-inyt1-videoLarge.jpg 768w,https://static01.nyt.com/images/2021/10/09/multimedia/09sp-sailing-speed-inyt1/09sp-sailing-speed-inyt1-mediumThreeByTwo210.jpg 210w,https://static01.nyt.com/images/2021/10/09/multimedia/09sp-sailing-speed-inyt1/09sp-sailing-speed-inyt1-mediumThreeByTwo225.jpg 225w,https://static01.nyt.com/images/2021/10/09/multimedia/09sp-sailing-speed-inyt1/09sp-sailing-speed-inyt1-mediumThreeByTwo440.jpg 440w,https://static01.nyt.com/images/2021/10/09/multimedia/09sp-sailing-speed-inyt1/09sp-sailing-speed-inyt1-mediumThreeByTwo252.jpg 252w,https://static01.nyt.com/images/2021/10/09/multimedia/09sp-sailing-speed-inyt1/09sp-sailing-speed-inyt1-mediumThreeByTwo378.jpg 378w,https://static01.nyt.com/images/2021/10/09/multimedia/09sp-sailing-speed-inyt1/09sp-sailing-speed-inyt1-threeByTwoLargeAt2X.jpg 1977w,https://static01.nyt.com/images/2021/10/09/multimedia/09sp-sailing-speed-inyt1/09sp-sailing-speed-inyt1-threeByTwoMediumAt2X.jpg 1500w,https://static01.nyt.com/images/2021/10/09/multimedia/09sp-sailing-speed-inyt1/09sp-sailing-speed-inyt1-threeByTwoSmallAt2X.jpg 600w\" sizes=\"(max-width: 600px) 120px, (max-width: 1024px) 165px, 205px\" decoding=\"async\" width=\"1\" height=\"1\"></div><figcaption class=\"css-13o4bnb e18f7pbr0\"></figcaption></figure></div></div></li><li class=\"css-1l4w6pd\" data-testid=\"search-bodega-result\"><div class=\"css-1kl114x\"><span data-testid=\"todays-date\" aria-label=\"October 4\" class=\"css-17ubb9w\">Oct. 4</span><div class=\"css-1i8vfl5\"><div class=\"css-e1lvw9\"><p class=\"css-myxawk\">Style</p><a href=\"/2021/10/04/style/matthew-rhys-boat.html?searchResultPosition=2\"><h4 class=\"css-2fgx4k\">Matthew Rhys Hits the Seas</h4><p class=\"css-16nhkrn\">The actor bought a wooden boat on a whim. It has taken him on a journey.</p><p class=\"css-15w69y9\">By Gabrielle Bluestone</p><span class=\"css-bc0f0m\"><div class=\"css-1rq7uyl\"></div><span class=\"css-h4mf4\">PRINT EDITION</span>Matthew Rhys and His Vessel Prove Seaworthy<span class=\"css-1t2tqhf\">|</span>October 7, 2021, Page D7</span></a></div><figure class=\"css-tap2ym\" aria-label=\"media\" role=\"group\"><div><img alt=\"\" class=\"css-rq4mmj\" src=\"https://static01.nyt.com/images/2021/10/07/fashion/RHYS2/RHYS2-threeByTwoSmallAt2X.jpg?quality=75&amp;auto=webp&amp;disable=upscale\" srcset=\"https://static01.nyt.com/images/2021/10/07/fashion/RHYS2/RHYS2-thumbWide.jpg 190w,https://static01.nyt.com/images/2021/10/07/fashion/RHYS2/RHYS2-videoThumb.jpg 75w,https://static01.nyt.com/images/2021/10/07/fashion/RHYS2/RHYS2-videoLarge.jpg 768w,https://static01.nyt.com/images/2021/10/07/fashion/RHYS2/RHYS2-mediumThreeByTwo210.jpg 210w,https://static01.nyt.com/images/2021/10/07/fashion/RHYS2/RHYS2-mediumThreeByTwo225.jpg 225w,https://static01.nyt.com/images/2021/10/07/fashion/RHYS2/RHYS2-mediumThreeByTwo440.jpg 440w,https://static01.nyt.com/images/2021/10/07/fashion/RHYS2/RHYS2-mediumThreeByTwo252.jpg 252w,https://static01.nyt.com/images/2021/10/07/fashion/RHYS2/RHYS2-mediumThreeByTwo378.jpg 378w,https://static01.nyt.com/images/2021/10/07/fashion/RHYS2/RHYS2-threeByTwoLargeAt2X.jpg 4256w,https://static01.nyt.com/images/2021/10/07/fashion/RHYS2/RHYS2-threeByTwoMediumAt2X.jpg 1500w,https://static01.nyt.com/images/2021/10/07/fashion/RHYS2/RHYS2-threeByTwoSmallAt2X.jpg 600w\" sizes=\"(max-width: 600px) 120px, (max-width: 1024px) 165px, 205px\" decoding=\"async\" width=\"1\" height=\"1\"></div><figcaption class=\"css-13o4bnb e18f7pbr0\"></figcaption></figure></div></div></li><li class=\"css-1l4w6pd\" data-testid=\"search-bodega-result\"><div class=\"css-1kl114x\"><span data-testid=\"todays-date\" aria-label=\"October 4\" class=\"css-17ubb9w\">Oct. 4</span><div class=\"css-1i8vfl5\"><div class=\"css-e1lvw9\"><p class=\"css-myxawk\">Magazine</p><a href=\"/interactive/2021/10/04/magazine/indra-nooyi-interview.html?searchResultPosition=3\"><h4 class=\"css-2fgx4k\">Indra Nooyi, Ex-C.E.O. of Pepsi, Thinks Big Business Can Do Better</h4><p class=\"css-16nhkrn\">“It’s not about giving away money we’ve made. It’s about how we make money a different way.”</p><p class=\"css-15w69y9\">By David Marchese</p><span class=\"css-bc0f0m\"><div class=\"css-1rq7uyl\"></div><span class=\"css-h4mf4\">PRINT EDITION</span><span class=\"css-bc0f0m\"></span>October 10, 2021, Page MM15</span></a></div><figure class=\"css-tap2ym\" aria-label=\"media\" role=\"group\"><div><img alt=\"\" class=\"css-rq4mmj\" src=\"https://static01.nyt.com/images/2021/10/10/magazine/10mag-talk/10mag-talk-threeByTwoSmallAt2X.jpg?quality=75&amp;auto=webp&amp;disable=upscale\" srcset=\"https://static01.nyt.com/images/2021/10/10/magazine/10mag-talk/10mag-talk-thumbWide.jpg 190w,https://static01.nyt.com/images/2021/10/10/magazine/10mag-talk/10mag-talk-videoThumb.jpg 75w,https://static01.nyt.com/images/2021/10/10/magazine/10mag-talk/10mag-talk-videoLarge.jpg 768w,https://static01.nyt.com/images/2021/10/10/magazine/10mag-talk/10mag-talk-mediumThreeByTwo210.jpg 210w,https://static01.nyt.com/images/2021/10/10/magazine/10mag-talk/10mag-talk-mediumThreeByTwo225.jpg 225w,https://static01.nyt.com/images/2021/10/10/magazine/10mag-talk/10mag-talk-mediumThreeByTwo440.jpg 440w,https://static01.nyt.com/images/2021/10/10/magazine/10mag-talk/10mag-talk-mediumThreeByTwo252.jpg 252w,https://static01.nyt.com/images/2021/10/10/magazine/10mag-talk/10mag-talk-mediumThreeByTwo378.jpg 378w,https://static01.nyt.com/images/2021/10/10/magazine/10mag-talk/10mag-talk-threeByTwoLargeAt2X.jpg 2250w,https://static01.nyt.com/images/2021/10/10/magazine/10mag-talk/10mag-talk-threeByTwoMediumAt2X.jpg 1500w,https://static01.nyt.com/images/2021/10/10/magazine/10mag-talk/10mag-talk-threeByTwoSmallAt2X.jpg 600w\" sizes=\"(max-width: 600px) 120px, (max-width: 1024px) 165px, 205px\" decoding=\"async\" width=\"1\" height=\"1\"></div><figcaption class=\"css-13o4bnb e18f7pbr0\"></figcaption></figure></div></div></li><li class=\"css-1l4w6pd\" data-testid=\"search-bodega-result\"><div class=\"css-1kl114x\"><span data-testid=\"todays-date\" aria-label=\"October 2\" class=\"css-17ubb9w\">Oct. 2</span><div class=\"css-1i8vfl5\"><div class=\"css-e1lvw9\"><p class=\"css-myxawk\">Americas</p><a href=\"/2021/10/02/world/americas/haitian-migrants-mexican-border.html?searchResultPosition=4\"><h4 class=\"css-2fgx4k\">Perilous, Roadless Jungle Becomes a Path of Desperate Hope</h4><p class=\"css-16nhkrn\">The recent surge at the Mexican border is likely to grow as more migrants, mostly Haitian, risk everything negotiating the notorious Darién Gap on their way to the United States.</p><p class=\"css-15w69y9\">By Julie Turkewitz, Natalie Kitroeff, Sofía Villamil and Federico Rios</p><span class=\"css-bc0f0m\"><div class=\"css-1rq7uyl\"></div><span class=\"css-h4mf4\">PRINT EDITION</span>Sights on U.S., Migrants Flood Perilous Jungle<span class=\"css-1t2tqhf\">|</span>October 3, 2021, Page A1</span></a></div><figure class=\"css-tap2ym\" aria-label=\"media\" role=\"group\"><div><img alt=\"\" class=\"css-rq4mmj\" src=\"https://static01.nyt.com/images/2021/10/02/world/02colombia-darien-top-2/02colombia-darien-top-2-threeByTwoSmallAt2X.jpg?quality=75&amp;auto=webp&amp;disable=upscale\" srcset=\"https://static01.nyt.com/images/2021/10/02/world/02colombia-darien-top-2/02colombia-darien-top-2-thumbWide.jpg 190w,https://static01.nyt.com/images/2021/10/02/world/02colombia-darien-top-2/02colombia-darien-top-2-videoThumb.jpg 75w,https://static01.nyt.com/images/2021/10/02/world/02colombia-darien-top-2/02colombia-darien-top-2-videoLarge.jpg 768w,https://static01.nyt.com/images/2021/10/02/world/02colombia-darien-top-2/02colombia-darien-top-2-mediumThreeByTwo210.jpg 210w,https://static01.nyt.com/images/2021/10/02/world/02colombia-darien-top-2/02colombia-darien-top-2-mediumThreeByTwo225.jpg 225w,https://static01.nyt.com/images/2021/10/02/world/02colombia-darien-top-2/02colombia-darien-top-2-mediumThreeByTwo440.jpg 440w,https://static01.nyt.com/images/2021/10/02/world/02colombia-darien-top-2/02colombia-darien-top-2-mediumThreeByTwo252.jpg 252w,https://static01.nyt.com/images/2021/10/02/world/02colombia-darien-top-2/02colombia-darien-top-2-mediumThreeByTwo378.jpg 378w,https://static01.nyt.com/images/2021/10/02/world/02colombia-darien-top-2/02colombia-darien-top-2-threeByTwoLargeAt2X.jpg 1928w,https://static01.nyt.com/images/2021/10/02/world/02colombia-darien-top-2/02colombia-darien-top-2-threeByTwoMediumAt2X.jpg 1500w,https://static01.nyt.com/images/2021/10/02/world/02colombia-darien-top-2/02colombia-darien-top-2-threeByTwoSmallAt2X.jpg 600w\" sizes=\"(max-width: 600px) 120px, (max-width: 1024px) 165px, 205px\" decoding=\"async\" width=\"1\" height=\"1\"></div><figcaption class=\"css-13o4bnb e18f7pbr0\"></figcaption></figure></div></div></li><li class=\"css-1yvwzdo\"><div class=\"css-142l3g4\" data-testid=\"StandardAd\"><h3 class=\"css-131kqdc\">Advertisement</h3><a href=\"#after-dfp-ad-mid1\" style=\"position: absolute; width: 1px; height: 1px; margin: -1px; padding: 0px; border: 0px; clip: rect(0px, 0px, 0px, 0px); overflow: hidden;\">Continue reading the main story</a><div class=\"ad dfp-ad-mid1-wrapper\" id=\"dfp-ad-mid1\" data-google-query-id=\"CNaIhZ3wvfMCFUMfZQodsdsGYQ\" style=\"text-align: center; height: 100%;\"><div id=\"google_ads_iframe_/29390238/nyt/search_0__container__\" style=\"border: 0pt none;\"><iframe id=\"google_ads_iframe_/29390238/nyt/search_0\" title=\"3rd party ad content\" name=\"google_ads_iframe_/29390238/nyt/search_0\" width=\"970\" height=\"250\" scrolling=\"no\" marginwidth=\"0\" marginheight=\"0\" frameborder=\"0\" allow=\"attribution-reporting\" srcdoc=\"\" data-google-container-id=\"1\" style=\"border: 0px; vertical-align: bottom;\" data-load-complete=\"true\"></iframe></div></div><div id=\"after-dfp-ad-mid1\"></div></div></li><li class=\"css-1l4w6pd\" data-testid=\"search-bodega-result\"><div class=\"css-1bdu3ax\"><span data-testid=\"todays-date\" aria-label=\"September 30\" class=\"css-17ubb9w\">Sept. 30</span><div class=\"css-1i8vfl5\"><div class=\"css-e1lvw9\"><p class=\"css-myxawk\">Sports</p><a href=\"/2021/09/30/sports/mlb-climate-change-players-for-the-planet.html?searchResultPosition=5\"><h4 class=\"css-2fgx4k\">The Environment Affects Baseball. These Players Want to Help.</h4><p class=\"css-16nhkrn\">Beach cleanups, plastic reduction, rethinking travel: A group of major leaguers is pushing back in a wasteful sport.</p><p class=\"css-15w69y9\">By James Wagner</p><span class=\"css-bc0f0m\"><div class=\"css-1rq7uyl\"></div><span class=\"css-h4mf4\">PRINT EDITION</span>Baseball Can Be a Greener Game<span class=\"css-1t2tqhf\">|</span>October 1, 2021, Page B7</span></a></div><figure class=\"css-tap2ym\" aria-label=\"media\" role=\"group\"><div><img alt=\"\" class=\"css-rq4mmj\" src=\"https://static01.nyt.com/images/2021/09/30/sports/baseball/mlb-environment/mlb-environment-threeByTwoSmallAt2X.jpg?quality=75&amp;auto=webp&amp;disable=upscale\" srcset=\"https://static01.nyt.com/images/2021/09/30/sports/baseball/mlb-environment/mlb-environment-thumbWide.jpg 190w,https://static01.nyt.com/images/2021/09/30/sports/baseball/mlb-environment/mlb-environment-videoThumb.jpg 75w,https://static01.nyt.com/images/2021/09/30/sports/baseball/mlb-environment/mlb-environment-videoLarge.jpg 768w,https://static01.nyt.com/images/2021/09/30/sports/baseball/mlb-environment/mlb-environment-mediumThreeByTwo210.jpg 210w,https://static01.nyt.com/images/2021/09/30/sports/baseball/mlb-environment/mlb-environment-mediumThreeByTwo225.jpg 225w,https://static01.nyt.com/images/2021/09/30/sports/baseball/mlb-environment/mlb-environment-mediumThreeByTwo440.jpg 440w,https://static01.nyt.com/images/2021/09/30/sports/baseball/mlb-environment/mlb-environment-mediumThreeByTwo252.jpg 252w,https://static01.nyt.com/images/2021/09/30/sports/baseball/mlb-environment/mlb-environment-mediumThreeByTwo378.jpg 378w,https://static01.nyt.com/images/2021/09/30/sports/baseball/mlb-environment/mlb-environment-threeByTwoLargeAt2X.jpg 3211w,https://static01.nyt.com/images/2021/09/30/sports/baseball/mlb-environment/mlb-environment-threeByTwoMediumAt2X.jpg 1500w,https://static01.nyt.com/images/2021/09/30/sports/baseball/mlb-environment/mlb-environment-threeByTwoSmallAt2X.jpg 600w\" sizes=\"(max-width: 600px) 120px, (max-width: 1024px) 165px, 205px\" decoding=\"async\" width=\"1\" height=\"1\"></div><figcaption class=\"css-13o4bnb e18f7pbr0\"></figcaption></figure></div></div></li><li class=\"css-1l4w6pd\" data-testid=\"search-bodega-result\"><div class=\"css-1kl114x\"><span data-testid=\"todays-date\" aria-label=\"September 29\" class=\"css-17ubb9w\">Sept. 29</span><div class=\"css-1i8vfl5\"><div class=\"css-e1lvw9\"><p class=\"css-myxawk\">Book Review</p><a href=\"/2021/09/29/books/review/how-the-animal-world-is-adapting-to-climate-change.html?searchResultPosition=6\"><h4 class=\"css-2fgx4k\">How the Animal World Is Adapting to Climate Change</h4><p class=\"css-16nhkrn\">In “Hurricane Lizards and Plastic Squid,” Thor Hanson looks at the evolutionary shifts already taking place as ecosystems and weather patterns change.</p><p class=\"css-15w69y9\">By Jonathan Balcombe</p><span class=\"css-bc0f0m\"><div class=\"css-1rq7uyl\"></div><span class=\"css-h4mf4\">PRINT EDITION</span>Adaptation<span class=\"css-1t2tqhf\">|</span>October 31, 2021</span></a></div><figure class=\"css-tap2ym\" aria-label=\"media\" role=\"group\"><div><img alt=\"A group of little auks or dovekies (Alle alle) at their nesting site on a rocky hillside at Varsolbukta in Bellsund, which is a 20 km long sound and part of the Svalbard archipelago of Norway.\" class=\"css-rq4mmj\" src=\"https://static01.nyt.com/images/2021/09/28/books/28Balcombe3/28Balcombe3-threeByTwoSmallAt2X.jpg?quality=75&amp;auto=webp&amp;disable=upscale\" srcset=\"https://static01.nyt.com/images/2021/09/28/books/28Balcombe3/28Balcombe3-thumbWide.jpg 190w,https://static01.nyt.com/images/2021/09/28/books/28Balcombe3/28Balcombe3-videoThumb.jpg 75w,https://static01.nyt.com/images/2021/09/28/books/28Balcombe3/28Balcombe3-videoLarge.jpg 768w,https://static01.nyt.com/images/2021/09/28/books/28Balcombe3/28Balcombe3-mediumThreeByTwo210.jpg 210w,https://static01.nyt.com/images/2021/09/28/books/28Balcombe3/28Balcombe3-mediumThreeByTwo225.jpg 225w,https://static01.nyt.com/images/2021/09/28/books/28Balcombe3/28Balcombe3-mediumThreeByTwo440.jpg 440w,https://static01.nyt.com/images/2021/09/28/books/28Balcombe3/28Balcombe3-mediumThreeByTwo252.jpg 252w,https://static01.nyt.com/images/2021/09/28/books/28Balcombe3/28Balcombe3-mediumThreeByTwo378.jpg 378w,https://static01.nyt.com/images/2021/09/28/books/28Balcombe3/28Balcombe3-threeByTwoLargeAt2X.jpg 4990w,https://static01.nyt.com/images/2021/09/28/books/28Balcombe3/28Balcombe3-threeByTwoMediumAt2X.jpg 1500w,https://static01.nyt.com/images/2021/09/28/books/28Balcombe3/28Balcombe3-threeByTwoSmallAt2X.jpg 600w\" sizes=\"(max-width: 600px) 120px, (max-width: 1024px) 165px, 205px\" decoding=\"async\" width=\"1\" height=\"1\"></div><figcaption class=\"css-13o4bnb e18f7pbr0\"></figcaption></figure></div></div></li><li class=\"css-1l4w6pd\" data-testid=\"search-bodega-result\"><div class=\"css-1kl114x\"><span data-testid=\"todays-date\" aria-label=\"September 28\" class=\"css-17ubb9w\">Sept. 28</span><div class=\"css-1i8vfl5\"><div class=\"css-e1lvw9\"><p class=\"css-myxawk\">Science</p><a href=\"/2021/09/28/science/microfiber-pollution-svalbard.html?searchResultPosition=7\"><h4 class=\"css-2fgx4k\">This Fjord Shows Even Small Populations Create Giant Microfiber Pollution</h4><p class=\"css-16nhkrn\">Researchers found that one tiny Arctic village’s unfiltered sewage produces as much microplastic as the treated waste of more than a million people.</p><p class=\"css-15w69y9\">By Jessica Leigh Hester</p><span class=\"css-bc0f0m\"><div class=\"css-1rq7uyl\"></div><span class=\"css-h4mf4\">PRINT EDITION</span>Village in the Arctic Has Big-City Pollution<span class=\"css-1t2tqhf\">|</span>September 28, 2021, Page D3</span></a></div><figure class=\"css-tap2ym\" aria-label=\"media\" role=\"group\"><div><img alt=\"Longyearbyen, on the Adventfjorden bay in Norway’s Svalbard archipelago. A study found that the tiny village emits roughly as many microplastics as a wastewater treatment plant near Vancouver.\" class=\"css-rq4mmj\" src=\"https://static01.nyt.com/images/2021/09/28/science/28sci-island/28sci-island-threeByTwoSmallAt2X.jpg?quality=75&amp;auto=webp&amp;disable=upscale\" srcset=\"https://static01.nyt.com/images/2021/09/28/science/28sci-island/28sci-island-thumbWide.jpg 190w,https://static01.nyt.com/images/2021/09/28/science/28sci-island/28sci-island-videoThumb.jpg 75w,https://static01.nyt.com/images/2021/09/28/science/28sci-island/28sci-island-videoLarge.jpg 768w,https://static01.nyt.com/images/2021/09/28/science/28sci-island/28sci-island-mediumThreeByTwo210.jpg 210w,https://static01.nyt.com/images/2021/09/28/science/28sci-island/28sci-island-mediumThreeByTwo225.jpg 225w,https://static01.nyt.com/images/2021/09/28/science/28sci-island/28sci-island-mediumThreeByTwo440.jpg 440w,https://static01.nyt.com/images/2021/09/28/science/28sci-island/28sci-island-mediumThreeByTwo252.jpg 252w,https://static01.nyt.com/images/2021/09/28/science/28sci-island/28sci-island-mediumThreeByTwo378.jpg 378w,https://static01.nyt.com/images/2021/09/28/science/28sci-island/28sci-island-threeByTwoLargeAt2X.jpg 5135w,https://static01.nyt.com/images/2021/09/28/science/28sci-island/28sci-island-threeByTwoMediumAt2X.jpg 1500w,https://static01.nyt.com/images/2021/09/28/science/28sci-island/28sci-island-threeByTwoSmallAt2X.jpg 600w\" sizes=\"(max-width: 600px) 120px, (max-width: 1024px) 165px, 205px\" decoding=\"async\" width=\"1\" height=\"1\"></div><figcaption class=\"css-13o4bnb e18f7pbr0\"></figcaption></figure></div></div></li><li class=\"css-1l4w6pd\" data-testid=\"search-bodega-result\"><div class=\"css-1kl114x\"><span data-testid=\"todays-date\" aria-label=\"September 26\" class=\"css-17ubb9w\">Sept. 26</span><div class=\"css-1i8vfl5\"><div class=\"css-e1lvw9\"><p class=\"css-myxawk\">Fashion</p><a href=\"/2021/09/26/fashion/watches-social-responsibility.html?searchResultPosition=8\"><h4 class=\"css-2fgx4k\">Watches, Unusual Names and Social Responsibility</h4><p class=\"css-16nhkrn\">Brands like DecideAndAct and Triwa say they create timepieces with the planet in mind.</p><p class=\"css-15w69y9\">By Rachel Felder</p><span class=\"css-bc0f0m\"><div class=\"css-1rq7uyl\"></div><span class=\"css-h4mf4\">PRINT EDITION</span>Seeking social responsibility<span class=\"css-1t2tqhf\">|</span>September 27, 2021, Page S3</span></a></div><figure class=\"css-tap2ym\" aria-label=\"media\" role=\"group\"><div><img alt=\"Triwa, whose name is an acronym for Transforming the Industry of Watches, sells watches starting at less than $200.&nbsp;\" class=\"css-rq4mmj\" src=\"https://static01.nyt.com/images/2021/09/27/multimedia/27sp-watchesroundup-inyt3/27sp-watchesroundup-inyt3-threeByTwoSmallAt2X.jpg?quality=75&amp;auto=webp&amp;disable=upscale\" srcset=\"https://static01.nyt.com/images/2021/09/27/multimedia/27sp-watchesroundup-inyt3/27sp-watchesroundup-inyt3-thumbWide.jpg 190w,https://static01.nyt.com/images/2021/09/27/multimedia/27sp-watchesroundup-inyt3/27sp-watchesroundup-inyt3-videoThumb.jpg 75w,https://static01.nyt.com/images/2021/09/27/multimedia/27sp-watchesroundup-inyt3/27sp-watchesroundup-inyt3-videoLarge.jpg 768w,https://static01.nyt.com/images/2021/09/27/multimedia/27sp-watchesroundup-inyt3/27sp-watchesroundup-inyt3-mediumThreeByTwo210.jpg 210w,https://static01.nyt.com/images/2021/09/27/multimedia/27sp-watchesroundup-inyt3/27sp-watchesroundup-inyt3-mediumThreeByTwo225.jpg 225w,https://static01.nyt.com/images/2021/09/27/multimedia/27sp-watchesroundup-inyt3/27sp-watchesroundup-inyt3-mediumThreeByTwo440.jpg 440w,https://static01.nyt.com/images/2021/09/27/multimedia/27sp-watchesroundup-inyt3/27sp-watchesroundup-inyt3-mediumThreeByTwo252.jpg 252w,https://static01.nyt.com/images/2021/09/27/multimedia/27sp-watchesroundup-inyt3/27sp-watchesroundup-inyt3-mediumThreeByTwo378.jpg 378w,https://static01.nyt.com/images/2021/09/27/multimedia/27sp-watchesroundup-inyt3/27sp-watchesroundup-inyt3-threeByTwoLargeAt2X.jpg 5197w,https://static01.nyt.com/images/2021/09/27/multimedia/27sp-watchesroundup-inyt3/27sp-watchesroundup-inyt3-threeByTwoMediumAt2X.jpg 1500w,https://static01.nyt.com/images/2021/09/27/multimedia/27sp-watchesroundup-inyt3/27sp-watchesroundup-inyt3-threeByTwoSmallAt2X.jpg 600w\" sizes=\"(max-width: 600px) 120px, (max-width: 1024px) 165px, 205px\" decoding=\"async\" width=\"1\" height=\"1\"></div><figcaption class=\"css-13o4bnb e18f7pbr0\"></figcaption></figure></div></div></li><li class=\"css-1l4w6pd\" data-testid=\"search-bodega-result\"><div class=\"css-1kl114x\"><span data-testid=\"todays-date\" aria-label=\"September 25\" class=\"css-17ubb9w\">Sept. 25</span><div class=\"css-1i8vfl5\"><div class=\"css-e1lvw9\"><p class=\"css-myxawk\">Travel</p><a href=\"/2021/09/25/travel/whales-quebec.html?searchResultPosition=9\"><h4 class=\"css-2fgx4k\">Whales So Close You Can Touch Them: A Family Adventure in Canada</h4><p class=\"css-16nhkrn\">Recalling a prepandemic trip to a watery landscape in Quebec province: “The adventure we had feels like one plucked from a world I can no longer reach, not unlike watching the water, waiting for a whale to crest.”</p><p class=\"css-15w69y9\">By Ronda Kaysen</p></a></div><figure class=\"css-tap2ym\" aria-label=\"media\" role=\"group\"><div><img alt=\"In the province of Quebec, near Tadoussac — a picturesque town where the Saguenay meets the St. Lawrence River — whale-watching is a serious endeavor. Above, a humpback whale in the St. Lawrence River.\" class=\"css-rq4mmj\" src=\"https://static01.nyt.com/images/2021/09/24/travel/24canada-whales1/merlin_195192564_916c599f-6080-44bc-892f-73add779fe5d-threeByTwoSmallAt2X.jpg?quality=75&amp;auto=webp&amp;disable=upscale\" srcset=\"https://static01.nyt.com/images/2021/09/24/travel/24canada-whales1/merlin_195192564_916c599f-6080-44bc-892f-73add779fe5d-thumbWide.jpg 190w,https://static01.nyt.com/images/2021/09/24/travel/24canada-whales1/merlin_195192564_916c599f-6080-44bc-892f-73add779fe5d-videoThumb.jpg 75w,https://static01.nyt.com/images/2021/09/24/travel/24canada-whales1/merlin_195192564_916c599f-6080-44bc-892f-73add779fe5d-videoLarge.jpg 768w,https://static01.nyt.com/images/2021/09/24/travel/24canada-whales1/merlin_195192564_916c599f-6080-44bc-892f-73add779fe5d-mediumThreeByTwo210.jpg 210w,https://static01.nyt.com/images/2021/09/24/travel/24canada-whales1/merlin_195192564_916c599f-6080-44bc-892f-73add779fe5d-mediumThreeByTwo225.jpg 225w,https://static01.nyt.com/images/2021/09/24/travel/24canada-whales1/merlin_195192564_916c599f-6080-44bc-892f-73add779fe5d-mediumThreeByTwo440.jpg 440w,https://static01.nyt.com/images/2021/09/24/travel/24canada-whales1/merlin_195192564_916c599f-6080-44bc-892f-73add779fe5d-mediumThreeByTwo252.jpg 252w,https://static01.nyt.com/images/2021/09/24/travel/24canada-whales1/merlin_195192564_916c599f-6080-44bc-892f-73add779fe5d-mediumThreeByTwo378.jpg 378w,https://static01.nyt.com/images/2021/09/24/travel/24canada-whales1/merlin_195192564_916c599f-6080-44bc-892f-73add779fe5d-threeByTwoLargeAt2X.jpg 8640w,https://static01.nyt.com/images/2021/09/24/travel/24canada-whales1/merlin_195192564_916c599f-6080-44bc-892f-73add779fe5d-threeByTwoMediumAt2X.jpg 1500w,https://static01.nyt.com/images/2021/09/24/travel/24canada-whales1/merlin_195192564_916c599f-6080-44bc-892f-73add779fe5d-threeByTwoSmallAt2X.jpg 600w\" sizes=\"(max-width: 600px) 120px, (max-width: 1024px) 165px, 205px\" decoding=\"async\" width=\"1\" height=\"1\"></div><figcaption class=\"css-13o4bnb e18f7pbr0\"></figcaption></figure></div></div></li><li class=\"css-1l4w6pd\" data-testid=\"search-bodega-result\"><div class=\"css-1kl114x\"><span data-testid=\"todays-date\" aria-label=\"September 20\" class=\"css-17ubb9w\">Sept. 20</span><div class=\"css-1i8vfl5\"><div class=\"css-e1lvw9\"><p class=\"css-myxawk\">Business</p><a href=\"/2021/09/20/business/supply-chain-shortages-nonprofits.html?searchResultPosition=10\"><h4 class=\"css-2fgx4k\">Global Supply Shortages Reach All the Way to a Haitian Aid Group</h4><p class=\"css-16nhkrn\">Continuing disruption to factory production and bottlenecks in shipping are leaving nonprofit groups short of goods for vulnerable communities worldwide.</p><p class=\"css-15w69y9\">By Peter S. Goodman</p><span class=\"css-bc0f0m\"><div class=\"css-1rq7uyl\"></div><span class=\"css-h4mf4\">PRINT EDITION</span>For Neediest, Shortages Hit Hardest<span class=\"css-1t2tqhf\">|</span>September 21, 2021, Page B1</span></a></div><figure class=\"css-tap2ym\" aria-label=\"media\" role=\"group\"><div><img alt=\"The Soles4Souls warehouse in Alabama is suffering shortages of footwear as manufacturers that donate inventory keep more of it in a frantic bid to satisfy retail customers.\" class=\"css-rq4mmj\" src=\"https://static01.nyt.com/images/2021/09/20/business/20supplychain-nonprofits-1/20supplychain-nonprofits-1-threeByTwoSmallAt2X.jpg?quality=75&amp;auto=webp&amp;disable=upscale\" srcset=\"https://static01.nyt.com/images/2021/09/20/business/20supplychain-nonprofits-1/20supplychain-nonprofits-1-thumbWide.jpg 190w,https://static01.nyt.com/images/2021/09/20/business/20supplychain-nonprofits-1/20supplychain-nonprofits-1-videoThumb.jpg 75w,https://static01.nyt.com/images/2021/09/20/business/20supplychain-nonprofits-1/20supplychain-nonprofits-1-videoLarge.jpg 768w,https://static01.nyt.com/images/2021/09/20/business/20supplychain-nonprofits-1/20supplychain-nonprofits-1-mediumThreeByTwo210.jpg 210w,https://static01.nyt.com/images/2021/09/20/business/20supplychain-nonprofits-1/20supplychain-nonprofits-1-mediumThreeByTwo225.jpg 225w,https://static01.nyt.com/images/2021/09/20/business/20supplychain-nonprofits-1/20supplychain-nonprofits-1-mediumThreeByTwo440.jpg 440w,https://static01.nyt.com/images/2021/09/20/business/20supplychain-nonprofits-1/20supplychain-nonprofits-1-mediumThreeByTwo252.jpg 252w,https://static01.nyt.com/images/2021/09/20/business/20supplychain-nonprofits-1/20supplychain-nonprofits-1-mediumThreeByTwo378.jpg 378w,https://static01.nyt.com/images/2021/09/20/business/20supplychain-nonprofits-1/20supplychain-nonprofits-1-threeByTwoLargeAt2X.jpg 7848w,https://static01.nyt.com/images/2021/09/20/business/20supplychain-nonprofits-1/20supplychain-nonprofits-1-threeByTwoMediumAt2X.jpg 1500w,https://static01.nyt.com/images/2021/09/20/business/20supplychain-nonprofits-1/20supplychain-nonprofits-1-threeByTwoSmallAt2X.jpg 600w\" sizes=\"(max-width: 600px) 120px, (max-width: 1024px) 165px, 205px\" decoding=\"async\" width=\"1\" height=\"1\"></div><figcaption class=\"css-13o4bnb e18f7pbr0\"></figcaption></figure></div></div></li></ol><div class=\"css-1xl7hww\"><a class=\"css-jrsrjc\" data-testid=\"search-result-qualtrics-link\" href=\"http://nyt.qualtrics.com/jfe/form/SV_ehZpyzWtbwO9HVj?v=a\" target=\"_blank\" rel=\"noopener noreferrer\">Have search feedback? Let us know what you think.</a></div></div>\n",
    "#<ol data-testid=\"search-results\" aria-live=\"polite\"><li class=\"css-1l4w6pd\" data-testid=\"search-bodega-result\"><div class=\"css-1kl114x\"><span data-testid=\"todays-date\" aria-label=\"October 8\" class=\"css-17ubb9w\">Oct. 8</span><div class=\"css-1i8vfl5\"><div class=\"css-e1lvw9\"><p class=\"css-myxawk\">Sailing</p><a href=\"/2021/10/08/sports/sailing/sailgp-catamarans-speed.html?searchResultPosition=1\"><h4 class=\"css-2fgx4k\">The Blistering Speed of SailGP</h4><p class=\"css-16nhkrn\">The catamarans use wings, not sails, and hydrofoils help the boat fly over the water. It’s like a fast video game, with consequences.</p><p class=\"css-15w69y9\">By Kimball Livingston</p><span class=\"css-bc0f0m\"><div class=\"css-1rq7uyl\"></div><span class=\"css-h4mf4\">PRINT EDITION</span>The blistering speed of SailGP<span class=\"css-1t2tqhf\">|</span>October 9, 2021, Page A13</span></a></div><figure class=\"css-tap2ym\" aria-label=\"media\" role=\"group\"><div><img alt=\"Aboard the Australian team’s boat in August. The helmsman is called the driver.\" class=\"css-rq4mmj\" src=\"https://static01.nyt.com/images/2021/10/09/multimedia/09sp-sailing-speed-inyt1/09sp-sailing-speed-inyt1-threeByTwoSmallAt2X.jpg?quality=75&amp;auto=webp&amp;disable=upscale\" srcset=\"https://static01.nyt.com/images/2021/10/09/multimedia/09sp-sailing-speed-inyt1/09sp-sailing-speed-inyt1-thumbWide.jpg 190w,https://static01.nyt.com/images/2021/10/09/multimedia/09sp-sailing-speed-inyt1/09sp-sailing-speed-inyt1-videoThumb.jpg 75w,https://static01.nyt.com/images/2021/10/09/multimedia/09sp-sailing-speed-inyt1/09sp-sailing-speed-inyt1-videoLarge.jpg 768w,https://static01.nyt.com/images/2021/10/09/multimedia/09sp-sailing-speed-inyt1/09sp-sailing-speed-inyt1-mediumThreeByTwo210.jpg 210w,https://static01.nyt.com/images/2021/10/09/multimedia/09sp-sailing-speed-inyt1/09sp-sailing-speed-inyt1-mediumThreeByTwo225.jpg 225w,https://static01.nyt.com/images/2021/10/09/multimedia/09sp-sailing-speed-inyt1/09sp-sailing-speed-inyt1-mediumThreeByTwo440.jpg 440w,https://static01.nyt.com/images/2021/10/09/multimedia/09sp-sailing-speed-inyt1/09sp-sailing-speed-inyt1-mediumThreeByTwo252.jpg 252w,https://static01.nyt.com/images/2021/10/09/multimedia/09sp-sailing-speed-inyt1/09sp-sailing-speed-inyt1-mediumThreeByTwo378.jpg 378w,https://static01.nyt.com/images/2021/10/09/multimedia/09sp-sailing-speed-inyt1/09sp-sailing-speed-inyt1-threeByTwoLargeAt2X.jpg 1977w,https://static01.nyt.com/images/2021/10/09/multimedia/09sp-sailing-speed-inyt1/09sp-sailing-speed-inyt1-threeByTwoMediumAt2X.jpg 1500w,https://static01.nyt.com/images/2021/10/09/multimedia/09sp-sailing-speed-inyt1/09sp-sailing-speed-inyt1-threeByTwoSmallAt2X.jpg 600w\" sizes=\"(max-width: 600px) 120px, (max-width: 1024px) 165px, 205px\" decoding=\"async\" width=\"1\" height=\"1\"></div><figcaption class=\"css-13o4bnb e18f7pbr0\"></figcaption></figure></div></div></li><li class=\"css-1l4w6pd\" data-testid=\"search-bodega-result\"><div class=\"css-1kl114x\"><span data-testid=\"todays-date\" aria-label=\"October 4\" class=\"css-17ubb9w\">Oct. 4</span><div class=\"css-1i8vfl5\"><div class=\"css-e1lvw9\"><p class=\"css-myxawk\">Style</p><a href=\"/2021/10/04/style/matthew-rhys-boat.html?searchResultPosition=2\"><h4 class=\"css-2fgx4k\">Matthew Rhys Hits the Seas</h4><p class=\"css-16nhkrn\">The actor bought a wooden boat on a whim. It has taken him on a journey.</p><p class=\"css-15w69y9\">By Gabrielle Bluestone</p><span class=\"css-bc0f0m\"><div class=\"css-1rq7uyl\"></div><span class=\"css-h4mf4\">PRINT EDITION</span>Matthew Rhys and His Vessel Prove Seaworthy<span class=\"css-1t2tqhf\">|</span>October 7, 2021, Page D7</span></a></div><figure class=\"css-tap2ym\" aria-label=\"media\" role=\"group\"><div><img alt=\"\" class=\"css-rq4mmj\" src=\"https://static01.nyt.com/images/2021/10/07/fashion/RHYS2/RHYS2-threeByTwoSmallAt2X.jpg?quality=75&amp;auto=webp&amp;disable=upscale\" srcset=\"https://static01.nyt.com/images/2021/10/07/fashion/RHYS2/RHYS2-thumbWide.jpg 190w,https://static01.nyt.com/images/2021/10/07/fashion/RHYS2/RHYS2-videoThumb.jpg 75w,https://static01.nyt.com/images/2021/10/07/fashion/RHYS2/RHYS2-videoLarge.jpg 768w,https://static01.nyt.com/images/2021/10/07/fashion/RHYS2/RHYS2-mediumThreeByTwo210.jpg 210w,https://static01.nyt.com/images/2021/10/07/fashion/RHYS2/RHYS2-mediumThreeByTwo225.jpg 225w,https://static01.nyt.com/images/2021/10/07/fashion/RHYS2/RHYS2-mediumThreeByTwo440.jpg 440w,https://static01.nyt.com/images/2021/10/07/fashion/RHYS2/RHYS2-mediumThreeByTwo252.jpg 252w,https://static01.nyt.com/images/2021/10/07/fashion/RHYS2/RHYS2-mediumThreeByTwo378.jpg 378w,https://static01.nyt.com/images/2021/10/07/fashion/RHYS2/RHYS2-threeByTwoLargeAt2X.jpg 4256w,https://static01.nyt.com/images/2021/10/07/fashion/RHYS2/RHYS2-threeByTwoMediumAt2X.jpg 1500w,https://static01.nyt.com/images/2021/10/07/fashion/RHYS2/RHYS2-threeByTwoSmallAt2X.jpg 600w\" sizes=\"(max-width: 600px) 120px, (max-width: 1024px) 165px, 205px\" decoding=\"async\" width=\"1\" height=\"1\"></div><figcaption class=\"css-13o4bnb e18f7pbr0\"></figcaption></figure></div></div></li><li class=\"css-1l4w6pd\" data-testid=\"search-bodega-result\"><div class=\"css-1kl114x\"><span data-testid=\"todays-date\" aria-label=\"October 4\" class=\"css-17ubb9w\">Oct. 4</span><div class=\"css-1i8vfl5\"><div class=\"css-e1lvw9\"><p class=\"css-myxawk\">Magazine</p><a href=\"/interactive/2021/10/04/magazine/indra-nooyi-interview.html?searchResultPosition=3\"><h4 class=\"css-2fgx4k\">Indra Nooyi, Ex-C.E.O. of Pepsi, Thinks Big Business Can Do Better</h4><p class=\"css-16nhkrn\">“It’s not about giving away money we’ve made. It’s about how we make money a different way.”</p><p class=\"css-15w69y9\">By David Marchese</p><span class=\"css-bc0f0m\"><div class=\"css-1rq7uyl\"></div><span class=\"css-h4mf4\">PRINT EDITION</span><span class=\"css-bc0f0m\"></span>October 10, 2021, Page MM15</span></a></div><figure class=\"css-tap2ym\" aria-label=\"media\" role=\"group\"><div><img alt=\"\" class=\"css-rq4mmj\" src=\"https://static01.nyt.com/images/2021/10/10/magazine/10mag-talk/10mag-talk-threeByTwoSmallAt2X.jpg?quality=75&amp;auto=webp&amp;disable=upscale\" srcset=\"https://static01.nyt.com/images/2021/10/10/magazine/10mag-talk/10mag-talk-thumbWide.jpg 190w,https://static01.nyt.com/images/2021/10/10/magazine/10mag-talk/10mag-talk-videoThumb.jpg 75w,https://static01.nyt.com/images/2021/10/10/magazine/10mag-talk/10mag-talk-videoLarge.jpg 768w,https://static01.nyt.com/images/2021/10/10/magazine/10mag-talk/10mag-talk-mediumThreeByTwo210.jpg 210w,https://static01.nyt.com/images/2021/10/10/magazine/10mag-talk/10mag-talk-mediumThreeByTwo225.jpg 225w,https://static01.nyt.com/images/2021/10/10/magazine/10mag-talk/10mag-talk-mediumThreeByTwo440.jpg 440w,https://static01.nyt.com/images/2021/10/10/magazine/10mag-talk/10mag-talk-mediumThreeByTwo252.jpg 252w,https://static01.nyt.com/images/2021/10/10/magazine/10mag-talk/10mag-talk-mediumThreeByTwo378.jpg 378w,https://static01.nyt.com/images/2021/10/10/magazine/10mag-talk/10mag-talk-threeByTwoLargeAt2X.jpg 2250w,https://static01.nyt.com/images/2021/10/10/magazine/10mag-talk/10mag-talk-threeByTwoMediumAt2X.jpg 1500w,https://static01.nyt.com/images/2021/10/10/magazine/10mag-talk/10mag-talk-threeByTwoSmallAt2X.jpg 600w\" sizes=\"(max-width: 600px) 120px, (max-width: 1024px) 165px, 205px\" decoding=\"async\" width=\"1\" height=\"1\"></div><figcaption class=\"css-13o4bnb e18f7pbr0\"></figcaption></figure></div></div></li><li class=\"css-1l4w6pd\" data-testid=\"search-bodega-result\"><div class=\"css-1kl114x\"><span data-testid=\"todays-date\" aria-label=\"October 2\" class=\"css-17ubb9w\">Oct. 2</span><div class=\"css-1i8vfl5\"><div class=\"css-e1lvw9\"><p class=\"css-myxawk\">Americas</p><a href=\"/2021/10/02/world/americas/haitian-migrants-mexican-border.html?searchResultPosition=4\"><h4 class=\"css-2fgx4k\">Perilous, Roadless Jungle Becomes a Path of Desperate Hope</h4><p class=\"css-16nhkrn\">The recent surge at the Mexican border is likely to grow as more migrants, mostly Haitian, risk everything negotiating the notorious Darién Gap on their way to the United States.</p><p class=\"css-15w69y9\">By Julie Turkewitz, Natalie Kitroeff, Sofía Villamil and Federico Rios</p><span class=\"css-bc0f0m\"><div class=\"css-1rq7uyl\"></div><span class=\"css-h4mf4\">PRINT EDITION</span>Sights on U.S., Migrants Flood Perilous Jungle<span class=\"css-1t2tqhf\">|</span>October 3, 2021, Page A1</span></a></div><figure class=\"css-tap2ym\" aria-label=\"media\" role=\"group\"><div><img alt=\"\" class=\"css-rq4mmj\" src=\"https://static01.nyt.com/images/2021/10/02/world/02colombia-darien-top-2/02colombia-darien-top-2-threeByTwoSmallAt2X.jpg?quality=75&amp;auto=webp&amp;disable=upscale\" srcset=\"https://static01.nyt.com/images/2021/10/02/world/02colombia-darien-top-2/02colombia-darien-top-2-thumbWide.jpg 190w,https://static01.nyt.com/images/2021/10/02/world/02colombia-darien-top-2/02colombia-darien-top-2-videoThumb.jpg 75w,https://static01.nyt.com/images/2021/10/02/world/02colombia-darien-top-2/02colombia-darien-top-2-videoLarge.jpg 768w,https://static01.nyt.com/images/2021/10/02/world/02colombia-darien-top-2/02colombia-darien-top-2-mediumThreeByTwo210.jpg 210w,https://static01.nyt.com/images/2021/10/02/world/02colombia-darien-top-2/02colombia-darien-top-2-mediumThreeByTwo225.jpg 225w,https://static01.nyt.com/images/2021/10/02/world/02colombia-darien-top-2/02colombia-darien-top-2-mediumThreeByTwo440.jpg 440w,https://static01.nyt.com/images/2021/10/02/world/02colombia-darien-top-2/02colombia-darien-top-2-mediumThreeByTwo252.jpg 252w,https://static01.nyt.com/images/2021/10/02/world/02colombia-darien-top-2/02colombia-darien-top-2-mediumThreeByTwo378.jpg 378w,https://static01.nyt.com/images/2021/10/02/world/02colombia-darien-top-2/02colombia-darien-top-2-threeByTwoLargeAt2X.jpg 1928w,https://static01.nyt.com/images/2021/10/02/world/02colombia-darien-top-2/02colombia-darien-top-2-threeByTwoMediumAt2X.jpg 1500w,https://static01.nyt.com/images/2021/10/02/world/02colombia-darien-top-2/02colombia-darien-top-2-threeByTwoSmallAt2X.jpg 600w\" sizes=\"(max-width: 600px) 120px, (max-width: 1024px) 165px, 205px\" decoding=\"async\" width=\"1\" height=\"1\"></div><figcaption class=\"css-13o4bnb e18f7pbr0\"></figcaption></figure></div></div></li><li class=\"css-1yvwzdo\"><div class=\"css-142l3g4\" data-testid=\"StandardAd\"><h3 class=\"css-131kqdc\">Advertisement</h3><a href=\"#after-dfp-ad-mid1\" style=\"position: absolute; width: 1px; height: 1px; margin: -1px; padding: 0px; border: 0px; clip: rect(0px, 0px, 0px, 0px); overflow: hidden;\">Continue reading the main story</a><div class=\"ad dfp-ad-mid1-wrapper\" id=\"dfp-ad-mid1\" data-google-query-id=\"CNaIhZ3wvfMCFUMfZQodsdsGYQ\" style=\"text-align: center; height: 100%;\"><div id=\"google_ads_iframe_/29390238/nyt/search_0__container__\" style=\"border: 0pt none;\"><iframe id=\"google_ads_iframe_/29390238/nyt/search_0\" title=\"3rd party ad content\" name=\"google_ads_iframe_/29390238/nyt/search_0\" width=\"970\" height=\"250\" scrolling=\"no\" marginwidth=\"0\" marginheight=\"0\" frameborder=\"0\" allow=\"attribution-reporting\" srcdoc=\"\" data-google-container-id=\"1\" style=\"border: 0px; vertical-align: bottom;\" data-load-complete=\"true\"></iframe></div></div><div id=\"after-dfp-ad-mid1\"></div></div></li><li class=\"css-1l4w6pd\" data-testid=\"search-bodega-result\"><div class=\"css-1bdu3ax\"><span data-testid=\"todays-date\" aria-label=\"September 30\" class=\"css-17ubb9w\">Sept. 30</span><div class=\"css-1i8vfl5\"><div class=\"css-e1lvw9\"><p class=\"css-myxawk\">Sports</p><a href=\"/2021/09/30/sports/mlb-climate-change-players-for-the-planet.html?searchResultPosition=5\"><h4 class=\"css-2fgx4k\">The Environment Affects Baseball. These Players Want to Help.</h4><p class=\"css-16nhkrn\">Beach cleanups, plastic reduction, rethinking travel: A group of major leaguers is pushing back in a wasteful sport.</p><p class=\"css-15w69y9\">By James Wagner</p><span class=\"css-bc0f0m\"><div class=\"css-1rq7uyl\"></div><span class=\"css-h4mf4\">PRINT EDITION</span>Baseball Can Be a Greener Game<span class=\"css-1t2tqhf\">|</span>October 1, 2021, Page B7</span></a></div><figure class=\"css-tap2ym\" aria-label=\"media\" role=\"group\"><div><img alt=\"\" class=\"css-rq4mmj\" src=\"https://static01.nyt.com/images/2021/09/30/sports/baseball/mlb-environment/mlb-environment-threeByTwoSmallAt2X.jpg?quality=75&amp;auto=webp&amp;disable=upscale\" srcset=\"https://static01.nyt.com/images/2021/09/30/sports/baseball/mlb-environment/mlb-environment-thumbWide.jpg 190w,https://static01.nyt.com/images/2021/09/30/sports/baseball/mlb-environment/mlb-environment-videoThumb.jpg 75w,https://static01.nyt.com/images/2021/09/30/sports/baseball/mlb-environment/mlb-environment-videoLarge.jpg 768w,https://static01.nyt.com/images/2021/09/30/sports/baseball/mlb-environment/mlb-environment-mediumThreeByTwo210.jpg 210w,https://static01.nyt.com/images/2021/09/30/sports/baseball/mlb-environment/mlb-environment-mediumThreeByTwo225.jpg 225w,https://static01.nyt.com/images/2021/09/30/sports/baseball/mlb-environment/mlb-environment-mediumThreeByTwo440.jpg 440w,https://static01.nyt.com/images/2021/09/30/sports/baseball/mlb-environment/mlb-environment-mediumThreeByTwo252.jpg 252w,https://static01.nyt.com/images/2021/09/30/sports/baseball/mlb-environment/mlb-environment-mediumThreeByTwo378.jpg 378w,https://static01.nyt.com/images/2021/09/30/sports/baseball/mlb-environment/mlb-environment-threeByTwoLargeAt2X.jpg 3211w,https://static01.nyt.com/images/2021/09/30/sports/baseball/mlb-environment/mlb-environment-threeByTwoMediumAt2X.jpg 1500w,https://static01.nyt.com/images/2021/09/30/sports/baseball/mlb-environment/mlb-environment-threeByTwoSmallAt2X.jpg 600w\" sizes=\"(max-width: 600px) 120px, (max-width: 1024px) 165px, 205px\" decoding=\"async\" width=\"1\" height=\"1\"></div><figcaption class=\"css-13o4bnb e18f7pbr0\"></figcaption></figure></div></div></li><li class=\"css-1l4w6pd\" data-testid=\"search-bodega-result\"><div class=\"css-1kl114x\"><span data-testid=\"todays-date\" aria-label=\"September 29\" class=\"css-17ubb9w\">Sept. 29</span><div class=\"css-1i8vfl5\"><div class=\"css-e1lvw9\"><p class=\"css-myxawk\">Book Review</p><a href=\"/2021/09/29/books/review/how-the-animal-world-is-adapting-to-climate-change.html?searchResultPosition=6\"><h4 class=\"css-2fgx4k\">How the Animal World Is Adapting to Climate Change</h4><p class=\"css-16nhkrn\">In “Hurricane Lizards and Plastic Squid,” Thor Hanson looks at the evolutionary shifts already taking place as ecosystems and weather patterns change.</p><p class=\"css-15w69y9\">By Jonathan Balcombe</p><span class=\"css-bc0f0m\"><div class=\"css-1rq7uyl\"></div><span class=\"css-h4mf4\">PRINT EDITION</span>Adaptation<span class=\"css-1t2tqhf\">|</span>October 31, 2021</span></a></div><figure class=\"css-tap2ym\" aria-label=\"media\" role=\"group\"><div><img alt=\"A group of little auks or dovekies (Alle alle) at their nesting site on a rocky hillside at Varsolbukta in Bellsund, which is a 20 km long sound and part of the Svalbard archipelago of Norway.\" class=\"css-rq4mmj\" src=\"https://static01.nyt.com/images/2021/09/28/books/28Balcombe3/28Balcombe3-threeByTwoSmallAt2X.jpg?quality=75&amp;auto=webp&amp;disable=upscale\" srcset=\"https://static01.nyt.com/images/2021/09/28/books/28Balcombe3/28Balcombe3-thumbWide.jpg 190w,https://static01.nyt.com/images/2021/09/28/books/28Balcombe3/28Balcombe3-videoThumb.jpg 75w,https://static01.nyt.com/images/2021/09/28/books/28Balcombe3/28Balcombe3-videoLarge.jpg 768w,https://static01.nyt.com/images/2021/09/28/books/28Balcombe3/28Balcombe3-mediumThreeByTwo210.jpg 210w,https://static01.nyt.com/images/2021/09/28/books/28Balcombe3/28Balcombe3-mediumThreeByTwo225.jpg 225w,https://static01.nyt.com/images/2021/09/28/books/28Balcombe3/28Balcombe3-mediumThreeByTwo440.jpg 440w,https://static01.nyt.com/images/2021/09/28/books/28Balcombe3/28Balcombe3-mediumThreeByTwo252.jpg 252w,https://static01.nyt.com/images/2021/09/28/books/28Balcombe3/28Balcombe3-mediumThreeByTwo378.jpg 378w,https://static01.nyt.com/images/2021/09/28/books/28Balcombe3/28Balcombe3-threeByTwoLargeAt2X.jpg 4990w,https://static01.nyt.com/images/2021/09/28/books/28Balcombe3/28Balcombe3-threeByTwoMediumAt2X.jpg 1500w,https://static01.nyt.com/images/2021/09/28/books/28Balcombe3/28Balcombe3-threeByTwoSmallAt2X.jpg 600w\" sizes=\"(max-width: 600px) 120px, (max-width: 1024px) 165px, 205px\" decoding=\"async\" width=\"1\" height=\"1\"></div><figcaption class=\"css-13o4bnb e18f7pbr0\"></figcaption></figure></div></div></li><li class=\"css-1l4w6pd\" data-testid=\"search-bodega-result\"><div class=\"css-1kl114x\"><span data-testid=\"todays-date\" aria-label=\"September 28\" class=\"css-17ubb9w\">Sept. 28</span><div class=\"css-1i8vfl5\"><div class=\"css-e1lvw9\"><p class=\"css-myxawk\">Science</p><a href=\"/2021/09/28/science/microfiber-pollution-svalbard.html?searchResultPosition=7\"><h4 class=\"css-2fgx4k\">This Fjord Shows Even Small Populations Create Giant Microfiber Pollution</h4><p class=\"css-16nhkrn\">Researchers found that one tiny Arctic village’s unfiltered sewage produces as much microplastic as the treated waste of more than a million people.</p><p class=\"css-15w69y9\">By Jessica Leigh Hester</p><span class=\"css-bc0f0m\"><div class=\"css-1rq7uyl\"></div><span class=\"css-h4mf4\">PRINT EDITION</span>Village in the Arctic Has Big-City Pollution<span class=\"css-1t2tqhf\">|</span>September 28, 2021, Page D3</span></a></div><figure class=\"css-tap2ym\" aria-label=\"media\" role=\"group\"><div><img alt=\"Longyearbyen, on the Adventfjorden bay in Norway’s Svalbard archipelago. A study found that the tiny village emits roughly as many microplastics as a wastewater treatment plant near Vancouver.\" class=\"css-rq4mmj\" src=\"https://static01.nyt.com/images/2021/09/28/science/28sci-island/28sci-island-threeByTwoSmallAt2X.jpg?quality=75&amp;auto=webp&amp;disable=upscale\" srcset=\"https://static01.nyt.com/images/2021/09/28/science/28sci-island/28sci-island-thumbWide.jpg 190w,https://static01.nyt.com/images/2021/09/28/science/28sci-island/28sci-island-videoThumb.jpg 75w,https://static01.nyt.com/images/2021/09/28/science/28sci-island/28sci-island-videoLarge.jpg 768w,https://static01.nyt.com/images/2021/09/28/science/28sci-island/28sci-island-mediumThreeByTwo210.jpg 210w,https://static01.nyt.com/images/2021/09/28/science/28sci-island/28sci-island-mediumThreeByTwo225.jpg 225w,https://static01.nyt.com/images/2021/09/28/science/28sci-island/28sci-island-mediumThreeByTwo440.jpg 440w,https://static01.nyt.com/images/2021/09/28/science/28sci-island/28sci-island-mediumThreeByTwo252.jpg 252w,https://static01.nyt.com/images/2021/09/28/science/28sci-island/28sci-island-mediumThreeByTwo378.jpg 378w,https://static01.nyt.com/images/2021/09/28/science/28sci-island/28sci-island-threeByTwoLargeAt2X.jpg 5135w,https://static01.nyt.com/images/2021/09/28/science/28sci-island/28sci-island-threeByTwoMediumAt2X.jpg 1500w,https://static01.nyt.com/images/2021/09/28/science/28sci-island/28sci-island-threeByTwoSmallAt2X.jpg 600w\" sizes=\"(max-width: 600px) 120px, (max-width: 1024px) 165px, 205px\" decoding=\"async\" width=\"1\" height=\"1\"></div><figcaption class=\"css-13o4bnb e18f7pbr0\"></figcaption></figure></div></div></li><li class=\"css-1l4w6pd\" data-testid=\"search-bodega-result\"><div class=\"css-1kl114x\"><span data-testid=\"todays-date\" aria-label=\"September 26\" class=\"css-17ubb9w\">Sept. 26</span><div class=\"css-1i8vfl5\"><div class=\"css-e1lvw9\"><p class=\"css-myxawk\">Fashion</p><a href=\"/2021/09/26/fashion/watches-social-responsibility.html?searchResultPosition=8\"><h4 class=\"css-2fgx4k\">Watches, Unusual Names and Social Responsibility</h4><p class=\"css-16nhkrn\">Brands like DecideAndAct and Triwa say they create timepieces with the planet in mind.</p><p class=\"css-15w69y9\">By Rachel Felder</p><span class=\"css-bc0f0m\"><div class=\"css-1rq7uyl\"></div><span class=\"css-h4mf4\">PRINT EDITION</span>Seeking social responsibility<span class=\"css-1t2tqhf\">|</span>September 27, 2021, Page S3</span></a></div><figure class=\"css-tap2ym\" aria-label=\"media\" role=\"group\"><div><img alt=\"Triwa, whose name is an acronym for Transforming the Industry of Watches, sells watches starting at less than $200.&nbsp;\" class=\"css-rq4mmj\" src=\"https://static01.nyt.com/images/2021/09/27/multimedia/27sp-watchesroundup-inyt3/27sp-watchesroundup-inyt3-threeByTwoSmallAt2X.jpg?quality=75&amp;auto=webp&amp;disable=upscale\" srcset=\"https://static01.nyt.com/images/2021/09/27/multimedia/27sp-watchesroundup-inyt3/27sp-watchesroundup-inyt3-thumbWide.jpg 190w,https://static01.nyt.com/images/2021/09/27/multimedia/27sp-watchesroundup-inyt3/27sp-watchesroundup-inyt3-videoThumb.jpg 75w,https://static01.nyt.com/images/2021/09/27/multimedia/27sp-watchesroundup-inyt3/27sp-watchesroundup-inyt3-videoLarge.jpg 768w,https://static01.nyt.com/images/2021/09/27/multimedia/27sp-watchesroundup-inyt3/27sp-watchesroundup-inyt3-mediumThreeByTwo210.jpg 210w,https://static01.nyt.com/images/2021/09/27/multimedia/27sp-watchesroundup-inyt3/27sp-watchesroundup-inyt3-mediumThreeByTwo225.jpg 225w,https://static01.nyt.com/images/2021/09/27/multimedia/27sp-watchesroundup-inyt3/27sp-watchesroundup-inyt3-mediumThreeByTwo440.jpg 440w,https://static01.nyt.com/images/2021/09/27/multimedia/27sp-watchesroundup-inyt3/27sp-watchesroundup-inyt3-mediumThreeByTwo252.jpg 252w,https://static01.nyt.com/images/2021/09/27/multimedia/27sp-watchesroundup-inyt3/27sp-watchesroundup-inyt3-mediumThreeByTwo378.jpg 378w,https://static01.nyt.com/images/2021/09/27/multimedia/27sp-watchesroundup-inyt3/27sp-watchesroundup-inyt3-threeByTwoLargeAt2X.jpg 5197w,https://static01.nyt.com/images/2021/09/27/multimedia/27sp-watchesroundup-inyt3/27sp-watchesroundup-inyt3-threeByTwoMediumAt2X.jpg 1500w,https://static01.nyt.com/images/2021/09/27/multimedia/27sp-watchesroundup-inyt3/27sp-watchesroundup-inyt3-threeByTwoSmallAt2X.jpg 600w\" sizes=\"(max-width: 600px) 120px, (max-width: 1024px) 165px, 205px\" decoding=\"async\" width=\"1\" height=\"1\"></div><figcaption class=\"css-13o4bnb e18f7pbr0\"></figcaption></figure></div></div></li><li class=\"css-1l4w6pd\" data-testid=\"search-bodega-result\"><div class=\"css-1kl114x\"><span data-testid=\"todays-date\" aria-label=\"September 25\" class=\"css-17ubb9w\">Sept. 25</span><div class=\"css-1i8vfl5\"><div class=\"css-e1lvw9\"><p class=\"css-myxawk\">Travel</p><a href=\"/2021/09/25/travel/whales-quebec.html?searchResultPosition=9\"><h4 class=\"css-2fgx4k\">Whales So Close You Can Touch Them: A Family Adventure in Canada</h4><p class=\"css-16nhkrn\">Recalling a prepandemic trip to a watery landscape in Quebec province: “The adventure we had feels like one plucked from a world I can no longer reach, not unlike watching the water, waiting for a whale to crest.”</p><p class=\"css-15w69y9\">By Ronda Kaysen</p></a></div><figure class=\"css-tap2ym\" aria-label=\"media\" role=\"group\"><div><img alt=\"In the province of Quebec, near Tadoussac — a picturesque town where the Saguenay meets the St. Lawrence River — whale-watching is a serious endeavor. Above, a humpback whale in the St. Lawrence River.\" class=\"css-rq4mmj\" src=\"https://static01.nyt.com/images/2021/09/24/travel/24canada-whales1/merlin_195192564_916c599f-6080-44bc-892f-73add779fe5d-threeByTwoSmallAt2X.jpg?quality=75&amp;auto=webp&amp;disable=upscale\" srcset=\"https://static01.nyt.com/images/2021/09/24/travel/24canada-whales1/merlin_195192564_916c599f-6080-44bc-892f-73add779fe5d-thumbWide.jpg 190w,https://static01.nyt.com/images/2021/09/24/travel/24canada-whales1/merlin_195192564_916c599f-6080-44bc-892f-73add779fe5d-videoThumb.jpg 75w,https://static01.nyt.com/images/2021/09/24/travel/24canada-whales1/merlin_195192564_916c599f-6080-44bc-892f-73add779fe5d-videoLarge.jpg 768w,https://static01.nyt.com/images/2021/09/24/travel/24canada-whales1/merlin_195192564_916c599f-6080-44bc-892f-73add779fe5d-mediumThreeByTwo210.jpg 210w,https://static01.nyt.com/images/2021/09/24/travel/24canada-whales1/merlin_195192564_916c599f-6080-44bc-892f-73add779fe5d-mediumThreeByTwo225.jpg 225w,https://static01.nyt.com/images/2021/09/24/travel/24canada-whales1/merlin_195192564_916c599f-6080-44bc-892f-73add779fe5d-mediumThreeByTwo440.jpg 440w,https://static01.nyt.com/images/2021/09/24/travel/24canada-whales1/merlin_195192564_916c599f-6080-44bc-892f-73add779fe5d-mediumThreeByTwo252.jpg 252w,https://static01.nyt.com/images/2021/09/24/travel/24canada-whales1/merlin_195192564_916c599f-6080-44bc-892f-73add779fe5d-mediumThreeByTwo378.jpg 378w,https://static01.nyt.com/images/2021/09/24/travel/24canada-whales1/merlin_195192564_916c599f-6080-44bc-892f-73add779fe5d-threeByTwoLargeAt2X.jpg 8640w,https://static01.nyt.com/images/2021/09/24/travel/24canada-whales1/merlin_195192564_916c599f-6080-44bc-892f-73add779fe5d-threeByTwoMediumAt2X.jpg 1500w,https://static01.nyt.com/images/2021/09/24/travel/24canada-whales1/merlin_195192564_916c599f-6080-44bc-892f-73add779fe5d-threeByTwoSmallAt2X.jpg 600w\" sizes=\"(max-width: 600px) 120px, (max-width: 1024px) 165px, 205px\" decoding=\"async\" width=\"1\" height=\"1\"></div><figcaption class=\"css-13o4bnb e18f7pbr0\"></figcaption></figure></div></div></li><li class=\"css-1l4w6pd\" data-testid=\"search-bodega-result\"><div class=\"css-1kl114x\"><span data-testid=\"todays-date\" aria-label=\"September 20\" class=\"css-17ubb9w\">Sept. 20</span><div class=\"css-1i8vfl5\"><div class=\"css-e1lvw9\"><p class=\"css-myxawk\">Business</p><a href=\"/2021/09/20/business/supply-chain-shortages-nonprofits.html?searchResultPosition=10\"><h4 class=\"css-2fgx4k\">Global Supply Shortages Reach All the Way to a Haitian Aid Group</h4><p class=\"css-16nhkrn\">Continuing disruption to factory production and bottlenecks in shipping are leaving nonprofit groups short of goods for vulnerable communities worldwide.</p><p class=\"css-15w69y9\">By Peter S. Goodman</p><span class=\"css-bc0f0m\"><div class=\"css-1rq7uyl\"></div><span class=\"css-h4mf4\">PRINT EDITION</span>For Neediest, Shortages Hit Hardest<span class=\"css-1t2tqhf\">|</span>September 21, 2021, Page B1</span></a></div><figure class=\"css-tap2ym\" aria-label=\"media\" role=\"group\"><div><img alt=\"The Soles4Souls warehouse in Alabama is suffering shortages of footwear as manufacturers that donate inventory keep more of it in a frantic bid to satisfy retail customers.\" class=\"css-rq4mmj\" src=\"https://static01.nyt.com/images/2021/09/20/business/20supplychain-nonprofits-1/20supplychain-nonprofits-1-threeByTwoSmallAt2X.jpg?quality=75&amp;auto=webp&amp;disable=upscale\" srcset=\"https://static01.nyt.com/images/2021/09/20/business/20supplychain-nonprofits-1/20supplychain-nonprofits-1-thumbWide.jpg 190w,https://static01.nyt.com/images/2021/09/20/business/20supplychain-nonprofits-1/20supplychain-nonprofits-1-videoThumb.jpg 75w,https://static01.nyt.com/images/2021/09/20/business/20supplychain-nonprofits-1/20supplychain-nonprofits-1-videoLarge.jpg 768w,https://static01.nyt.com/images/2021/09/20/business/20supplychain-nonprofits-1/20supplychain-nonprofits-1-mediumThreeByTwo210.jpg 210w,https://static01.nyt.com/images/2021/09/20/business/20supplychain-nonprofits-1/20supplychain-nonprofits-1-mediumThreeByTwo225.jpg 225w,https://static01.nyt.com/images/2021/09/20/business/20supplychain-nonprofits-1/20supplychain-nonprofits-1-mediumThreeByTwo440.jpg 440w,https://static01.nyt.com/images/2021/09/20/business/20supplychain-nonprofits-1/20supplychain-nonprofits-1-mediumThreeByTwo252.jpg 252w,https://static01.nyt.com/images/2021/09/20/business/20supplychain-nonprofits-1/20supplychain-nonprofits-1-mediumThreeByTwo378.jpg 378w,https://static01.nyt.com/images/2021/09/20/business/20supplychain-nonprofits-1/20supplychain-nonprofits-1-threeByTwoLargeAt2X.jpg 7848w,https://static01.nyt.com/images/2021/09/20/business/20supplychain-nonprofits-1/20supplychain-nonprofits-1-threeByTwoMediumAt2X.jpg 1500w,https://static01.nyt.com/images/2021/09/20/business/20supplychain-nonprofits-1/20supplychain-nonprofits-1-threeByTwoSmallAt2X.jpg 600w\" sizes=\"(max-width: 600px) 120px, (max-width: 1024px) 165px, 205px\" decoding=\"async\" width=\"1\" height=\"1\"></div><figcaption class=\"css-13o4bnb e18f7pbr0\"></figcaption></figure></div></div></li></ol>\n",
    "browser.is_element_present_by_css('div.css-46b038', wait_time=1)"
   ]
  },
  {
   "cell_type": "code",
   "execution_count": 17,
   "metadata": {},
   "outputs": [],
   "source": [
    "# Parse html\n",
    "html = browser.html\n",
    "news_soup = soup(html, 'html.parser')"
   ]
  },
  {
   "cell_type": "code",
   "execution_count": 32,
   "metadata": {},
   "outputs": [
    {
     "name": "stdout",
     "output_type": "stream",
     "text": [
      "There are 37 links in this page\n"
     ]
    }
   ],
   "source": [
    "# Print number of links on Webpage\n",
    "nb_links = len(news_soup.find_all('a'))\n",
    "print(f\"There are {nb_links} links in this page\")"
   ]
  },
  {
   "cell_type": "code",
   "execution_count": 33,
   "metadata": {},
   "outputs": [
    {
     "name": "stdout",
     "output_type": "stream",
     "text": [
      "<title>The New York Times - Search</title>\n"
     ]
    }
   ],
   "source": [
    "# Print Title of Webpage\n",
    "print(news_soup.title)"
   ]
  },
  {
   "cell_type": "code",
   "execution_count": 34,
   "metadata": {},
   "outputs": [
    {
     "name": "stdout",
     "output_type": "stream",
     "text": [
      "\n",
      "\n",
      "The New York Times - Search\n",
      "\n",
      "\n",
      "\n",
      "\n",
      "\n",
      "\n",
      "\n",
      "\n",
      "\n",
      "\n",
      "\n",
      "\n",
      "\n",
      "\n",
      "\n",
      "\n",
      "\n",
      "SectionsSEARCHSkip to contentSkip to site indexLog inSaturday, October 9, 2021Today’s PaperSUBSCRIBE FOR $1/WEEKLog InShowing 5,407 results for: Showing 10 out of 5,407 results for:ocean plasticSearchUse up and down arrows to review search suggestions and enter to select Sort by RelevanceSort by NewestSort by OldestRefine results via Date RangeRefine results via SectionRefine results via TypeOct. 8SailingThe Blistering Speed of SailGPThe catamarans use wings, not sails, and hydrofoils help the boat fly over the water. It’s like a fast video game, with consequences.By Kimball LivingstonPRINT EDITIONThe blistering speed of SailGP|October 9, 2021, Page A13Oct. 4StyleMatthew Rhys Hits the SeasThe actor bought a wooden boat on a whim. It has taken him on a journey.By Gabrielle BluestonePRINT EDITIONMatthew Rhys and His Vessel Prove Seaworthy|October 7, 2021, Page D7Oct. 4MagazineIndra Nooyi, Ex-C.E.O. of Pepsi, Thinks Big Business Can Do Better“It’s not about giving away money we’ve made. It’s about how we make money a different way.”By David MarchesePRINT EDITIONOctober 10, 2021, Page MM15Oct. 2AmericasPerilous, Roadless Jungle Becomes a Path of Desperate HopeThe recent surge at the Mexican border is likely to grow as more migrants, mostly Haitian, risk everything negotiating the notorious Darién Gap on their way to the United States.By Julie Turkewitz, Natalie Kitroeff, Sofía Villamil and Federico RiosPRINT EDITIONSights on U.S., Migrants Flood Perilous Jungle|October 3, 2021, Page A1AdvertisementContinue reading the main storySept. 30SportsThe Environment Affects Baseball. These Players Want to Help.Beach cleanups, plastic reduction, rethinking travel: A group of major leaguers is pushing back in a wasteful sport.By James WagnerPRINT EDITIONBaseball Can Be a Greener Game|October 1, 2021, Page B7Sept. 29Book ReviewHow the Animal World Is Adapting to Climate ChangeIn “Hurricane Lizards and Plastic Squid,” Thor Hanson looks at the evolutionary shifts already taking place as ecosystems and weather patterns change.By Jonathan BalcombePRINT EDITIONAdaptation|October 31, 2021Sept. 28ScienceThis Fjord Shows Even Small Populations Create Giant Microfiber PollutionResearchers found that one tiny Arctic village’s unfiltered sewage produces as much microplastic as the treated waste of more than a million people.By Jessica Leigh HesterPRINT EDITIONVillage in the Arctic Has Big-City Pollution|September 28, 2021, Page D3Sept. 26FashionWatches, Unusual Names and Social ResponsibilityBrands like DecideAndAct and Triwa say they create timepieces with the planet in mind.By Rachel FelderPRINT EDITIONSeeking social responsibility|September 27, 2021, Page S3Sept. 25TravelWhales So Close You Can Touch Them: A Family Adventure in CanadaRecalling a prepandemic trip to a watery landscape in Quebec province: “The adventure we had feels like one plucked from a world I can no longer reach, not unlike watching the water, waiting for a whale to crest.”By Ronda KaysenSept. 20BusinessGlobal Supply Shortages Reach All the Way to a Haitian Aid GroupContinuing disruption to factory production and bottlenecks in shipping are leaving nonprofit groups short of goods for vulnerable communities worldwide.By Peter S. GoodmanPRINT EDITIONFor Neediest, Shortages Hit Hardest|September 21, 2021, Page B1Have search feedback? Let us know what you think.Show MoreSite Information Navigation© 2021 The New York Times CompanyNYTCoContact UsAccessibilityWork with usAdvertiseT Brand StudioYour Ad ChoicesPrivacy PolicyTerms of ServiceTerms of SaleSite MapCanadaInternationalHelpSubscriptionsDo Not Sell My Personal InformationSomething went wrong. Please try again later.California Notices\n",
      "\n",
      "\n",
      "\n",
      "\n",
      "\n",
      "\n",
      "\n",
      "\n",
      "\n",
      "\n",
      "\n",
      "\n",
      "\n",
      "\n",
      "\n",
      "\n",
      " \n",
      "\n",
      "\n",
      "\n",
      "\n",
      "\n",
      "\n"
     ]
    }
   ],
   "source": [
    "# Print text on Webpage\n",
    "print(news_soup.get_text())"
   ]
  },
  {
   "cell_type": "code",
   "execution_count": 22,
   "metadata": {},
   "outputs": [
    {
     "name": "stdout",
     "output_type": "stream",
     "text": [
      "The Blistering Speed of SailGP\n",
      "Matthew Rhys Hits the Seas\n",
      "Indra Nooyi, Ex-C.E.O. of Pepsi, Thinks Big Business Can Do Better\n",
      "Perilous, Roadless Jungle Becomes a Path of Desperate Hope\n",
      "The Environment Affects Baseball. These Players Want to Help.\n",
      "How the Animal World Is Adapting to Climate Change\n",
      "This Fjord Shows Even Small Populations Create Giant Microfiber Pollution\n",
      "Watches, Unusual Names and Social Responsibility\n",
      "Whales So Close You Can Touch Them: A Family Adventure in Canada\n",
      "Global Supply Shortages Reach All the Way to a Haitian Aid Group\n"
     ]
    }
   ],
   "source": [
    "# Scrape all of the Titles\n",
    "#<div class=\"css-46b038\"><ol data-testid=\"search-results\" aria-live=\"polite\"><li class=\"css-1l4w6pd\" data-testid=\"search-bodega-result\"><div class=\"css-1kl114x\"><span data-testid=\"todays-date\" aria-label=\"October 8\" class=\"css-17ubb9w\">Oct. 8</span><div class=\"css-1i8vfl5\"><div class=\"css-e1lvw9\"><p class=\"css-myxawk\">Sailing</p><a href=\"/2021/10/08/sports/sailing/sailgp-catamarans-speed.html?searchResultPosition=1\"><h4 class=\"css-2fgx4k\">The Blistering Speed of SailGP</h4><p class=\"css-16nhkrn\">The catamarans use wings, not sails, and hydrofoils help the boat fly over the water. It’s like a fast video game, with consequences.</p><p class=\"css-15w69y9\">By Kimball Livingston</p><span class=\"css-bc0f0m\"><div class=\"css-1rq7uyl\"></div><span class=\"css-h4mf4\">PRINT EDITION</span>The blistering speed of SailGP<span class=\"css-1t2tqhf\">|</span>October 9, 2021, Page A13</span></a></div><figure class=\"css-tap2ym\" aria-label=\"media\" role=\"group\"><div><img alt=\"Aboard the Australian team’s boat in August. The helmsman is called the driver.\" class=\"css-rq4mmj\" src=\"https://static01.nyt.com/images/2021/10/09/multimedia/09sp-sailing-speed-inyt1/09sp-sailing-speed-inyt1-threeByTwoSmallAt2X.jpg?quality=75&amp;auto=webp&amp;disable=upscale\" srcset=\"https://static01.nyt.com/images/2021/10/09/multimedia/09sp-sailing-speed-inyt1/09sp-sailing-speed-inyt1-thumbWide.jpg 190w,https://static01.nyt.com/images/2021/10/09/multimedia/09sp-sailing-speed-inyt1/09sp-sailing-speed-inyt1-videoThumb.jpg 75w,https://static01.nyt.com/images/2021/10/09/multimedia/09sp-sailing-speed-inyt1/09sp-sailing-speed-inyt1-videoLarge.jpg 768w,https://static01.nyt.com/images/2021/10/09/multimedia/09sp-sailing-speed-inyt1/09sp-sailing-speed-inyt1-mediumThreeByTwo210.jpg 210w,https://static01.nyt.com/images/2021/10/09/multimedia/09sp-sailing-speed-inyt1/09sp-sailing-speed-inyt1-mediumThreeByTwo225.jpg 225w,https://static01.nyt.com/images/2021/10/09/multimedia/09sp-sailing-speed-inyt1/09sp-sailing-speed-inyt1-mediumThreeByTwo440.jpg 440w,https://static01.nyt.com/images/2021/10/09/multimedia/09sp-sailing-speed-inyt1/09sp-sailing-speed-inyt1-mediumThreeByTwo252.jpg 252w,https://static01.nyt.com/images/2021/10/09/multimedia/09sp-sailing-speed-inyt1/09sp-sailing-speed-inyt1-mediumThreeByTwo378.jpg 378w,https://static01.nyt.com/images/2021/10/09/multimedia/09sp-sailing-speed-inyt1/09sp-sailing-speed-inyt1-threeByTwoLargeAt2X.jpg 1977w,https://static01.nyt.com/images/2021/10/09/multimedia/09sp-sailing-speed-inyt1/09sp-sailing-speed-inyt1-threeByTwoMediumAt2X.jpg 1500w,https://static01.nyt.com/images/2021/10/09/multimedia/09sp-sailing-speed-inyt1/09sp-sailing-speed-inyt1-threeByTwoSmallAt2X.jpg 600w\" sizes=\"(max-width: 600px) 120px, (max-width: 1024px) 165px, 205px\" decoding=\"async\" width=\"1\" height=\"1\"></div><figcaption class=\"css-13o4bnb e18f7pbr0\"></figcaption></figure></div></div></li><li class=\"css-1l4w6pd\" data-testid=\"search-bodega-result\"><div class=\"css-1kl114x\"><span data-testid=\"todays-date\" aria-label=\"October 4\" class=\"css-17ubb9w\">Oct. 4</span><div class=\"css-1i8vfl5\"><div class=\"css-e1lvw9\"><p class=\"css-myxawk\">Style</p><a href=\"/2021/10/04/style/matthew-rhys-boat.html?searchResultPosition=2\"><h4 class=\"css-2fgx4k\">Matthew Rhys Hits the Seas</h4><p class=\"css-16nhkrn\">The actor bought a wooden boat on a whim. It has taken him on a journey.</p><p class=\"css-15w69y9\">By Gabrielle Bluestone</p><span class=\"css-bc0f0m\"><div class=\"css-1rq7uyl\"></div><span class=\"css-h4mf4\">PRINT EDITION</span>Matthew Rhys and His Vessel Prove Seaworthy<span class=\"css-1t2tqhf\">|</span>October 7, 2021, Page D7</span></a></div><figure class=\"css-tap2ym\" aria-label=\"media\" role=\"group\"><div><img alt=\"\" class=\"css-rq4mmj\" src=\"https://static01.nyt.com/images/2021/10/07/fashion/RHYS2/RHYS2-threeByTwoSmallAt2X.jpg?quality=75&amp;auto=webp&amp;disable=upscale\" srcset=\"https://static01.nyt.com/images/2021/10/07/fashion/RHYS2/RHYS2-thumbWide.jpg 190w,https://static01.nyt.com/images/2021/10/07/fashion/RHYS2/RHYS2-videoThumb.jpg 75w,https://static01.nyt.com/images/2021/10/07/fashion/RHYS2/RHYS2-videoLarge.jpg 768w,https://static01.nyt.com/images/2021/10/07/fashion/RHYS2/RHYS2-mediumThreeByTwo210.jpg 210w,https://static01.nyt.com/images/2021/10/07/fashion/RHYS2/RHYS2-mediumThreeByTwo225.jpg 225w,https://static01.nyt.com/images/2021/10/07/fashion/RHYS2/RHYS2-mediumThreeByTwo440.jpg 440w,https://static01.nyt.com/images/2021/10/07/fashion/RHYS2/RHYS2-mediumThreeByTwo252.jpg 252w,https://static01.nyt.com/images/2021/10/07/fashion/RHYS2/RHYS2-mediumThreeByTwo378.jpg 378w,https://static01.nyt.com/images/2021/10/07/fashion/RHYS2/RHYS2-threeByTwoLargeAt2X.jpg 4256w,https://static01.nyt.com/images/2021/10/07/fashion/RHYS2/RHYS2-threeByTwoMediumAt2X.jpg 1500w,https://static01.nyt.com/images/2021/10/07/fashion/RHYS2/RHYS2-threeByTwoSmallAt2X.jpg 600w\" sizes=\"(max-width: 600px) 120px, (max-width: 1024px) 165px, 205px\" decoding=\"async\" width=\"1\" height=\"1\"></div><figcaption class=\"css-13o4bnb e18f7pbr0\"></figcaption></figure></div></div></li><li class=\"css-1l4w6pd\" data-testid=\"search-bodega-result\"><div class=\"css-1kl114x\"><span data-testid=\"todays-date\" aria-label=\"October 4\" class=\"css-17ubb9w\">Oct. 4</span><div class=\"css-1i8vfl5\"><div class=\"css-e1lvw9\"><p class=\"css-myxawk\">Magazine</p><a href=\"/interactive/2021/10/04/magazine/indra-nooyi-interview.html?searchResultPosition=3\"><h4 class=\"css-2fgx4k\">Indra Nooyi, Ex-C.E.O. of Pepsi, Thinks Big Business Can Do Better</h4><p class=\"css-16nhkrn\">“It’s not about giving away money we’ve made. It’s about how we make money a different way.”</p><p class=\"css-15w69y9\">By David Marchese</p><span class=\"css-bc0f0m\"><div class=\"css-1rq7uyl\"></div><span class=\"css-h4mf4\">PRINT EDITION</span><span class=\"css-bc0f0m\"></span>October 10, 2021, Page MM15</span></a></div><figure class=\"css-tap2ym\" aria-label=\"media\" role=\"group\"><div><img alt=\"\" class=\"css-rq4mmj\" src=\"https://static01.nyt.com/images/2021/10/10/magazine/10mag-talk/10mag-talk-threeByTwoSmallAt2X.jpg?quality=75&amp;auto=webp&amp;disable=upscale\" srcset=\"https://static01.nyt.com/images/2021/10/10/magazine/10mag-talk/10mag-talk-thumbWide.jpg 190w,https://static01.nyt.com/images/2021/10/10/magazine/10mag-talk/10mag-talk-videoThumb.jpg 75w,https://static01.nyt.com/images/2021/10/10/magazine/10mag-talk/10mag-talk-videoLarge.jpg 768w,https://static01.nyt.com/images/2021/10/10/magazine/10mag-talk/10mag-talk-mediumThreeByTwo210.jpg 210w,https://static01.nyt.com/images/2021/10/10/magazine/10mag-talk/10mag-talk-mediumThreeByTwo225.jpg 225w,https://static01.nyt.com/images/2021/10/10/magazine/10mag-talk/10mag-talk-mediumThreeByTwo440.jpg 440w,https://static01.nyt.com/images/2021/10/10/magazine/10mag-talk/10mag-talk-mediumThreeByTwo252.jpg 252w,https://static01.nyt.com/images/2021/10/10/magazine/10mag-talk/10mag-talk-mediumThreeByTwo378.jpg 378w,https://static01.nyt.com/images/2021/10/10/magazine/10mag-talk/10mag-talk-threeByTwoLargeAt2X.jpg 2250w,https://static01.nyt.com/images/2021/10/10/magazine/10mag-talk/10mag-talk-threeByTwoMediumAt2X.jpg 1500w,https://static01.nyt.com/images/2021/10/10/magazine/10mag-talk/10mag-talk-threeByTwoSmallAt2X.jpg 600w\" sizes=\"(max-width: 600px) 120px, (max-width: 1024px) 165px, 205px\" decoding=\"async\" width=\"1\" height=\"1\"></div><figcaption class=\"css-13o4bnb e18f7pbr0\"></figcaption></figure></div></div></li><li class=\"css-1l4w6pd\" data-testid=\"search-bodega-result\"><div class=\"css-1kl114x\"><span data-testid=\"todays-date\" aria-label=\"October 2\" class=\"css-17ubb9w\">Oct. 2</span><div class=\"css-1i8vfl5\"><div class=\"css-e1lvw9\"><p class=\"css-myxawk\">Americas</p><a href=\"/2021/10/02/world/americas/haitian-migrants-mexican-border.html?searchResultPosition=4\"><h4 class=\"css-2fgx4k\">Perilous, Roadless Jungle Becomes a Path of Desperate Hope</h4><p class=\"css-16nhkrn\">The recent surge at the Mexican border is likely to grow as more migrants, mostly Haitian, risk everything negotiating the notorious Darién Gap on their way to the United States.</p><p class=\"css-15w69y9\">By Julie Turkewitz, Natalie Kitroeff, Sofía Villamil and Federico Rios</p><span class=\"css-bc0f0m\"><div class=\"css-1rq7uyl\"></div><span class=\"css-h4mf4\">PRINT EDITION</span>Sights on U.S., Migrants Flood Perilous Jungle<span class=\"css-1t2tqhf\">|</span>October 3, 2021, Page A1</span></a></div><figure class=\"css-tap2ym\" aria-label=\"media\" role=\"group\"><div><img alt=\"\" class=\"css-rq4mmj\" src=\"https://static01.nyt.com/images/2021/10/02/world/02colombia-darien-top-2/02colombia-darien-top-2-threeByTwoSmallAt2X.jpg?quality=75&amp;auto=webp&amp;disable=upscale\" srcset=\"https://static01.nyt.com/images/2021/10/02/world/02colombia-darien-top-2/02colombia-darien-top-2-thumbWide.jpg 190w,https://static01.nyt.com/images/2021/10/02/world/02colombia-darien-top-2/02colombia-darien-top-2-videoThumb.jpg 75w,https://static01.nyt.com/images/2021/10/02/world/02colombia-darien-top-2/02colombia-darien-top-2-videoLarge.jpg 768w,https://static01.nyt.com/images/2021/10/02/world/02colombia-darien-top-2/02colombia-darien-top-2-mediumThreeByTwo210.jpg 210w,https://static01.nyt.com/images/2021/10/02/world/02colombia-darien-top-2/02colombia-darien-top-2-mediumThreeByTwo225.jpg 225w,https://static01.nyt.com/images/2021/10/02/world/02colombia-darien-top-2/02colombia-darien-top-2-mediumThreeByTwo440.jpg 440w,https://static01.nyt.com/images/2021/10/02/world/02colombia-darien-top-2/02colombia-darien-top-2-mediumThreeByTwo252.jpg 252w,https://static01.nyt.com/images/2021/10/02/world/02colombia-darien-top-2/02colombia-darien-top-2-mediumThreeByTwo378.jpg 378w,https://static01.nyt.com/images/2021/10/02/world/02colombia-darien-top-2/02colombia-darien-top-2-threeByTwoLargeAt2X.jpg 1928w,https://static01.nyt.com/images/2021/10/02/world/02colombia-darien-top-2/02colombia-darien-top-2-threeByTwoMediumAt2X.jpg 1500w,https://static01.nyt.com/images/2021/10/02/world/02colombia-darien-top-2/02colombia-darien-top-2-threeByTwoSmallAt2X.jpg 600w\" sizes=\"(max-width: 600px) 120px, (max-width: 1024px) 165px, 205px\" decoding=\"async\" width=\"1\" height=\"1\"></div><figcaption class=\"css-13o4bnb e18f7pbr0\"></figcaption></figure></div></div></li><li class=\"css-1yvwzdo\"><div class=\"css-142l3g4\" data-testid=\"StandardAd\"><h3 class=\"css-131kqdc\">Advertisement</h3><a href=\"#after-dfp-ad-mid1\" style=\"position: absolute; width: 1px; height: 1px; margin: -1px; padding: 0px; border: 0px; clip: rect(0px, 0px, 0px, 0px); overflow: hidden;\">Continue reading the main story</a><div class=\"ad dfp-ad-mid1-wrapper\" id=\"dfp-ad-mid1\" data-google-query-id=\"CNaIhZ3wvfMCFUMfZQodsdsGYQ\" style=\"text-align: center; height: 100%;\"><div id=\"google_ads_iframe_/29390238/nyt/search_0__container__\" style=\"border: 0pt none;\"><iframe id=\"google_ads_iframe_/29390238/nyt/search_0\" title=\"3rd party ad content\" name=\"google_ads_iframe_/29390238/nyt/search_0\" width=\"970\" height=\"250\" scrolling=\"no\" marginwidth=\"0\" marginheight=\"0\" frameborder=\"0\" allow=\"attribution-reporting\" srcdoc=\"\" data-google-container-id=\"1\" style=\"border: 0px; vertical-align: bottom;\" data-load-complete=\"true\"></iframe></div></div><div id=\"after-dfp-ad-mid1\"></div></div></li><li class=\"css-1l4w6pd\" data-testid=\"search-bodega-result\"><div class=\"css-1bdu3ax\"><span data-testid=\"todays-date\" aria-label=\"September 30\" class=\"css-17ubb9w\">Sept. 30</span><div class=\"css-1i8vfl5\"><div class=\"css-e1lvw9\"><p class=\"css-myxawk\">Sports</p><a href=\"/2021/09/30/sports/mlb-climate-change-players-for-the-planet.html?searchResultPosition=5\"><h4 class=\"css-2fgx4k\">The Environment Affects Baseball. These Players Want to Help.</h4><p class=\"css-16nhkrn\">Beach cleanups, plastic reduction, rethinking travel: A group of major leaguers is pushing back in a wasteful sport.</p><p class=\"css-15w69y9\">By James Wagner</p><span class=\"css-bc0f0m\"><div class=\"css-1rq7uyl\"></div><span class=\"css-h4mf4\">PRINT EDITION</span>Baseball Can Be a Greener Game<span class=\"css-1t2tqhf\">|</span>October 1, 2021, Page B7</span></a></div><figure class=\"css-tap2ym\" aria-label=\"media\" role=\"group\"><div><img alt=\"\" class=\"css-rq4mmj\" src=\"https://static01.nyt.com/images/2021/09/30/sports/baseball/mlb-environment/mlb-environment-threeByTwoSmallAt2X.jpg?quality=75&amp;auto=webp&amp;disable=upscale\" srcset=\"https://static01.nyt.com/images/2021/09/30/sports/baseball/mlb-environment/mlb-environment-thumbWide.jpg 190w,https://static01.nyt.com/images/2021/09/30/sports/baseball/mlb-environment/mlb-environment-videoThumb.jpg 75w,https://static01.nyt.com/images/2021/09/30/sports/baseball/mlb-environment/mlb-environment-videoLarge.jpg 768w,https://static01.nyt.com/images/2021/09/30/sports/baseball/mlb-environment/mlb-environment-mediumThreeByTwo210.jpg 210w,https://static01.nyt.com/images/2021/09/30/sports/baseball/mlb-environment/mlb-environment-mediumThreeByTwo225.jpg 225w,https://static01.nyt.com/images/2021/09/30/sports/baseball/mlb-environment/mlb-environment-mediumThreeByTwo440.jpg 440w,https://static01.nyt.com/images/2021/09/30/sports/baseball/mlb-environment/mlb-environment-mediumThreeByTwo252.jpg 252w,https://static01.nyt.com/images/2021/09/30/sports/baseball/mlb-environment/mlb-environment-mediumThreeByTwo378.jpg 378w,https://static01.nyt.com/images/2021/09/30/sports/baseball/mlb-environment/mlb-environment-threeByTwoLargeAt2X.jpg 3211w,https://static01.nyt.com/images/2021/09/30/sports/baseball/mlb-environment/mlb-environment-threeByTwoMediumAt2X.jpg 1500w,https://static01.nyt.com/images/2021/09/30/sports/baseball/mlb-environment/mlb-environment-threeByTwoSmallAt2X.jpg 600w\" sizes=\"(max-width: 600px) 120px, (max-width: 1024px) 165px, 205px\" decoding=\"async\" width=\"1\" height=\"1\"></div><figcaption class=\"css-13o4bnb e18f7pbr0\"></figcaption></figure></div></div></li><li class=\"css-1l4w6pd\" data-testid=\"search-bodega-result\"><div class=\"css-1kl114x\"><span data-testid=\"todays-date\" aria-label=\"September 29\" class=\"css-17ubb9w\">Sept. 29</span><div class=\"css-1i8vfl5\"><div class=\"css-e1lvw9\"><p class=\"css-myxawk\">Book Review</p><a href=\"/2021/09/29/books/review/how-the-animal-world-is-adapting-to-climate-change.html?searchResultPosition=6\"><h4 class=\"css-2fgx4k\">How the Animal World Is Adapting to Climate Change</h4><p class=\"css-16nhkrn\">In “Hurricane Lizards and Plastic Squid,” Thor Hanson looks at the evolutionary shifts already taking place as ecosystems and weather patterns change.</p><p class=\"css-15w69y9\">By Jonathan Balcombe</p><span class=\"css-bc0f0m\"><div class=\"css-1rq7uyl\"></div><span class=\"css-h4mf4\">PRINT EDITION</span>Adaptation<span class=\"css-1t2tqhf\">|</span>October 31, 2021</span></a></div><figure class=\"css-tap2ym\" aria-label=\"media\" role=\"group\"><div><img alt=\"A group of little auks or dovekies (Alle alle) at their nesting site on a rocky hillside at Varsolbukta in Bellsund, which is a 20 km long sound and part of the Svalbard archipelago of Norway.\" class=\"css-rq4mmj\" src=\"https://static01.nyt.com/images/2021/09/28/books/28Balcombe3/28Balcombe3-threeByTwoSmallAt2X.jpg?quality=75&amp;auto=webp&amp;disable=upscale\" srcset=\"https://static01.nyt.com/images/2021/09/28/books/28Balcombe3/28Balcombe3-thumbWide.jpg 190w,https://static01.nyt.com/images/2021/09/28/books/28Balcombe3/28Balcombe3-videoThumb.jpg 75w,https://static01.nyt.com/images/2021/09/28/books/28Balcombe3/28Balcombe3-videoLarge.jpg 768w,https://static01.nyt.com/images/2021/09/28/books/28Balcombe3/28Balcombe3-mediumThreeByTwo210.jpg 210w,https://static01.nyt.com/images/2021/09/28/books/28Balcombe3/28Balcombe3-mediumThreeByTwo225.jpg 225w,https://static01.nyt.com/images/2021/09/28/books/28Balcombe3/28Balcombe3-mediumThreeByTwo440.jpg 440w,https://static01.nyt.com/images/2021/09/28/books/28Balcombe3/28Balcombe3-mediumThreeByTwo252.jpg 252w,https://static01.nyt.com/images/2021/09/28/books/28Balcombe3/28Balcombe3-mediumThreeByTwo378.jpg 378w,https://static01.nyt.com/images/2021/09/28/books/28Balcombe3/28Balcombe3-threeByTwoLargeAt2X.jpg 4990w,https://static01.nyt.com/images/2021/09/28/books/28Balcombe3/28Balcombe3-threeByTwoMediumAt2X.jpg 1500w,https://static01.nyt.com/images/2021/09/28/books/28Balcombe3/28Balcombe3-threeByTwoSmallAt2X.jpg 600w\" sizes=\"(max-width: 600px) 120px, (max-width: 1024px) 165px, 205px\" decoding=\"async\" width=\"1\" height=\"1\"></div><figcaption class=\"css-13o4bnb e18f7pbr0\"></figcaption></figure></div></div></li><li class=\"css-1l4w6pd\" data-testid=\"search-bodega-result\"><div class=\"css-1kl114x\"><span data-testid=\"todays-date\" aria-label=\"September 28\" class=\"css-17ubb9w\">Sept. 28</span><div class=\"css-1i8vfl5\"><div class=\"css-e1lvw9\"><p class=\"css-myxawk\">Science</p><a href=\"/2021/09/28/science/microfiber-pollution-svalbard.html?searchResultPosition=7\"><h4 class=\"css-2fgx4k\">This Fjord Shows Even Small Populations Create Giant Microfiber Pollution</h4><p class=\"css-16nhkrn\">Researchers found that one tiny Arctic village’s unfiltered sewage produces as much microplastic as the treated waste of more than a million people.</p><p class=\"css-15w69y9\">By Jessica Leigh Hester</p><span class=\"css-bc0f0m\"><div class=\"css-1rq7uyl\"></div><span class=\"css-h4mf4\">PRINT EDITION</span>Village in the Arctic Has Big-City Pollution<span class=\"css-1t2tqhf\">|</span>September 28, 2021, Page D3</span></a></div><figure class=\"css-tap2ym\" aria-label=\"media\" role=\"group\"><div><img alt=\"Longyearbyen, on the Adventfjorden bay in Norway’s Svalbard archipelago. A study found that the tiny village emits roughly as many microplastics as a wastewater treatment plant near Vancouver.\" class=\"css-rq4mmj\" src=\"https://static01.nyt.com/images/2021/09/28/science/28sci-island/28sci-island-threeByTwoSmallAt2X.jpg?quality=75&amp;auto=webp&amp;disable=upscale\" srcset=\"https://static01.nyt.com/images/2021/09/28/science/28sci-island/28sci-island-thumbWide.jpg 190w,https://static01.nyt.com/images/2021/09/28/science/28sci-island/28sci-island-videoThumb.jpg 75w,https://static01.nyt.com/images/2021/09/28/science/28sci-island/28sci-island-videoLarge.jpg 768w,https://static01.nyt.com/images/2021/09/28/science/28sci-island/28sci-island-mediumThreeByTwo210.jpg 210w,https://static01.nyt.com/images/2021/09/28/science/28sci-island/28sci-island-mediumThreeByTwo225.jpg 225w,https://static01.nyt.com/images/2021/09/28/science/28sci-island/28sci-island-mediumThreeByTwo440.jpg 440w,https://static01.nyt.com/images/2021/09/28/science/28sci-island/28sci-island-mediumThreeByTwo252.jpg 252w,https://static01.nyt.com/images/2021/09/28/science/28sci-island/28sci-island-mediumThreeByTwo378.jpg 378w,https://static01.nyt.com/images/2021/09/28/science/28sci-island/28sci-island-threeByTwoLargeAt2X.jpg 5135w,https://static01.nyt.com/images/2021/09/28/science/28sci-island/28sci-island-threeByTwoMediumAt2X.jpg 1500w,https://static01.nyt.com/images/2021/09/28/science/28sci-island/28sci-island-threeByTwoSmallAt2X.jpg 600w\" sizes=\"(max-width: 600px) 120px, (max-width: 1024px) 165px, 205px\" decoding=\"async\" width=\"1\" height=\"1\"></div><figcaption class=\"css-13o4bnb e18f7pbr0\"></figcaption></figure></div></div></li><li class=\"css-1l4w6pd\" data-testid=\"search-bodega-result\"><div class=\"css-1kl114x\"><span data-testid=\"todays-date\" aria-label=\"September 26\" class=\"css-17ubb9w\">Sept. 26</span><div class=\"css-1i8vfl5\"><div class=\"css-e1lvw9\"><p class=\"css-myxawk\">Fashion</p><a href=\"/2021/09/26/fashion/watches-social-responsibility.html?searchResultPosition=8\"><h4 class=\"css-2fgx4k\">Watches, Unusual Names and Social Responsibility</h4><p class=\"css-16nhkrn\">Brands like DecideAndAct and Triwa say they create timepieces with the planet in mind.</p><p class=\"css-15w69y9\">By Rachel Felder</p><span class=\"css-bc0f0m\"><div class=\"css-1rq7uyl\"></div><span class=\"css-h4mf4\">PRINT EDITION</span>Seeking social responsibility<span class=\"css-1t2tqhf\">|</span>September 27, 2021, Page S3</span></a></div><figure class=\"css-tap2ym\" aria-label=\"media\" role=\"group\"><div><img alt=\"Triwa, whose name is an acronym for Transforming the Industry of Watches, sells watches starting at less than $200.&nbsp;\" class=\"css-rq4mmj\" src=\"https://static01.nyt.com/images/2021/09/27/multimedia/27sp-watchesroundup-inyt3/27sp-watchesroundup-inyt3-threeByTwoSmallAt2X.jpg?quality=75&amp;auto=webp&amp;disable=upscale\" srcset=\"https://static01.nyt.com/images/2021/09/27/multimedia/27sp-watchesroundup-inyt3/27sp-watchesroundup-inyt3-thumbWide.jpg 190w,https://static01.nyt.com/images/2021/09/27/multimedia/27sp-watchesroundup-inyt3/27sp-watchesroundup-inyt3-videoThumb.jpg 75w,https://static01.nyt.com/images/2021/09/27/multimedia/27sp-watchesroundup-inyt3/27sp-watchesroundup-inyt3-videoLarge.jpg 768w,https://static01.nyt.com/images/2021/09/27/multimedia/27sp-watchesroundup-inyt3/27sp-watchesroundup-inyt3-mediumThreeByTwo210.jpg 210w,https://static01.nyt.com/images/2021/09/27/multimedia/27sp-watchesroundup-inyt3/27sp-watchesroundup-inyt3-mediumThreeByTwo225.jpg 225w,https://static01.nyt.com/images/2021/09/27/multimedia/27sp-watchesroundup-inyt3/27sp-watchesroundup-inyt3-mediumThreeByTwo440.jpg 440w,https://static01.nyt.com/images/2021/09/27/multimedia/27sp-watchesroundup-inyt3/27sp-watchesroundup-inyt3-mediumThreeByTwo252.jpg 252w,https://static01.nyt.com/images/2021/09/27/multimedia/27sp-watchesroundup-inyt3/27sp-watchesroundup-inyt3-mediumThreeByTwo378.jpg 378w,https://static01.nyt.com/images/2021/09/27/multimedia/27sp-watchesroundup-inyt3/27sp-watchesroundup-inyt3-threeByTwoLargeAt2X.jpg 5197w,https://static01.nyt.com/images/2021/09/27/multimedia/27sp-watchesroundup-inyt3/27sp-watchesroundup-inyt3-threeByTwoMediumAt2X.jpg 1500w,https://static01.nyt.com/images/2021/09/27/multimedia/27sp-watchesroundup-inyt3/27sp-watchesroundup-inyt3-threeByTwoSmallAt2X.jpg 600w\" sizes=\"(max-width: 600px) 120px, (max-width: 1024px) 165px, 205px\" decoding=\"async\" width=\"1\" height=\"1\"></div><figcaption class=\"css-13o4bnb e18f7pbr0\"></figcaption></figure></div></div></li><li class=\"css-1l4w6pd\" data-testid=\"search-bodega-result\"><div class=\"css-1kl114x\"><span data-testid=\"todays-date\" aria-label=\"September 25\" class=\"css-17ubb9w\">Sept. 25</span><div class=\"css-1i8vfl5\"><div class=\"css-e1lvw9\"><p class=\"css-myxawk\">Travel</p><a href=\"/2021/09/25/travel/whales-quebec.html?searchResultPosition=9\"><h4 class=\"css-2fgx4k\">Whales So Close You Can Touch Them: A Family Adventure in Canada</h4><p class=\"css-16nhkrn\">Recalling a prepandemic trip to a watery landscape in Quebec province: “The adventure we had feels like one plucked from a world I can no longer reach, not unlike watching the water, waiting for a whale to crest.”</p><p class=\"css-15w69y9\">By Ronda Kaysen</p></a></div><figure class=\"css-tap2ym\" aria-label=\"media\" role=\"group\"><div><img alt=\"In the province of Quebec, near Tadoussac — a picturesque town where the Saguenay meets the St. Lawrence River — whale-watching is a serious endeavor. Above, a humpback whale in the St. Lawrence River.\" class=\"css-rq4mmj\" src=\"https://static01.nyt.com/images/2021/09/24/travel/24canada-whales1/merlin_195192564_916c599f-6080-44bc-892f-73add779fe5d-threeByTwoSmallAt2X.jpg?quality=75&amp;auto=webp&amp;disable=upscale\" srcset=\"https://static01.nyt.com/images/2021/09/24/travel/24canada-whales1/merlin_195192564_916c599f-6080-44bc-892f-73add779fe5d-thumbWide.jpg 190w,https://static01.nyt.com/images/2021/09/24/travel/24canada-whales1/merlin_195192564_916c599f-6080-44bc-892f-73add779fe5d-videoThumb.jpg 75w,https://static01.nyt.com/images/2021/09/24/travel/24canada-whales1/merlin_195192564_916c599f-6080-44bc-892f-73add779fe5d-videoLarge.jpg 768w,https://static01.nyt.com/images/2021/09/24/travel/24canada-whales1/merlin_195192564_916c599f-6080-44bc-892f-73add779fe5d-mediumThreeByTwo210.jpg 210w,https://static01.nyt.com/images/2021/09/24/travel/24canada-whales1/merlin_195192564_916c599f-6080-44bc-892f-73add779fe5d-mediumThreeByTwo225.jpg 225w,https://static01.nyt.com/images/2021/09/24/travel/24canada-whales1/merlin_195192564_916c599f-6080-44bc-892f-73add779fe5d-mediumThreeByTwo440.jpg 440w,https://static01.nyt.com/images/2021/09/24/travel/24canada-whales1/merlin_195192564_916c599f-6080-44bc-892f-73add779fe5d-mediumThreeByTwo252.jpg 252w,https://static01.nyt.com/images/2021/09/24/travel/24canada-whales1/merlin_195192564_916c599f-6080-44bc-892f-73add779fe5d-mediumThreeByTwo378.jpg 378w,https://static01.nyt.com/images/2021/09/24/travel/24canada-whales1/merlin_195192564_916c599f-6080-44bc-892f-73add779fe5d-threeByTwoLargeAt2X.jpg 8640w,https://static01.nyt.com/images/2021/09/24/travel/24canada-whales1/merlin_195192564_916c599f-6080-44bc-892f-73add779fe5d-threeByTwoMediumAt2X.jpg 1500w,https://static01.nyt.com/images/2021/09/24/travel/24canada-whales1/merlin_195192564_916c599f-6080-44bc-892f-73add779fe5d-threeByTwoSmallAt2X.jpg 600w\" sizes=\"(max-width: 600px) 120px, (max-width: 1024px) 165px, 205px\" decoding=\"async\" width=\"1\" height=\"1\"></div><figcaption class=\"css-13o4bnb e18f7pbr0\"></figcaption></figure></div></div></li><li class=\"css-1l4w6pd\" data-testid=\"search-bodega-result\"><div class=\"css-1kl114x\"><span data-testid=\"todays-date\" aria-label=\"September 20\" class=\"css-17ubb9w\">Sept. 20</span><div class=\"css-1i8vfl5\"><div class=\"css-e1lvw9\"><p class=\"css-myxawk\">Business</p><a href=\"/2021/09/20/business/supply-chain-shortages-nonprofits.html?searchResultPosition=10\"><h4 class=\"css-2fgx4k\">Global Supply Shortages Reach All the Way to a Haitian Aid Group</h4><p class=\"css-16nhkrn\">Continuing disruption to factory production and bottlenecks in shipping are leaving nonprofit groups short of goods for vulnerable communities worldwide.</p><p class=\"css-15w69y9\">By Peter S. Goodman</p><span class=\"css-bc0f0m\"><div class=\"css-1rq7uyl\"></div><span class=\"css-h4mf4\">PRINT EDITION</span>For Neediest, Shortages Hit Hardest<span class=\"css-1t2tqhf\">|</span>September 21, 2021, Page B1</span></a></div><figure class=\"css-tap2ym\" aria-label=\"media\" role=\"group\"><div><img alt=\"The Soles4Souls warehouse in Alabama is suffering shortages of footwear as manufacturers that donate inventory keep more of it in a frantic bid to satisfy retail customers.\" class=\"css-rq4mmj\" src=\"https://static01.nyt.com/images/2021/09/20/business/20supplychain-nonprofits-1/20supplychain-nonprofits-1-threeByTwoSmallAt2X.jpg?quality=75&amp;auto=webp&amp;disable=upscale\" srcset=\"https://static01.nyt.com/images/2021/09/20/business/20supplychain-nonprofits-1/20supplychain-nonprofits-1-thumbWide.jpg 190w,https://static01.nyt.com/images/2021/09/20/business/20supplychain-nonprofits-1/20supplychain-nonprofits-1-videoThumb.jpg 75w,https://static01.nyt.com/images/2021/09/20/business/20supplychain-nonprofits-1/20supplychain-nonprofits-1-videoLarge.jpg 768w,https://static01.nyt.com/images/2021/09/20/business/20supplychain-nonprofits-1/20supplychain-nonprofits-1-mediumThreeByTwo210.jpg 210w,https://static01.nyt.com/images/2021/09/20/business/20supplychain-nonprofits-1/20supplychain-nonprofits-1-mediumThreeByTwo225.jpg 225w,https://static01.nyt.com/images/2021/09/20/business/20supplychain-nonprofits-1/20supplychain-nonprofits-1-mediumThreeByTwo440.jpg 440w,https://static01.nyt.com/images/2021/09/20/business/20supplychain-nonprofits-1/20supplychain-nonprofits-1-mediumThreeByTwo252.jpg 252w,https://static01.nyt.com/images/2021/09/20/business/20supplychain-nonprofits-1/20supplychain-nonprofits-1-mediumThreeByTwo378.jpg 378w,https://static01.nyt.com/images/2021/09/20/business/20supplychain-nonprofits-1/20supplychain-nonprofits-1-threeByTwoLargeAt2X.jpg 7848w,https://static01.nyt.com/images/2021/09/20/business/20supplychain-nonprofits-1/20supplychain-nonprofits-1-threeByTwoMediumAt2X.jpg 1500w,https://static01.nyt.com/images/2021/09/20/business/20supplychain-nonprofits-1/20supplychain-nonprofits-1-threeByTwoSmallAt2X.jpg 600w\" sizes=\"(max-width: 600px) 120px, (max-width: 1024px) 165px, 205px\" decoding=\"async\" width=\"1\" height=\"1\"></div><figcaption class=\"css-13o4bnb e18f7pbr0\"></figcaption></figure></div></div></li></ol><div class=\"css-1xl7hww\"><a class=\"css-jrsrjc\" data-testid=\"search-result-qualtrics-link\" href=\"http://nyt.qualtrics.com/jfe/form/SV_ehZpyzWtbwO9HVj?v=a\" target=\"_blank\" rel=\"noopener noreferrer\">Have search feedback? Let us know what you think.</a></div></div>\n",
    "#<h4 class=\"css-2fgx4k\">The Blistering Speed of SailGP</h4>\n",
    "news_box = news_soup.find('div', class_='css-46b038')\n",
    "#tag_box <a class=\"e1he184d0 listing css-ls6ubs eempp8w5\" data-testid=\"internal-tile\" data-gtm-id=\"tile\" href=\"/articles/the-solution-to-plastic-pollution\"><div class=\"image-wrapper\"><div class=\"event-details\"></div><svg width=\"32\" height=\"32\" class=\"css-g26fo1 e1e03nkd0\" alt=\"Article content icon\" viewBox=\"0 0 32 32\" xmlns=\"http://www.w3.org/2000/svg\"><title>Article</title><rect width=\"32\" height=\"32\" rx=\"2\" fill-opacity=\"0.9\"></rect><path fill-rule=\"evenodd\" clip-rule=\"evenodd\" d=\"M7.57163 13.5975C7.60645 13.0791 8.02924 12.689 8.51597 12.7261C10.3719 12.8675 12.2036 13.2588 13.9672 13.8905C14.4297 14.0562 14.6786 14.5898 14.523 15.0824C14.3674 15.575 13.8664 15.84 13.4039 15.6743C11.7817 15.0932 10.097 14.7333 8.38986 14.6032C7.90314 14.5661 7.5368 14.1159 7.57163 13.5975Z\"></path><path fill-rule=\"evenodd\" clip-rule=\"evenodd\" d=\"M7.57163 17.5975C7.60645 17.0791 8.02924 16.689 8.51597 16.7261C10.3719 16.8675 12.2036 17.2588 13.9672 17.8905C14.4297 18.0562 14.6786 18.5898 14.523 19.0824C14.3674 19.575 13.8664 19.84 13.4039 19.6743C11.7817 19.0932 10.097 18.7333 8.38986 18.6032C7.90314 18.5661 7.5368 18.1159 7.57163 17.5975Z\"></path><path fill-rule=\"evenodd\" clip-rule=\"evenodd\" d=\"M24.4284 13.5975C24.3936 13.0791 23.9708 12.689 23.484 12.7261C21.6281 12.8675 19.7964 13.2588 18.0328 13.8905C17.5703 14.0562 17.3214 14.5898 17.477 15.0824C17.6326 15.575 18.1336 15.84 18.5961 15.6743C20.2183 15.0932 21.903 14.7333 23.6101 14.6032C24.0969 14.5661 24.4632 14.1159 24.4284 13.5975Z\"></path><path fill-rule=\"evenodd\" clip-rule=\"evenodd\" d=\"M24.4284 17.5975C24.3936 17.0791 23.9708 16.689 23.484 16.7261C21.6281 16.8675 19.7964 17.2588 18.0328 17.8905C17.5703 18.0562 17.3214 18.5898 17.477 19.0824C17.6326 19.575 18.1336 19.84 18.5961 19.6743C20.2183 19.0932 21.903 18.7333 23.6101 18.6032C24.0969 18.5661 24.4632 18.1159 24.4284 17.5975Z\"></path><path fill-rule=\"evenodd\" clip-rule=\"evenodd\" d=\"M16 8.93823C14.8933 8.19989 12.02 6.79948 6.07584 6.72367C5.94159 6.72205 5.81242 6.77285 5.71798 6.86441C5.6226 6.95637 5.56915 7.08089 5.56935 7.21063V22.5748C5.56711 22.8377 5.78435 23.0541 6.05824 23.0618C10.7781 23.1229 13.5646 24.0148 15.0693 24.7495C15.4637 24.9421 15.77 25.1238 16 25.277V8.93823ZM7.06935 8.25066V21.5872C10.7357 21.7284 13.2502 22.3679 14.9166 23.0414C14.9683 23.0623 15.0192 23.0832 15.0693 23.1042V10.1222C14.7967 9.94941 14.382 9.72154 13.7946 9.48367C12.5084 8.96291 10.3756 8.38723 7.06935 8.25066Z\"></path><path fill-rule=\"evenodd\" clip-rule=\"evenodd\" d=\"M16 8.93823C17.1067 8.19989 19.98 6.79948 25.9242 6.72367C26.0584 6.72205 26.1876 6.77285 26.282 6.86441C26.3774 6.95637 26.4308 7.08089 26.4306 7.21063V22.5748C26.4329 22.8377 26.2156 23.0541 25.9418 23.0618C21.2219 23.1229 18.4354 24.0148 16.9307 24.7495C16.5363 24.9421 16.23 25.1238 16 25.277V8.93823ZM24.9306 8.25066V21.5872C21.2643 21.7284 18.7498 22.3679 17.0834 23.0414C17.0317 23.0623 16.9808 23.0832 16.9307 23.1042V10.1222C17.2033 9.94941 17.618 9.72154 18.2054 9.48367C19.4916 8.96291 21.6244 8.38723 24.9306 8.25066Z\"></path></svg><img src=\"//images.ctfassets.net/isq5xwjfoz2m/4niVxAt0jSOwf3SCcdlJTk/7826d4b7dcc632fdb68e3f8fa2f37c12/Listing_-_Article_-_The_solution_to_plastic_pollution.png\" alt=\"\"></div><div class=\"content-wrapper\"><div class=\"tile-tags-container\"><ul class=\"css-u4z6zh e14ahen60\"><li color=\"#0081c7\" class=\"css-1nt39sq e15dqdia2\"><p data-testid=\"Plastics-tag-atom\">Plastics</p></li></ul></div><div class=\"text-content\"><h4 class=\"tile-title css-rmwpnv e15dqdia11\">The solution to plastic pollution</h4><p class=\"css-1o3qgj6 e15dqdia8\">One of the most analytically robust studies produced on ocean plastics.</p></div></div></a>\n",
    "news = news_box.find_all('h4', class_='css-2fgx4k')\n",
    "\n",
    "for new in news:\n",
    "    title = new.text\n",
    "    print(title)"
   ]
  },
  {
   "cell_type": "code",
   "execution_count": 28,
   "metadata": {},
   "outputs": [
    {
     "data": {
      "text/plain": [
       "'The Blistering Speed of SailGP'"
      ]
     },
     "execution_count": 28,
     "metadata": {},
     "output_type": "execute_result"
    }
   ],
   "source": [
    "# Find the first `h4` tag and save it as `news_title`.\n",
    "news_title = news_box.find('h4', class_='css-2fgx4k').get_text()\n",
    "news_title"
   ]
  },
  {
   "cell_type": "code",
   "execution_count": 31,
   "metadata": {},
   "outputs": [
    {
     "data": {
      "text/plain": [
       "'The catamarans use wings, not sails, and hydrofoils help the boat fly over the water. It’s like a fast video game, with consequences.'"
      ]
     },
     "execution_count": 31,
     "metadata": {},
     "output_type": "execute_result"
    }
   ],
   "source": [
    "# Find the paragraph text and save as 'news_p'.\n",
    "# html: <p class=\"css-16nhkrn\">The actor bought a wooden boat on a whim. It has taken him on a journey.</p>\n",
    "news_p = news_box.find('p', class_='css-16nhkrn').get_text()\n",
    "news_p"
   ]
  },
  {
   "cell_type": "code",
   "execution_count": 25,
   "metadata": {},
   "outputs": [
    {
     "data": {
      "text/plain": [
       "'SailingThe Blistering Speed of SailGPThe catamarans use wings, not sails, and hydrofoils help the boat fly over the water. It’s like a fast video game, with consequences.By Kimball LivingstonPRINT EDITIONThe blistering speed of SailGP|October 9, 2021, Page A13'"
      ]
     },
     "execution_count": 25,
     "metadata": {},
     "output_type": "execute_result"
    }
   ],
   "source": [
    "# Scrape first paragraph.\n",
    "# html: <div class=\"css-1i8vfl5\"><div class=\"css-e1lvw9\"><p class=\"css-myxawk\">Style</p><a href=\"/2021/10/04/style/matthew-rhys-boat.html?searchResultPosition=2\"><h4 class=\"css-2fgx4k\">Matthew Rhys Hits the Seas</h4><p class=\"css-16nhkrn\">The actor bought a wooden boat on a whim. It has taken him on a journey.</p><p class=\"css-15w69y9\">By Gabrielle Bluestone</p><span class=\"css-bc0f0m\"><div class=\"css-1rq7uyl\"></div><span class=\"css-h4mf4\">PRINT EDITION</span>Matthew Rhys and His Vessel Prove Seaworthy<span class=\"css-1t2tqhf\">|</span>October 7, 2021, Page D7</span></a></div><figure class=\"css-tap2ym\" aria-label=\"media\" role=\"group\"><div><img alt=\"\" class=\"css-rq4mmj\" src=\"https://static01.nyt.com/images/2021/10/07/fashion/RHYS2/RHYS2-threeByTwoSmallAt2X.jpg?quality=75&amp;auto=webp&amp;disable=upscale\" srcset=\"https://static01.nyt.com/images/2021/10/07/fashion/RHYS2/RHYS2-thumbWide.jpg 190w,https://static01.nyt.com/images/2021/10/07/fashion/RHYS2/RHYS2-videoThumb.jpg 75w,https://static01.nyt.com/images/2021/10/07/fashion/RHYS2/RHYS2-videoLarge.jpg 768w,https://static01.nyt.com/images/2021/10/07/fashion/RHYS2/RHYS2-mediumThreeByTwo210.jpg 210w,https://static01.nyt.com/images/2021/10/07/fashion/RHYS2/RHYS2-mediumThreeByTwo225.jpg 225w,https://static01.nyt.com/images/2021/10/07/fashion/RHYS2/RHYS2-mediumThreeByTwo440.jpg 440w,https://static01.nyt.com/images/2021/10/07/fashion/RHYS2/RHYS2-mediumThreeByTwo252.jpg 252w,https://static01.nyt.com/images/2021/10/07/fashion/RHYS2/RHYS2-mediumThreeByTwo378.jpg 378w,https://static01.nyt.com/images/2021/10/07/fashion/RHYS2/RHYS2-threeByTwoLargeAt2X.jpg 4256w,https://static01.nyt.com/images/2021/10/07/fashion/RHYS2/RHYS2-threeByTwoMediumAt2X.jpg 1500w,https://static01.nyt.com/images/2021/10/07/fashion/RHYS2/RHYS2-threeByTwoSmallAt2X.jpg 600w\" sizes=\"(max-width: 600px) 120px, (max-width: 1024px) 165px, 205px\" decoding=\"async\" width=\"1\" height=\"1\"></div><figcaption class=\"css-13o4bnb e18f7pbr0\"></figcaption></figure></div>\n",
    "#<p class=\"css-16nhkrn\">The catamarans use wings, not sails, and hydrofoils help the boat fly over the water. It’s like a fast video game, with consequences.</p>\n",
    "info = news_soup.find('div', class_='css-1i8vfl5').get_text()\n",
    "info\n"
   ]
  },
  {
   "cell_type": "code",
   "execution_count": 47,
   "metadata": {},
   "outputs": [
    {
     "name": "stdout",
     "output_type": "stream",
     "text": [
      "The catamarans use wings, not sails, and hydrofoils help the boat fly over the water. It’s like a fast video game, with consequences.\n",
      "The actor bought a wooden boat on a whim. It has taken him on a journey.\n",
      "“It’s not about giving away money we’ve made. It’s about how we make money a different way.”\n",
      "The recent surge at the Mexican border is likely to grow as more migrants, mostly Haitian, risk everything negotiating the notorious Darién Gap on their way to the United States.\n",
      "Beach cleanups, plastic reduction, rethinking travel: A group of major leaguers is pushing back in a wasteful sport.\n",
      "In “Hurricane Lizards and Plastic Squid,” Thor Hanson looks at the evolutionary shifts already taking place as ecosystems and weather patterns change.\n",
      "Researchers found that one tiny Arctic village’s unfiltered sewage produces as much microplastic as the treated waste of more than a million people.\n",
      "Brands like DecideAndAct and Triwa say they create timepieces with the planet in mind.\n",
      "Recalling a prepandemic trip to a watery landscape in Quebec province: “The adventure we had feels like one plucked from a world I can no longer reach, not unlike watching the water, waiting for a whale to crest.”\n",
      "Continuing disruption to factory production and bottlenecks in shipping are leaving nonprofit groups short of goods for vulnerable communities worldwide.\n"
     ]
    }
   ],
   "source": [
    "# Print First Paragraphs of All Articles.\n",
    "#<h4 class=\"css-2fgx4k\">Matthew Rhys Hits the Seas</h4>\n",
    "#tag_box <a class=\"e1he184d0 listing css-ls6ubs eempp8w5\" data-testid=\"internal-tile\" data-gtm-id=\"tile\" href=\"/articles/the-solution-to-plastic-pollution\"><div class=\"image-wrapper\"><div class=\"event-details\"></div><svg width=\"32\" height=\"32\" class=\"css-g26fo1 e1e03nkd0\" alt=\"Article content icon\" viewBox=\"0 0 32 32\" xmlns=\"http://www.w3.org/2000/svg\"><title>Article</title><rect width=\"32\" height=\"32\" rx=\"2\" fill-opacity=\"0.9\"></rect><path fill-rule=\"evenodd\" clip-rule=\"evenodd\" d=\"M7.57163 13.5975C7.60645 13.0791 8.02924 12.689 8.51597 12.7261C10.3719 12.8675 12.2036 13.2588 13.9672 13.8905C14.4297 14.0562 14.6786 14.5898 14.523 15.0824C14.3674 15.575 13.8664 15.84 13.4039 15.6743C11.7817 15.0932 10.097 14.7333 8.38986 14.6032C7.90314 14.5661 7.5368 14.1159 7.57163 13.5975Z\"></path><path fill-rule=\"evenodd\" clip-rule=\"evenodd\" d=\"M7.57163 17.5975C7.60645 17.0791 8.02924 16.689 8.51597 16.7261C10.3719 16.8675 12.2036 17.2588 13.9672 17.8905C14.4297 18.0562 14.6786 18.5898 14.523 19.0824C14.3674 19.575 13.8664 19.84 13.4039 19.6743C11.7817 19.0932 10.097 18.7333 8.38986 18.6032C7.90314 18.5661 7.5368 18.1159 7.57163 17.5975Z\"></path><path fill-rule=\"evenodd\" clip-rule=\"evenodd\" d=\"M24.4284 13.5975C24.3936 13.0791 23.9708 12.689 23.484 12.7261C21.6281 12.8675 19.7964 13.2588 18.0328 13.8905C17.5703 14.0562 17.3214 14.5898 17.477 15.0824C17.6326 15.575 18.1336 15.84 18.5961 15.6743C20.2183 15.0932 21.903 14.7333 23.6101 14.6032C24.0969 14.5661 24.4632 14.1159 24.4284 13.5975Z\"></path><path fill-rule=\"evenodd\" clip-rule=\"evenodd\" d=\"M24.4284 17.5975C24.3936 17.0791 23.9708 16.689 23.484 16.7261C21.6281 16.8675 19.7964 17.2588 18.0328 17.8905C17.5703 18.0562 17.3214 18.5898 17.477 19.0824C17.6326 19.575 18.1336 19.84 18.5961 19.6743C20.2183 19.0932 21.903 18.7333 23.6101 18.6032C24.0969 18.5661 24.4632 18.1159 24.4284 17.5975Z\"></path><path fill-rule=\"evenodd\" clip-rule=\"evenodd\" d=\"M16 8.93823C14.8933 8.19989 12.02 6.79948 6.07584 6.72367C5.94159 6.72205 5.81242 6.77285 5.71798 6.86441C5.6226 6.95637 5.56915 7.08089 5.56935 7.21063V22.5748C5.56711 22.8377 5.78435 23.0541 6.05824 23.0618C10.7781 23.1229 13.5646 24.0148 15.0693 24.7495C15.4637 24.9421 15.77 25.1238 16 25.277V8.93823ZM7.06935 8.25066V21.5872C10.7357 21.7284 13.2502 22.3679 14.9166 23.0414C14.9683 23.0623 15.0192 23.0832 15.0693 23.1042V10.1222C14.7967 9.94941 14.382 9.72154 13.7946 9.48367C12.5084 8.96291 10.3756 8.38723 7.06935 8.25066Z\"></path><path fill-rule=\"evenodd\" clip-rule=\"evenodd\" d=\"M16 8.93823C17.1067 8.19989 19.98 6.79948 25.9242 6.72367C26.0584 6.72205 26.1876 6.77285 26.282 6.86441C26.3774 6.95637 26.4308 7.08089 26.4306 7.21063V22.5748C26.4329 22.8377 26.2156 23.0541 25.9418 23.0618C21.2219 23.1229 18.4354 24.0148 16.9307 24.7495C16.5363 24.9421 16.23 25.1238 16 25.277V8.93823ZM24.9306 8.25066V21.5872C21.2643 21.7284 18.7498 22.3679 17.0834 23.0414C17.0317 23.0623 16.9808 23.0832 16.9307 23.1042V10.1222C17.2033 9.94941 17.618 9.72154 18.2054 9.48367C19.4916 8.96291 21.6244 8.38723 24.9306 8.25066Z\"></path></svg><img src=\"//images.ctfassets.net/isq5xwjfoz2m/4niVxAt0jSOwf3SCcdlJTk/7826d4b7dcc632fdb68e3f8fa2f37c12/Listing_-_Article_-_The_solution_to_plastic_pollution.png\" alt=\"\"></div><div class=\"content-wrapper\"><div class=\"tile-tags-container\"><ul class=\"css-u4z6zh e14ahen60\"><li color=\"#0081c7\" class=\"css-1nt39sq e15dqdia2\"><p data-testid=\"Plastics-tag-atom\">Plastics</p></li></ul></div><div class=\"text-content\"><h4 class=\"tile-title css-rmwpnv e15dqdia11\">The solution to plastic pollution</h4><p class=\"css-1o3qgj6 e15dqdia8\">One of the most analytically robust studies produced on ocean plastics.</p></div></div></a>\n",
    "news_p = news_box.find_all('p', class_='css-16nhkrn')\n",
    "for p in news_p:\n",
    "    p = p.text\n",
    "    print(p)"
   ]
  },
  {
   "cell_type": "markdown",
   "metadata": {},
   "source": [
    "## Next steps:\n",
    "    *Print Titles and First Paragraphs of all Articles in the same function\n",
    "    *Print link to Article\n",
    "    *Include link to Articles in function"
   ]
  },
  {
   "cell_type": "markdown",
   "metadata": {},
   "source": [
    "### Mission to Mars Code that may be helpful:"
   ]
  },
  {
   "cell_type": "code",
   "execution_count": 13,
   "metadata": {},
   "outputs": [
    {
     "data": {
      "text/plain": [
       "'image/featured/mars3.jpg'"
      ]
     },
     "execution_count": 13,
     "metadata": {},
     "output_type": "execute_result"
    }
   ],
   "source": [
    "# Find the relative image url\n",
    "img_url_rel = img_soup.find('img', class_='fancybox-image').get('src')\n",
    "img_url_rel"
   ]
  },
  {
   "cell_type": "code",
   "execution_count": 14,
   "metadata": {},
   "outputs": [
    {
     "data": {
      "text/plain": [
       "'https://spaceimages-mars.com/image/featured/mars3.jpg'"
      ]
     },
     "execution_count": 14,
     "metadata": {},
     "output_type": "execute_result"
    }
   ],
   "source": [
    "# Use the base URL to create an absolute URL\n",
    "img_url = f'https://spaceimages-mars.com/{img_url_rel}'\n",
    "img_url"
   ]
  },
  {
   "cell_type": "code",
   "execution_count": 16,
   "metadata": {},
   "outputs": [
    {
     "data": {
      "text/html": [
       "<div>\n",
       "<style scoped>\n",
       "    .dataframe tbody tr th:only-of-type {\n",
       "        vertical-align: middle;\n",
       "    }\n",
       "\n",
       "    .dataframe tbody tr th {\n",
       "        vertical-align: top;\n",
       "    }\n",
       "\n",
       "    .dataframe thead th {\n",
       "        text-align: right;\n",
       "    }\n",
       "</style>\n",
       "<table border=\"1\" class=\"dataframe\">\n",
       "  <thead>\n",
       "    <tr style=\"text-align: right;\">\n",
       "      <th></th>\n",
       "      <th>Mars</th>\n",
       "      <th>Earth</th>\n",
       "    </tr>\n",
       "    <tr>\n",
       "      <th>description</th>\n",
       "      <th></th>\n",
       "      <th></th>\n",
       "    </tr>\n",
       "  </thead>\n",
       "  <tbody>\n",
       "    <tr>\n",
       "      <th>Mars - Earth Comparison</th>\n",
       "      <td>Mars</td>\n",
       "      <td>Earth</td>\n",
       "    </tr>\n",
       "    <tr>\n",
       "      <th>Diameter:</th>\n",
       "      <td>6,779 km</td>\n",
       "      <td>12,742 km</td>\n",
       "    </tr>\n",
       "    <tr>\n",
       "      <th>Mass:</th>\n",
       "      <td>6.39 × 10^23 kg</td>\n",
       "      <td>5.97 × 10^24 kg</td>\n",
       "    </tr>\n",
       "    <tr>\n",
       "      <th>Moons:</th>\n",
       "      <td>2</td>\n",
       "      <td>1</td>\n",
       "    </tr>\n",
       "    <tr>\n",
       "      <th>Distance from Sun:</th>\n",
       "      <td>227,943,824 km</td>\n",
       "      <td>149,598,262 km</td>\n",
       "    </tr>\n",
       "    <tr>\n",
       "      <th>Length of Year:</th>\n",
       "      <td>687 Earth days</td>\n",
       "      <td>365.24 days</td>\n",
       "    </tr>\n",
       "    <tr>\n",
       "      <th>Temperature:</th>\n",
       "      <td>-87 to -5 °C</td>\n",
       "      <td>-88 to 58°C</td>\n",
       "    </tr>\n",
       "  </tbody>\n",
       "</table>\n",
       "</div>"
      ],
      "text/plain": [
       "                                    Mars            Earth\n",
       "description                                              \n",
       "Mars - Earth Comparison             Mars            Earth\n",
       "Diameter:                       6,779 km        12,742 km\n",
       "Mass:                    6.39 × 10^23 kg  5.97 × 10^24 kg\n",
       "Moons:                                 2                1\n",
       "Distance from Sun:        227,943,824 km   149,598,262 km\n",
       "Length of Year:           687 Earth days      365.24 days\n",
       "Temperature:                -87 to -5 °C      -88 to 58°C"
      ]
     },
     "execution_count": 16,
     "metadata": {},
     "output_type": "execute_result"
    }
   ],
   "source": [
    "df = pd.read_html('https://galaxyfacts-mars.com')[0]\n",
    "df.columns=['description', 'Mars', 'Earth']\n",
    "df.set_index('description', inplace=True)\n",
    "df"
   ]
  },
  {
   "cell_type": "code",
   "execution_count": 17,
   "metadata": {},
   "outputs": [
    {
     "data": {
      "text/plain": [
       "'<table border=\"1\" class=\"dataframe\">\\n  <thead>\\n    <tr style=\"text-align: right;\">\\n      <th></th>\\n      <th>Mars</th>\\n      <th>Earth</th>\\n    </tr>\\n    <tr>\\n      <th>description</th>\\n      <th></th>\\n      <th></th>\\n    </tr>\\n  </thead>\\n  <tbody>\\n    <tr>\\n      <th>Mars - Earth Comparison</th>\\n      <td>Mars</td>\\n      <td>Earth</td>\\n    </tr>\\n    <tr>\\n      <th>Diameter:</th>\\n      <td>6,779 km</td>\\n      <td>12,742 km</td>\\n    </tr>\\n    <tr>\\n      <th>Mass:</th>\\n      <td>6.39 × 10^23 kg</td>\\n      <td>5.97 × 10^24 kg</td>\\n    </tr>\\n    <tr>\\n      <th>Moons:</th>\\n      <td>2</td>\\n      <td>1</td>\\n    </tr>\\n    <tr>\\n      <th>Distance from Sun:</th>\\n      <td>227,943,824 km</td>\\n      <td>149,598,262 km</td>\\n    </tr>\\n    <tr>\\n      <th>Length of Year:</th>\\n      <td>687 Earth days</td>\\n      <td>365.24 days</td>\\n    </tr>\\n    <tr>\\n      <th>Temperature:</th>\\n      <td>-87 to -5 °C</td>\\n      <td>-88 to 58°C</td>\\n    </tr>\\n  </tbody>\\n</table>'"
      ]
     },
     "execution_count": 17,
     "metadata": {},
     "output_type": "execute_result"
    }
   ],
   "source": [
    "df.to_html()"
   ]
  },
  {
   "cell_type": "code",
   "execution_count": 48,
   "metadata": {},
   "outputs": [],
   "source": [
    "browser.quit()"
   ]
  },
  {
   "cell_type": "markdown",
   "metadata": {},
   "source": [
    "## Visit the NASA Mars News Site"
   ]
  },
  {
   "cell_type": "code",
   "execution_count": 140,
   "metadata": {},
   "outputs": [],
   "source": [
    "# 2. Create a list to hold the images and titles.\n",
    "hemisphere_image_urls = []\n",
    "\n",
    "# 3. Write code to retrieve the image urls and titles for each hemisphere.\n",
    "for i in range (0,4):\n",
    "    hemispheres = {}\n",
    "    full_img = browser.find_by_tag('h3')[i]\n",
    "    full_img.click()\n",
    "    html = browser.html\n",
    "    mars_soup = soup(html, 'html.parser')\n",
    "    full_img_link = browser.links.find_by_text('Sample').first\n",
    "    img_title = mars_soup.find('h2', class_='title').get_text()\n",
    "    hemispheres['img_url'] = full_img_link['href']\n",
    "    hemispheres['title'] = img_title\n",
    "    hemisphere_image_urls.append(hemispheres)\n",
    "    browser.back() "
   ]
  },
  {
   "cell_type": "code",
   "execution_count": 141,
   "metadata": {},
   "outputs": [
    {
     "data": {
      "text/plain": [
       "[{'img_url': 'https://marshemispheres.com/images/full.jpg',\n",
       "  'title': 'Cerberus Hemisphere Enhanced'},\n",
       " {'img_url': 'https://marshemispheres.com/images/schiaparelli_enhanced-full.jpg',\n",
       "  'title': 'Schiaparelli Hemisphere Enhanced'},\n",
       " {'img_url': 'https://marshemispheres.com/images/syrtis_major_enhanced-full.jpg',\n",
       "  'title': 'Syrtis Major Hemisphere Enhanced'},\n",
       " {'img_url': 'https://marshemispheres.com/images/valles_marineris_enhanced-full.jpg',\n",
       "  'title': 'Valles Marineris Hemisphere Enhanced'}]"
      ]
     },
     "execution_count": 141,
     "metadata": {},
     "output_type": "execute_result"
    }
   ],
   "source": [
    "# 4. Print the list that holds the dictionary of each image url and title.\n",
    "hemisphere_image_urls"
   ]
  },
  {
   "cell_type": "code",
   "execution_count": 142,
   "metadata": {},
   "outputs": [],
   "source": [
    "# 5. Quit the browser\n",
    "browser.quit()"
   ]
  }
 ],
 "metadata": {
  "kernelspec": {
   "display_name": "PythonData",
   "language": "python",
   "name": "pythondata"
  },
  "language_info": {
   "codemirror_mode": {
    "name": "ipython",
    "version": 3
   },
   "file_extension": ".py",
   "mimetype": "text/x-python",
   "name": "python",
   "nbconvert_exporter": "python",
   "pygments_lexer": "ipython3",
   "version": "3.7.9"
  }
 },
 "nbformat": 4,
 "nbformat_minor": 4
}
